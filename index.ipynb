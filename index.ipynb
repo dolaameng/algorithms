{
 "cells": [
  {
   "cell_type": "markdown",
   "metadata": {},
   "source": [
    "## Refreshing my memory of algorithms for job interview\n",
    "\n",
    "1. [Elements of Programming Interviews (EPI)](http://elementsofprogramminginterviews.com/)\n",
    "2. [The Algorithm Design Manual (TADM)](http://www.algorist.com/)\n",
    "3. [Design of Computer Programs by Peter Norvig (DCP)](https://www.udacity.com/course/cs212)\n",
    "4. [Peter Norvig's blog (Norvig)](http://norvig.com/)"
   ]
  },
  {
   "cell_type": "markdown",
   "metadata": {},
   "source": [
    "## Notes\n",
    "\n",
    "1. it is always important to think about how to test your algorithm - even it is not straightforward at the beginning\n",
    "2. it is important to be able to think what the solution is like in your head when you are writing a solution - before you run it.\n",
    "3. it is important to verablly describe a solution (to yourself or ideally to another person) before you start to write the code"
   ]
  },
  {
   "cell_type": "code",
   "execution_count": null,
   "metadata": {
    "collapsed": false
   },
   "outputs": [],
   "source": []
  }
 ],
 "metadata": {
  "kernelspec": {
   "display_name": "Python 3",
   "language": "python",
   "name": "python3"
  },
  "language_info": {
   "codemirror_mode": {
    "name": "ipython",
    "version": 3
   },
   "file_extension": ".py",
   "mimetype": "text/x-python",
   "name": "python",
   "nbconvert_exporter": "python",
   "pygments_lexer": "ipython3",
   "version": "3.6.3"
  }
 },
 "nbformat": 4,
 "nbformat_minor": 2
}
