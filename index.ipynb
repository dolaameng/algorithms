{
 "metadata": {
  "name": "",
  "signature": "sha256:76dc35b68a252686a4d898a8221e47e1ca97a39407e397326003f7de6cd40a6b"
 },
 "nbformat": 3,
 "nbformat_minor": 0,
 "worksheets": [
  {
   "cells": [
    {
     "cell_type": "markdown",
     "metadata": {},
     "source": [
      "## Refreshing my memory of algorithms for job interview\n",
      "\n",
      "1. [Elements of Programming Interviews (EPI)](http://elementsofprogramminginterviews.com/)\n",
      "2. [The Algorithm Design Manual (TADM)](http://www.algorist.com/)\n",
      "3. [Design of Computer Programs by Peter Norvig (DCP)](https://www.udacity.com/course/cs212)\n",
      "4. [Peter Norvig's blog (Norvig)](http://norvig.com/)"
     ]
    },
    {
     "cell_type": "markdown",
     "metadata": {},
     "source": [
      "## Notes\n",
      "\n",
      "1. it is always important to think about how to test your algorithm - even it is not straightforward at the beginning"
     ]
    },
    {
     "cell_type": "code",
     "collapsed": false,
     "input": [],
     "language": "python",
     "metadata": {},
     "outputs": []
    }
   ],
   "metadata": {}
  }
 ]
}