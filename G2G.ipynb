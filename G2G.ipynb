{
 "cells": [
  {
   "cell_type": "markdown",
   "metadata": {},
   "source": [
    "*** Algorithms is about finding structures in your data and making use of them. ***"
   ]
  },
  {
   "cell_type": "markdown",
   "metadata": {},
   "source": [
    "# Array"
   ]
  },
  {
   "cell_type": "markdown",
   "metadata": {},
   "source": [
    "## Find all pairs from two sorted array where the sum is k\n",
    "- method 1: iterate one array and bin-search in the other, nlog(m) complexity\n",
    "- method 2: hashing, always think of hashing for arrays O(n) + O(m)"
   ]
  },
  {
   "cell_type": "code",
   "execution_count": 1,
   "metadata": {
    "collapsed": true
   },
   "outputs": [],
   "source": [
    "xs1 = [1, 3, 5, 7]\n",
    "xs2 = [2, 3, 5, 8]\n",
    "k = 10"
   ]
  },
  {
   "cell_type": "code",
   "execution_count": 2,
   "metadata": {
    "collapsed": false
   },
   "outputs": [],
   "source": [
    "## method 1 binary search by taking advantage of sorted array\n",
    "## nlog(m) complexity\n",
    "\n",
    "import bisect\n",
    "def found(xs, x):\n",
    "    i = bisect.bisect_left(xs, x)\n",
    "    return i < len(xs) and xs[i] == x\n",
    "\n",
    "def sum_pairs(xs1, xs2, k):\n",
    "    result = set()\n",
    "    for x1 in xs1:\n",
    "        x2 = k - x1\n",
    "        if found(xs2, x2):\n",
    "            result.add((x1, x2))\n",
    "    return result\n",
    "        \n",
    "\n",
    "assert sum_pairs(xs1, xs2, k) == {(5, 5), (7, 3)}"
   ]
  },
  {
   "cell_type": "code",
   "execution_count": 5,
   "metadata": {
    "collapsed": false
   },
   "outputs": [],
   "source": [
    "## method 2 - hashing \n",
    "def sum_pairs(xs1, xs2, k):\n",
    "    h1 = set()\n",
    "    result = set()\n",
    "    for x1 in xs1:\n",
    "        h1.add(x1)\n",
    "    for x2 in xs2:\n",
    "        if (k-x2) in h1:\n",
    "            result.add( (k-x2, x2) )\n",
    "    return result\n",
    "\n",
    "assert sum_pairs(xs1, xs2, k) == {(5, 5), (7, 3)}"
   ]
  },
  {
   "cell_type": "markdown",
   "metadata": {},
   "source": [
    "## Find k numbers with most occurences in the given array"
   ]
  },
  {
   "cell_type": "code",
   "execution_count": null,
   "metadata": {
    "collapsed": true
   },
   "outputs": [],
   "source": []
  }
 ],
 "metadata": {
  "kernelspec": {
   "display_name": "Python 3",
   "language": "python",
   "name": "python3"
  },
  "language_info": {
   "codemirror_mode": {
    "name": "ipython",
    "version": 3
   },
   "file_extension": ".py",
   "mimetype": "text/x-python",
   "name": "python",
   "nbconvert_exporter": "python",
   "pygments_lexer": "ipython3",
   "version": "3.6.0"
  }
 },
 "nbformat": 4,
 "nbformat_minor": 2
}
