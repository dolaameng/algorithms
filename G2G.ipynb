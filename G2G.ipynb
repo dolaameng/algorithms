{
 "cells": [
  {
   "cell_type": "markdown",
   "metadata": {},
   "source": [
    "*** Algorithms is about finding structures in your data and making use of them. ***"
   ]
  },
  {
   "cell_type": "markdown",
   "metadata": {},
   "source": [
    "# Array\n",
    "\n",
    "## Patterns of Array\n",
    "\n",
    "### search \n",
    "- for single, or group of, or beginning of certain elements \n",
    "- usually involves extended binary search (keep looking even after you found one)\n",
    "- with help of data strucutures such as heap, bst\n",
    "\n",
    "### pairs\n",
    "- pairs of constraints, e.g., sum, diff equal to k\n",
    "    - method 1: using hashing\n",
    "    - method 2: sort the array, use `two pointers approach` (invariants)\n",
    "        - for sum (or symmetry in pairs), use head-tail pointers\n",
    "        - for diff (or asymmetry in pairs), use head-head pointers (equivalent to negating the array first)\n",
    "- pairs of min/max\n",
    "    - usually it is starightforward enough after sorting the array\n",
    " \n",
    "### subarrays - solutions usually depend on the representations\n",
    "- represented as arbitrary gap between i, and j (e.g., sum of subarray closest to 0)\n",
    "- represented as two pointers (for min/max), one is fast one is slow, the optimal subarray solution is usually represented as the gap of the two pointers, e.g., (max sum of subarray)\n",
    "- represented as two pointers (for csp), right is moving first to meet the constraint, and left moves to form another solution - kinda like backtracking"
   ]
  },
  {
   "cell_type": "markdown",
   "metadata": {},
   "source": [
    "## Find all pairs from two sorted array where the sum is k\n",
    "- method 1: iterate one array and bin-search in the other, nlog(m) complexity\n",
    "- method 2: hashing, always think of hashing for arrays O(n) + O(m)"
   ]
  },
  {
   "cell_type": "code",
   "execution_count": 1,
   "metadata": {
    "collapsed": true
   },
   "outputs": [],
   "source": [
    "xs1 = [1, 3, 5, 7]\n",
    "xs2 = [2, 3, 5, 8]\n",
    "k = 10"
   ]
  },
  {
   "cell_type": "code",
   "execution_count": 2,
   "metadata": {
    "collapsed": false
   },
   "outputs": [],
   "source": [
    "## method 1 binary search by taking advantage of sorted array\n",
    "## nlog(m) complexity\n",
    "\n",
    "import bisect\n",
    "def found(xs, x):\n",
    "    i = bisect.bisect_left(xs, x)\n",
    "    return i < len(xs) and xs[i] == x\n",
    "\n",
    "def sum_pairs(xs1, xs2, k):\n",
    "    result = set()\n",
    "    for x1 in xs1:\n",
    "        x2 = k - x1\n",
    "        if found(xs2, x2):\n",
    "            result.add((x1, x2))\n",
    "    return result\n",
    "        \n",
    "\n",
    "assert sum_pairs(xs1, xs2, k) == {(5, 5), (7, 3)}"
   ]
  },
  {
   "cell_type": "code",
   "execution_count": 3,
   "metadata": {
    "collapsed": false
   },
   "outputs": [],
   "source": [
    "## method 2 - hashing \n",
    "def sum_pairs(xs1, xs2, k):\n",
    "    h1 = set()\n",
    "    result = set()\n",
    "    for x1 in xs1:\n",
    "        h1.add(x1)\n",
    "    for x2 in xs2:\n",
    "        if (k-x2) in h1:\n",
    "            result.add( (k-x2, x2) )\n",
    "    return result\n",
    "\n",
    "assert sum_pairs(xs1, xs2, k) == {(5, 5), (7, 3)}"
   ]
  },
  {
   "cell_type": "markdown",
   "metadata": {},
   "source": [
    "## Find k numbers with most occurences in the given array\n",
    "- Use a hash to count the occurances and then use a max heap to go through the hash - return the larger number when frequence calls a tie\n",
    "- O(n) complexity"
   ]
  },
  {
   "cell_type": "code",
   "execution_count": 41,
   "metadata": {
    "collapsed": false
   },
   "outputs": [],
   "source": [
    "xs = [3, 1, 4, 4, 5, 2, 6, 1, 3]\n",
    "k = 2\n",
    "\n",
    "from collections import defaultdict\n",
    "import heapq\n",
    "\n",
    "def top_k(xs, k):\n",
    "    counts = defaultdict(lambda : 0)\n",
    "    for x in xs:\n",
    "        counts[x] += 1\n",
    "    counts = iter(counts.items())\n",
    "    heap = []\n",
    "    for _ in range(k):\n",
    "        x, c = next(counts)\n",
    "        heap.append((c, x))\n",
    "    heapq.heapify(heap)\n",
    "    for x, c in counts:\n",
    "        heapq.heappushpop(heap, (c, x))\n",
    "    return [x for c,x in heapq.nlargest(k, heap)]\n",
    "\n",
    "assert top_k(xs, k) == [4, 3]"
   ]
  },
  {
   "cell_type": "markdown",
   "metadata": {
    "collapsed": true
   },
   "source": [
    "## find the subarray of an unsorted array, which has sum closest to 0"
   ]
  },
  {
   "cell_type": "code",
   "execution_count": 1,
   "metadata": {
    "collapsed": false
   },
   "outputs": [
    {
     "name": "stdout",
     "output_type": "stream",
     "text": [
      "(1, 3, 0)\n",
      "(2, 4, 1)\n"
     ]
    }
   ],
   "source": [
    "def zero_sub(xs):\n",
    "    accum_sum = []\n",
    "    s = 0\n",
    "    for i, x in enumerate(xs):\n",
    "        s += x\n",
    "        accum_sum.append((i, s))\n",
    "    accum_sum = sorted(accum_sum, key=lambda kv: kv[1])\n",
    "#     print(accum_sum)\n",
    "    start, end = 0, 0\n",
    "    min_sum = abs(sum(xs))\n",
    "    for i in range(1, len(accum_sum)):\n",
    "        i1, s1 = accum_sum[i-1]\n",
    "        i2, s2 = accum_sum[i]\n",
    "        s = s2 - s1 if i1 < i2 else s1 - s2\n",
    "        if abs(s) < abs(min_sum):\n",
    "            min_sum = s\n",
    "            start, end = min(i1, i2), max(i1, i2)\n",
    "    return (start+1, end, min_sum)\n",
    "\n",
    "xs = [-1, 3, 2, -5, 4]\n",
    "print(zero_sub(xs))\n",
    "\n",
    "xs = [2, -5, 4, -6, 3]\n",
    "print(zero_sub(xs))"
   ]
  },
  {
   "cell_type": "markdown",
   "metadata": {},
   "source": [
    "## for an array of distinct elements, find all triplets whose product is equal to given constant\n"
   ]
  },
  {
   "cell_type": "code",
   "execution_count": 3,
   "metadata": {
    "collapsed": false
   },
   "outputs": [],
   "source": [
    "xs = [1, 4, 6, 2, 3, 8]\n",
    "m = 24\n",
    "\n",
    "\n",
    "def find_triplets(xs, m):\n",
    "    h = {x: i for i, x in enumerate(xs)}\n",
    "    r = set()\n",
    "    for i1 in range(len(xs)):\n",
    "        for i2 in range(i1+1, len(xs)):\n",
    "            p = xs[i1] * xs[i2]\n",
    "            if p != 0 and m >= p and m % p == 0:\n",
    "                x3 = m // p\n",
    "                if x3 in h and h[x3] != i2 and h[x3] != i1:\n",
    "                    r.add(tuple(sorted([xs[i1], xs[i2], x3])))\n",
    "    return len(r)\n",
    "\n",
    "xs = [1, 4, 6, 2, 3, 8]\n",
    "m = 24\n",
    "assert find_triplets(xs, m) == 3\n",
    "\n",
    "xs = [0, 4, 6, 2, 3, 8]\n",
    "m = 18\n",
    "assert find_triplets(xs, m) == 0"
   ]
  },
  {
   "cell_type": "markdown",
   "metadata": {},
   "source": [
    "## find a pair of elements, each from two different arrays, by swapping them, we get the same sum for the two arrays"
   ]
  },
  {
   "cell_type": "code",
   "execution_count": 4,
   "metadata": {
    "collapsed": false
   },
   "outputs": [
    {
     "name": "stdout",
     "output_type": "stream",
     "text": [
      "{(2, 3)}\n",
      "{(5, 1), (6, 2), (7, 3)}\n"
     ]
    }
   ],
   "source": [
    "def swap_to_equal(xs, ys):\n",
    "    hys = set(ys)\n",
    "    sum_xs = sum(xs)\n",
    "    sum_ys = sum(ys)\n",
    "    target_sum = (sum_xs + sum_ys) // 2\n",
    "    change_for_xs = target_sum - sum_xs\n",
    "    result = set()\n",
    "    for x in xs:\n",
    "        y = change_for_xs + x\n",
    "        if y in hys:\n",
    "            result.add((x, y))\n",
    "    return result\n",
    "\n",
    "xs = [4, 1, 2, 1, 1, 2]\n",
    "ys = [1, 6, 3, 3]\n",
    "print(swap_to_equal(xs, ys))\n",
    "\n",
    "xs = [5, 7, 4, 6]\n",
    "ys = [1, 2, 3, 8]\n",
    "print(swap_to_equal(xs, ys))"
   ]
  },
  {
   "cell_type": "code",
   "execution_count": 9,
   "metadata": {
    "collapsed": false
   },
   "outputs": [
    {
     "name": "stdout",
     "output_type": "stream",
     "text": [
      "{(2, 3)}\n",
      "{(5, 1), (6, 2), (7, 3)}\n"
     ]
    }
   ],
   "source": [
    "## it is an variant of two pointers approach on pair difference\n",
    "def swap_to_equal(xs, ys):\n",
    "    xs = sorted(xs)\n",
    "    ys = sorted(ys)\n",
    "    sum_xs = sum(xs)\n",
    "    sum_ys = sum(ys)\n",
    "    ix = iy = 0\n",
    "    result = set()\n",
    "    while (ix < len(xs) and iy < len(ys)):\n",
    "        x, y = xs[ix], ys[iy]\n",
    "        if sum_xs - x + y < sum_ys - y + x:\n",
    "            iy += 1\n",
    "        elif sum_xs - x + y > sum_ys - y + x:\n",
    "            ix += 1\n",
    "        else:\n",
    "            result.add( (x, y) )\n",
    "            ix += 1\n",
    "            iy += 1\n",
    "    return result\n",
    "\n",
    "xs = [4, 1, 2, 1, 1, 2]\n",
    "ys = [1, 6, 3, 3]\n",
    "print(swap_to_equal(xs, ys))\n",
    "\n",
    "xs = [5, 7, 4, 6]\n",
    "ys = [1, 2, 3, 8]\n",
    "print(swap_to_equal(xs, ys))"
   ]
  },
  {
   "cell_type": "code",
   "execution_count": null,
   "metadata": {
    "collapsed": true
   },
   "outputs": [],
   "source": []
  },
  {
   "cell_type": "markdown",
   "metadata": {},
   "source": [
    "## find the pair of elements, each from one of two array, whose sum is equal to a given k\n",
    "- you can use hash\n",
    "- or use two pointers - popular with all CSP problem that has a partial order"
   ]
  },
  {
   "cell_type": "code",
   "execution_count": 9,
   "metadata": {
    "collapsed": false
   },
   "outputs": [
    {
     "name": "stdout",
     "output_type": "stream",
     "text": [
      "{(7, 3), (5, 5)}\n",
      "{(4, 5), (5, 4), (1, 8), (3, 6)}\n"
     ]
    }
   ],
   "source": [
    "## two pointers solution\n",
    "\n",
    "def foo(xs, ys, k):\n",
    "    xs = sorted(xs)\n",
    "    ys = sorted(ys)\n",
    "    ix, iy = 0, len(ys)-1\n",
    "    result = set()\n",
    "    while ix < len(xs) and iy > 0:\n",
    "        x, y = xs[ix], ys[iy]\n",
    "        if x + y < k:\n",
    "            ix += 1\n",
    "        elif x + y > k:\n",
    "            iy -= 1\n",
    "        else:\n",
    "            result.add((x, y))\n",
    "            ix += 1\n",
    "            iy -= 1\n",
    "    return result\n",
    "\n",
    "xs = [1, 3, 5, 7]\n",
    "ys = [2, 3, 5, 8]\n",
    "k = 10\n",
    "print(foo(xs, ys, k))\n",
    "\n",
    "xs = [1, 2, 3, 4, 5, 7, 11]\n",
    "ys = [2, 3, 4, 5, 6, 8, 12]\n",
    "k = 9\n",
    "print(foo(xs, ys, k))"
   ]
  },
  {
   "cell_type": "markdown",
   "metadata": {},
   "source": [
    "## find subarrays that have the same set of elements with the original one"
   ]
  },
  {
   "cell_type": "code",
   "execution_count": 1,
   "metadata": {
    "collapsed": false
   },
   "outputs": [
    {
     "name": "stdout",
     "output_type": "stream",
     "text": [
      "[(0, 2), (0, 3), (0, 4), (1, 3), (1, 4)]\n",
      "[(0, 4), (1, 4)]\n",
      "[(0, 1), (0, 2), (0, 3), (0, 4), (1, 3), (1, 4), (2, 3), (2, 4), (3, 4)]\n"
     ]
    }
   ],
   "source": [
    "from collections import defaultdict\n",
    "def sub_of_unique(xs):\n",
    "    n_unique = len(set(xs))\n",
    "    n = len(xs)\n",
    "    \n",
    "    result = []\n",
    "    window = {}\n",
    "    start, end = 0, 0\n",
    "    while start < n:\n",
    "        while end < n and len(window) < n_unique:\n",
    "            x = xs[end]\n",
    "            window[x] = window.get(x, 0) + 1\n",
    "            end += 1\n",
    "        if len(window) == n_unique:\n",
    "            for post_end in range(end-1, n):\n",
    "                result.append((start, post_end))\n",
    "        window[xs[start]] -= 1\n",
    "        if window[xs[start]] == 0:\n",
    "            del window[xs[start]]\n",
    "        start += 1\n",
    "    return result\n",
    "\n",
    "xs = [2, 1, 3, 2, 3] # 5\n",
    "print(sub_of_unique(xs))\n",
    "xs = [2, 4, 5, 2, 1] # 2\n",
    "print(sub_of_unique(xs))\n",
    "xs = [2, 4, 4, 2, 4] # 9\n",
    "print(sub_of_unique(xs))"
   ]
  },
  {
   "cell_type": "markdown",
   "metadata": {
    "collapsed": true
   },
   "source": [
    "## find the pair of elements, each from one of two arrays, whose abs-diff is equal to k. One element in an array can only be used zero or once\n",
    "- Another application of \"invariants\" (or two pointers)\n",
    "- firtly, the two pointers are not one from beginning, the other from the back - because we want to make the pair as close as possible\n",
    "- the proof is similiar though: at a moment, anything on the left of the pivots should not be able to be a solution. "
   ]
  },
  {
   "cell_type": "code",
   "execution_count": 21,
   "metadata": {
    "collapsed": false
   },
   "outputs": [
    {
     "name": "stdout",
     "output_type": "stream",
     "text": [
      "[(1, 4), (2, 5), (3, 6), (4, 7)]\n",
      "[(10, 12), (15, 17)]\n"
     ]
    }
   ],
   "source": [
    "def find_pairs(xs, ys, k):\n",
    "    xs = sorted(xs)\n",
    "    ys = sorted(ys)\n",
    "    ix, iy = 0, 0\n",
    "    \n",
    "    pairs = []\n",
    "    while ix < len(xs) and iy < len(ys):\n",
    "        x, y = xs[ix], ys[iy]\n",
    "        if abs(x-y) <= k:\n",
    "            pairs.append((x, y))\n",
    "            ix += 1\n",
    "            iy += 1\n",
    "        elif x < y:\n",
    "            ix += 1\n",
    "        else:\n",
    "            iy += 1\n",
    "    return pairs\n",
    "\n",
    "xs = [3, 4, 5, 2, 1]\n",
    "ys = [6, 5, 4, 7]\n",
    "k = 3\n",
    "\n",
    "print(find_pairs(xs, ys, k))\n",
    "\n",
    "xs = [10, 15, 20]\n",
    "ys = [17, 12, 24]\n",
    "k = 3\n",
    "\n",
    "print(find_pairs(xs, ys, k))"
   ]
  },
  {
   "cell_type": "markdown",
   "metadata": {},
   "source": [
    "## Given an array having N integers, find the contiguous subarray having sum as great as possible,, but not greater than M.\n",
    "- https://www.quora.com/Given-an-array-of-integers-A-and-an-integer-k-find-a-subarray-that-contains-the-largest-sum-subject-to-a-constraint-that-the-sum-is-less-than-k\n",
    "- O(nlogn)"
   ]
  },
  {
   "cell_type": "code",
   "execution_count": 87,
   "metadata": {
    "collapsed": false
   },
   "outputs": [
    {
     "name": "stdout",
     "output_type": "stream",
     "text": [
      "-1\n",
      "3\n",
      "3\n"
     ]
    }
   ],
   "source": [
    "import bisect\n",
    "def best_subarray(xs, k):\n",
    "    cumsums = [0]\n",
    "    cum = 0\n",
    "    best = -float(\"inf\")\n",
    "    for x in xs:\n",
    "        cum += x\n",
    "        \n",
    "        i = bisect.bisect_left(cumsums, cum-k)\n",
    "        # if use bisect_right, when the last element is equal, it will return len(xs)\n",
    "        \n",
    "        if i != len(cumsums):\n",
    "#             print(cumsums, cum, cumsums[i], best)\n",
    "            best = max(cum-cumsums[i], best)\n",
    "        bisect.insort(cumsums, cum)\n",
    "        \n",
    "    return best\n",
    "        \n",
    "    \n",
    "    \n",
    "xs = [2, 2, -1]\n",
    "k = 0\n",
    "print(best_subarray(xs, k))\n",
    "\n",
    "xs = [2, 2, -1]\n",
    "k = 3\n",
    "print(best_subarray(xs, k))\n",
    "\n",
    "xs = [2, 2, -2, 5, 1]\n",
    "k = 3\n",
    "print(best_subarray(xs, k))"
   ]
  },
  {
   "cell_type": "code",
   "execution_count": 89,
   "metadata": {
    "collapsed": false
   },
   "outputs": [
    {
     "data": {
      "text/plain": [
       "(2, 1)"
      ]
     },
     "execution_count": 89,
     "metadata": {},
     "output_type": "execute_result"
    }
   ],
   "source": [
    "bisect.bisect_right([1, 2], 2), bisect.bisect_left([1, 2], 2)"
   ]
  },
  {
   "cell_type": "code",
   "execution_count": 90,
   "metadata": {
    "collapsed": true
   },
   "outputs": [],
   "source": [
    "## two pointers solution"
   ]
  },
  {
   "cell_type": "code",
   "execution_count": null,
   "metadata": {
    "collapsed": true
   },
   "outputs": [],
   "source": []
  }
 ],
 "metadata": {
  "kernelspec": {
   "display_name": "Python 3",
   "language": "python",
   "name": "python3"
  },
  "language_info": {
   "codemirror_mode": {
    "name": "ipython",
    "version": 3
   },
   "file_extension": ".py",
   "mimetype": "text/x-python",
   "name": "python",
   "nbconvert_exporter": "python",
   "pygments_lexer": "ipython3",
   "version": "3.6.0"
  }
 },
 "nbformat": 4,
 "nbformat_minor": 2
}
