{
 "metadata": {
  "name": "",
  "signature": "sha256:caf17cde9e5f7515c69b0ec63d333ec38d4d1b61636325253f8a1944f7c7c56e"
 },
 "nbformat": 3,
 "nbformat_minor": 0,
 "worksheets": [
  {
   "cells": [
    {
     "cell_type": "markdown",
     "metadata": {},
     "source": [
      "# Recursion\n",
      "\n",
      "## when to use it\n",
      "- usually it comes up naturally when the definition of the problem is recursive\n",
      "\n",
      "## how to use it\n",
      "- it is important to find the \"right\" parameters for the recursive function - n is usually a parameter, but there could be more, e.g, in hanoii tower problem. Output may be a list of steps for search problem, or something esle\n",
      "- two key elements: (1) base condition (2) recursive step\n",
      "- whenever possible, prefer tail recursion to others"
     ]
    },
    {
     "cell_type": "markdown",
     "metadata": {},
     "source": [
      "### 16.1 hanoi problem"
     ]
    },
    {
     "cell_type": "code",
     "collapsed": false,
     "input": [
      "def hanoi(s, t, m, n):\n",
      "    \"\"\"\n",
      "    s, t, m: source tower, target tower, middle tower \n",
      "    n: n discs\n",
      "    \"\"\"\n",
      "    steps = []\n",
      "    if n == 1:\n",
      "        steps.append( (s, t) ) ## s->t\n",
      "    else:\n",
      "        steps += hanoi(s, m, t, n-1)\n",
      "        steps.append((s, t))\n",
      "        steps += hanoi(m, t, s, n-1)\n",
      "    return steps\n",
      "\n",
      "def interpret_hanoi(solution):\n",
      "    return map(lambda step: \"->\".join(step), solution)"
     ],
     "language": "python",
     "metadata": {},
     "outputs": [],
     "prompt_number": 18
    },
    {
     "cell_type": "code",
     "collapsed": false,
     "input": [
      "print interpret_hanoi(hanoi(\"p1\", \"p2\", \"p3\", 3))\n",
      "print interpret_hanoi(hanoi(\"p2\", \"p1\", \"p3\", 3))"
     ],
     "language": "python",
     "metadata": {},
     "outputs": [
      {
       "output_type": "stream",
       "stream": "stdout",
       "text": [
        "['p1->p2', 'p1->p3', 'p2->p3', 'p1->p2', 'p3->p1', 'p3->p2', 'p1->p2']\n",
        "['p2->p1', 'p2->p3', 'p1->p3', 'p2->p1', 'p3->p2', 'p3->p1', 'p2->p1']\n"
       ]
      }
     ],
     "prompt_number": 19
    },
    {
     "cell_type": "markdown",
     "metadata": {},
     "source": [
      "### 16.2 simple regular expression\n",
      "\n",
      "both the definition and match rules are recursively defined\n",
      "\n",
      "1. definition of simple re and exetend re\n",
      "\n",
      "> sre := [a-zA-Z]\n",
      "\n",
      "> sre := .\n",
      "\n",
      "> sre := .* | [a-zA-Z]*\n",
      "\n",
      "> sre := (sre)(sre)\n",
      "\n",
      "> ere := ^sre\n",
      "\n",
      "> ere :=sre$\n",
      "\n",
      "> ere := ^sre$\n",
      "\n",
      "\n",
      "2. match rule, for pattern r and string s, $s^i$ is the suffix of s by removing first $i$ chars:\n",
      "\n",
      "    - sre matches s iff sre matches a substring of s\n",
      "        - $c_1c_2r^2$ matches $s$ if $c_2!=.$: c1 matches s[1] and $c_2r^2$ strictly matches $s^1$ \n",
      "        - $c_1c_2r^2$ matches $s$ if $c_2=.$: c1* matches subststring s1 and $c_2r^2$ strictly matches substring s2 \n",
      "    - ^sre matches s iff sre matches a prefix of s\n",
      "    - sre$ matches s iff sre matches a suffix of s\n",
      "    "
     ]
    },
    {
     "cell_type": "code",
     "collapsed": false,
     "input": [
      "def all_prefix(s):\n",
      "    return [s[:i] for i in xrange(0, len(s)+1)]\n",
      "\n",
      "def all_suffix(s):\n",
      "    return [s[i:] for i in xrange(len(s)+1)]\n",
      "\n",
      "def all_substring(s):\n",
      "    return [s[i:j] for i in xrange(len(s)+1)\n",
      "            for j in xrange(i+1, len(s)+1)] + [\"\"]\n",
      "    #return sum([all_suffix(pre) for pre in all_prefix(s)], [])\n",
      "    \n",
      "def all_partition(s):\n",
      "    return [(s[:i], s[i:]) for i in xrange(0, len(s)+1)]\n",
      "\n",
      "## ere match\n",
      "def match(r, s):\n",
      "    if r[0] == \"^\" and r[-1]==\"$\":\n",
      "        return smatch(r[1:-1], s)\n",
      "    elif r[0] == \"^\":\n",
      "        return any([smatch(r[1:], ss) for ss in all_prefix(s)])\n",
      "    elif r[-1] == \"$\":\n",
      "        return any(smatch(r[:-1], ss) for ss in all_suffix(s))\n",
      "    else:\n",
      "        return any(smatch(r, ss) for ss in all_substring(s))\n",
      "\n",
      "## sre match - strictly match\n",
      "def smatch(r, s):\n",
      "    if len(r) <= 1:\n",
      "        if r == \"\":\n",
      "            return s == \"\"\n",
      "        else:\n",
      "            if r[0] == \".\":\n",
      "                return True\n",
      "            else:\n",
      "                return r == s\n",
      "    if len(r) >= 2 and r[1] == \"*\":\n",
      "        if r[0] == \".\":\n",
      "            return any([smatch(r[2:], ss) for ss in all_suffix(s)])\n",
      "        else:\n",
      "            return any([ (p == \"\" or set(p) == set(r[0])) and smatch(r[2:], s) \n",
      "                        for p, s in all_partition(s)])\n",
      "    elif len(r) >= 2:\n",
      "        if r[0] == \".\":\n",
      "            return smatch(r[1:], s[1:])\n",
      "        else:\n",
      "            return smatch(r[:1], s[:1]) and smatch(r[1:], s[1:])"
     ],
     "language": "python",
     "metadata": {},
     "outputs": [],
     "prompt_number": 133
    },
    {
     "cell_type": "code",
     "collapsed": false,
     "input": [
      "## test \n",
      "print all_prefix(\"hello\")\n",
      "print all_suffix(\"hello\")\n",
      "print all_substring(\"hello\")\n",
      "print all_partition(\"hello\")"
     ],
     "language": "python",
     "metadata": {},
     "outputs": [
      {
       "output_type": "stream",
       "stream": "stdout",
       "text": [
        "['', 'h', 'he', 'hel', 'hell', 'hello']\n",
        "['hello', 'ello', 'llo', 'lo', 'o', '']\n",
        "['h', 'he', 'hel', 'hell', 'hello', 'e', 'el', 'ell', 'ello', 'l', 'll', 'llo', 'l', 'lo', 'o', '']\n",
        "[('', 'hello'), ('h', 'ello'), ('he', 'llo'), ('hel', 'lo'), ('hell', 'o'), ('hello', '')]\n"
       ]
      }
     ],
     "prompt_number": 134
    },
    {
     "cell_type": "code",
     "collapsed": false,
     "input": [
      "print match(\"aW9\", \"aaW9\")\n",
      "print match(\"^aW9\", \"aaW9\")\n",
      "print match(\"^aW9\", \"aW9a\")\n",
      "print match(\"^aW9$\", \"aW9a\")\n",
      "print match(\"^aW9$\", \"aW9\")\n",
      "print match(\"^aW9$\", \"aWW9\")\n",
      "print match(\"^aW*9$\", \"aWW9\")\n",
      "print match(\"^aW.*9$\", \"aWW9\")\n",
      "print match(\"\", \"aWW9\")"
     ],
     "language": "python",
     "metadata": {},
     "outputs": [
      {
       "output_type": "stream",
       "stream": "stdout",
       "text": [
        "True\n",
        "False\n",
        "True\n",
        "False\n",
        "True\n",
        "False\n",
        "True\n",
        "True\n"
       ]
      },
      {
       "ename": "IndexError",
       "evalue": "string index out of range",
       "output_type": "pyerr",
       "traceback": [
        "\u001b[1;31m---------------------------------------------------------------------------\u001b[0m\n\u001b[1;31mIndexError\u001b[0m                                Traceback (most recent call last)",
        "\u001b[1;32m<ipython-input-155-226db7444858>\u001b[0m in \u001b[0;36m<module>\u001b[1;34m()\u001b[0m\n\u001b[0;32m      7\u001b[0m \u001b[1;32mprint\u001b[0m \u001b[0mmatch\u001b[0m\u001b[1;33m(\u001b[0m\u001b[1;34m\"^aW*9$\"\u001b[0m\u001b[1;33m,\u001b[0m \u001b[1;34m\"aWW9\"\u001b[0m\u001b[1;33m)\u001b[0m\u001b[1;33m\u001b[0m\u001b[0m\n\u001b[0;32m      8\u001b[0m \u001b[1;32mprint\u001b[0m \u001b[0mmatch\u001b[0m\u001b[1;33m(\u001b[0m\u001b[1;34m\"^aW.*9$\"\u001b[0m\u001b[1;33m,\u001b[0m \u001b[1;34m\"aWW9\"\u001b[0m\u001b[1;33m)\u001b[0m\u001b[1;33m\u001b[0m\u001b[0m\n\u001b[1;32m----> 9\u001b[1;33m \u001b[1;32mprint\u001b[0m \u001b[0mmatch\u001b[0m\u001b[1;33m(\u001b[0m\u001b[1;34m\"\"\u001b[0m\u001b[1;33m,\u001b[0m \u001b[1;34m\"aWW9\"\u001b[0m\u001b[1;33m)\u001b[0m\u001b[1;33m\u001b[0m\u001b[0m\n\u001b[0m",
        "\u001b[1;32m<ipython-input-133-6c0168b23e84>\u001b[0m in \u001b[0;36mmatch\u001b[1;34m(r, s)\u001b[0m\n\u001b[0;32m     15\u001b[0m \u001b[1;31m## ere match\u001b[0m\u001b[1;33m\u001b[0m\u001b[1;33m\u001b[0m\u001b[0m\n\u001b[0;32m     16\u001b[0m \u001b[1;32mdef\u001b[0m \u001b[0mmatch\u001b[0m\u001b[1;33m(\u001b[0m\u001b[0mr\u001b[0m\u001b[1;33m,\u001b[0m \u001b[0ms\u001b[0m\u001b[1;33m)\u001b[0m\u001b[1;33m:\u001b[0m\u001b[1;33m\u001b[0m\u001b[0m\n\u001b[1;32m---> 17\u001b[1;33m     \u001b[1;32mif\u001b[0m \u001b[0mr\u001b[0m\u001b[1;33m[\u001b[0m\u001b[1;36m0\u001b[0m\u001b[1;33m]\u001b[0m \u001b[1;33m==\u001b[0m \u001b[1;34m\"^\"\u001b[0m \u001b[1;32mand\u001b[0m \u001b[0mr\u001b[0m\u001b[1;33m[\u001b[0m\u001b[1;33m-\u001b[0m\u001b[1;36m1\u001b[0m\u001b[1;33m]\u001b[0m\u001b[1;33m==\u001b[0m\u001b[1;34m\"$\"\u001b[0m\u001b[1;33m:\u001b[0m\u001b[1;33m\u001b[0m\u001b[0m\n\u001b[0m\u001b[0;32m     18\u001b[0m         \u001b[1;32mreturn\u001b[0m \u001b[0msmatch\u001b[0m\u001b[1;33m(\u001b[0m\u001b[0mr\u001b[0m\u001b[1;33m[\u001b[0m\u001b[1;36m1\u001b[0m\u001b[1;33m:\u001b[0m\u001b[1;33m-\u001b[0m\u001b[1;36m1\u001b[0m\u001b[1;33m]\u001b[0m\u001b[1;33m,\u001b[0m \u001b[0ms\u001b[0m\u001b[1;33m)\u001b[0m\u001b[1;33m\u001b[0m\u001b[0m\n\u001b[0;32m     19\u001b[0m     \u001b[1;32melif\u001b[0m \u001b[0mr\u001b[0m\u001b[1;33m[\u001b[0m\u001b[1;36m0\u001b[0m\u001b[1;33m]\u001b[0m \u001b[1;33m==\u001b[0m \u001b[1;34m\"^\"\u001b[0m\u001b[1;33m:\u001b[0m\u001b[1;33m\u001b[0m\u001b[0m\n",
        "\u001b[1;31mIndexError\u001b[0m: string index out of range"
       ]
      }
     ],
     "prompt_number": 155
    },
    {
     "cell_type": "markdown",
     "metadata": {},
     "source": [
      "My first attempt above is a big mess, because I don't have a clear ogranization of my thoughts and the whole solution is based on trial-and-error. It is not even easy to test my code. ***The problem is challenging only because the condtions are complicated specially when it involves recursions*** (realizing it makes me calm down when doing it within a time limit). And the key to it is to come up with abstractions (concepts) so that the conditions can be organized in a hierartically neat way. I need to learn to get used to it even I am coding in a sleepy mode. ;)\n",
      "\n",
      "Here is my second thought.\n",
      "\n",
      "- ***it is very useful to think what the solution should look like - you need to be able to see the solution in your mind and speak it out***\n",
      "- there seem to be two types of matches: (1) match and (2) exact match\n",
      "- match with ^re is actually an exact match of re and a prefix of s\n",
      "- match with re\\$ is actually an exact match of re and a suffix of s\n",
      "- match with ^re\\$ is actually an exact match of re and s itself\n",
      "- match with re is actually an exact match of re with a substring of s\n",
      "- so all the above reduce to an exact match of r without anchors to s, with utility functions like finding prefix and suffix\n",
      "- an exact match of re to s include the following cases (***need to be careful to avoid unnecessary redundant and verbose, and be careful with special cases - because this is where the recursion comes in***):\n",
      "    - base condition: \n",
      "        - empty_r exactly match empty_s\n",
      "        - empty_r NOT exactly match nonempty_s\n",
      "        - nonempty_r NOT exactly match empty_s\n",
      "    - recursion:\n",
      "        - $r_1r$ excat matches $s_1s$ iff $r_1==s_1$ and $r$ exact matches $s$\n",
      "        - $.r$ excat matches $s_1s$ iff $r$ exact matches $s$\n",
      "        - $.*r$ excat matches $s$ iff $r$ exact matches a suffix of $s$\n",
      "        - $r_1*r$ excat matches $s$ iff prefix is a duplicate string or $r_1$ and corresponding suffix exact match r\n",
      "        \n",
      "    And now we recognize two utility functions - all_patition (all_prefix and all_suffix will be implemented by this) and all_substring\n",
      "        \n",
      "so the key here is to separate recursion and other reduction conditions. And you can see in my previous implementaion of smatch, mixing recursion and case is a terrible idea. The conditions ideally should be exclusive and inclusive."
     ]
    },
    {
     "cell_type": "code",
     "collapsed": false,
     "input": [
      "## 16.2 re match second attempt\n",
      "\n",
      "## put a delimiter bar in the middle of a string\n",
      "def all_partition(s):\n",
      "    return ((s[:i], s[i:]) for i in xrange(0, len(s)+1))\n",
      "\n",
      "def all_prefix(s):\n",
      "    for pre, suf in all_partition(s):\n",
      "        yield pre\n",
      "        \n",
      "def all_suffix(s):\n",
      "    for pre, suf in all_partition(s):\n",
      "        yield suf\n",
      "\n",
      "## can we implement all_substring in terms of all_partition?\n",
      "def all_substring(s):\n",
      "    yield \"\"\n",
      "    for i in xrange(0, len(s)+1): ## you cannot just use trial and error to find the bound, you need to understand it\n",
      "        for j in xrange(i+1, len(s)+1):\n",
      "            yield s[i:j]\n",
      "            \n",
      "def is_duplicate_of(x, xs):\n",
      "    return all(y == x for y in xs)\n",
      "            \n",
      "## test\n",
      "print list(all_partition(\"hello\"))\n",
      "print list(all_partition(\"\"))\n",
      "print list(all_substring(\"hello\"))\n",
      "print list(all_substring(\"\"))\n",
      "\n",
      "print list(all_prefix(\"hello\"))\n",
      "print list(all_suffix(\"hello\"))\n",
      "\n",
      "print is_duplicate_of(\"\", \"\")\n",
      "print is_duplicate_of(\"\", \"a\")\n",
      "print is_duplicate_of(\"a\", \"aaa\")"
     ],
     "language": "python",
     "metadata": {},
     "outputs": [
      {
       "output_type": "stream",
       "stream": "stdout",
       "text": [
        "[('', 'hello'), ('h', 'ello'), ('he', 'llo'), ('hel', 'lo'), ('hell', 'o'), ('hello', '')]\n",
        "[('', '')]\n",
        "['', 'h', 'he', 'hel', 'hell', 'hello', 'e', 'el', 'ell', 'ello', 'l', 'll', 'llo', 'l', 'lo', 'o']\n",
        "['']\n",
        "['', 'h', 'he', 'hel', 'hell', 'hello']\n",
        "['hello', 'ello', 'llo', 'lo', 'o', '']\n",
        "True\n",
        "False\n",
        "True\n"
       ]
      }
     ],
     "prompt_number": 177
    },
    {
     "cell_type": "code",
     "collapsed": false,
     "input": [
      "def match(r, s):\n",
      "    if r == \"\": ## base condition len0\n",
      "        return True\n",
      "    if len(r) >= 2 and r[0] == \"^\" and r[-1] == \"$\": ## cannot figure out a way...\n",
      "        return smatch(r[1:-1], s)\n",
      "    else:\n",
      "        if r[0] == \"^\": ## len1\n",
      "            return any(smatch(r[1:], ss) for ss in all_prefix(s))\n",
      "        elif r[-1] == \"$\":\n",
      "            return any(smatch(r[:-1], ss) for ss in all_suffix(s))\n",
      "        else:\n",
      "            return any(smatch(r, ss) for ss in all_substring(s))\n",
      "\n",
      "def smatch(r, s):\n",
      "    ## base condition\n",
      "    if r == \"\" and s != \"\":\n",
      "        return False\n",
      "    if r != \"\" and s == \"\":\n",
      "        return False\n",
      "    if r == \"\" and s == \"\":\n",
      "        return True\n",
      "    ## recursion\n",
      "    if r[:2] == \".*\":\n",
      "        return any(smatch(r[2:], ss) for ss in all_suffix(s))\n",
      "    if len(r) >= 2 and r[1] == \"*\":\n",
      "        return any(is_duplicate_of(r[0], ps) and smatch(r[2:], ss) for ps, ss in all_partition(s))\n",
      "    if r[0] == \".\":\n",
      "        return smatch(r[1:], s)\n",
      "    return r[0] == s[0] and smatch(r[1:], s[1:])\n",
      "        \n",
      "## test\n",
      "print match(\"aW9\", \"aaW9\"), True\n",
      "print match(\"^aW9\", \"aaW9\"), False\n",
      "print match(\"^aW9\", \"aW9a\"), True\n",
      "print match(\"aW9$\", \"aW9a\"), False\n",
      "print match(\"^aW9$\", \"aW9a\"), False\n",
      "print match(\"^aW9$\", \"aW9\"), True\n",
      "print match(\"^aW9$\", \"aWW9\"), False\n",
      "print match(\"^aW*9$\", \"aWW9\"), True\n",
      "print match(\"^aW.*9$\", \"aWW9\"), True\n",
      "print match(\"\", \"aWW9\"), True"
     ],
     "language": "python",
     "metadata": {},
     "outputs": [
      {
       "output_type": "stream",
       "stream": "stdout",
       "text": [
        "True True\n",
        "False False\n",
        "True True\n",
        "False False\n",
        "False False\n",
        "True True\n",
        "False False\n",
        "True True\n",
        "True True\n",
        "True True\n"
       ]
      }
     ],
     "prompt_number": 178
    },
    {
     "cell_type": "markdown",
     "metadata": {},
     "source": [
      "### 16.3 nonattacking placement of n queens\n",
      "- typical CSP (constraint satisfication problem), a.k.a search problem\n",
      "- what the solution looks like - each queen must be on a different row and a different col, that makes a **back-tracking** solution possible, because you don't want to fully test each of n! possibilities of cols (given rows are fixed)\n",
      "    - the key to a back-tracking solution is the function \"develop_solution\" which evolve a partial solution given remaining resources and constraints\n",
      "- recusive solution"
     ]
    },
    {
     "cell_type": "code",
     "collapsed": false,
     "input": [
      "def bt_develop_solution(partial_solution, resource, is_valid, is_full):\n",
      "    ## base condition\n",
      "    if is_full(partial_solution):\n",
      "        return [partial_solution]\n",
      "    ## recursion\n",
      "    else:\n",
      "        solutions = []\n",
      "        for i, elem in enumerate(resource):\n",
      "            if is_valid(partial_solution + [elem]):\n",
      "                solutions += bt_develop_solution(partial_solution+[elem], resource[:i]+resource[i:], is_valid)\n",
      "        return solutions\n",
      "def bt_queens(n):\n",
      "    row = range(n)\n",
      "    is_valid = lambda col: ??\n",
      "    is_full = lambda col: len(col) == n\n",
      "    cols = develop_solution([], range(n), is_valid, is_full)\n",
      "    return [zip(row, col) for col in cols]"
     ],
     "language": "python",
     "metadata": {},
     "outputs": [],
     "prompt_number": 180
    },
    {
     "cell_type": "code",
     "collapsed": false,
     "input": [],
     "language": "python",
     "metadata": {},
     "outputs": []
    }
   ],
   "metadata": {}
  }
 ]
}