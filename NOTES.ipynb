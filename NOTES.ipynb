{
 "cells": [
  {
   "cell_type": "markdown",
   "metadata": {},
   "source": [
    "# Notes for Algorithm Questions\n",
    "\n",
    "## Resources\n",
    "- Programming Interviews Exposed 3rd\n",
    "- [Elements of Programming Interviews in Python](http://elementsofprogramminginterviews.com/sample/epilight_python_new.pdf)"
   ]
  },
  {
   "cell_type": "markdown",
   "metadata": {},
   "source": [
    "## 1. Arrays and Strings\n",
    "- Most array problems have a O(n) space brute force solution, but in-placment implementation is usually needed\n",
    "- By using `pivot variables`, arrays can have different partitions (sometime even overlapped), this is specially useful to in-placement implementations. Examples are the even-odd element problem and etc.\n",
    "- For matching/searching in array, optimal solutions usually involve `data structures`, such as trees, sorted array, or hash.\n",
    "- Most array problems can be solved in `O(nlogn)` time, e.g., by sorting it first. If it is an interview question, usually it targets at `O(n)` or even `O(logn)`.\n",
    "- Arrays operate equally efficiently from BOTH ends\n",
    "- When using pivot variables to define the boundary of partitions, I found it useful to define them as [start, end). This asymetry makes it easier to represent empty partitions"
   ]
  },
  {
   "cell_type": "markdown",
   "metadata": {},
   "source": [
    "### Find the first non-duplicate letter in  a string\n",
    "***key***: use a data structure to facilitate searching"
   ]
  },
  {
   "cell_type": "code",
   "execution_count": 1,
   "metadata": {
    "collapsed": false
   },
   "outputs": [],
   "source": [
    "def first_non_duplicate(s):\n",
    "    ## o(n) scan\n",
    "    letter_occurances = {}\n",
    "    for i,x in enumerate(s):\n",
    "        if x not in letter_occurances:\n",
    "            letter_occurances[x] = 1\n",
    "        else:\n",
    "            letter_occurances[x] += 1\n",
    "    ## o(n)\n",
    "    for x in s:\n",
    "        if letter_occurances[x] == 1:\n",
    "            return x\n",
    "    return None\n",
    "\n",
    "def test():\n",
    "    assert first_non_duplicate(\"total\") == \"o\"\n",
    "    assert first_non_duplicate(\"teeter\") == \"r\"\n",
    "    \n",
    "test()"
   ]
  },
  {
   "cell_type": "markdown",
   "metadata": {},
   "source": [
    "### Delete a set of letters from a string\n",
    "- It is much easier to use O(n) space\n",
    "- To have an in-placement implementation, we need to do the marking and swapping (deleted with array end) at the same time - that is an application of using `pivot variable`\n",
    "- `src` represents where the letter is, `dst` represents where it should be in the new string. Since we are removing only, `dst` should be smaller or equal to `src`\n",
    "- we update `src` and `dst` by different paces based on whether there is sth to remove before it.\n",
    "- we do the swapping only when `src` != `dst`"
   ]
  },
  {
   "cell_type": "code",
   "execution_count": 2,
   "metadata": {
    "collapsed": false
   },
   "outputs": [],
   "source": [
    "def remove(s, to_remove):\n",
    "    s = list(s)\n",
    "    src, dst = 0, 0\n",
    "    for i, x in enumerate(s):\n",
    "        if src != dst:\n",
    "            s[dst] = s[src]\n",
    "        src += 1\n",
    "        dst += 1\n",
    "        if x in to_remove: # in could be implemented in hashing\n",
    "            dst -=  1\n",
    "    return ''.join(s[:-(src-dst)])\n",
    "\n",
    "## After the first implmentatin, I refactor it to the following\n",
    "\n",
    "def remove(s, to_remove):\n",
    "    s = list(s)\n",
    "    dst = 0\n",
    "    for src, x in enumerate(s):\n",
    "        if src != dst:\n",
    "            s[dst] = s[src]\n",
    "        if x not in to_remove: # in could be implemented in hashing\n",
    "            dst +=  1\n",
    "    return ''.join(s[:-(src-dst+1)])\n",
    "\n",
    "assert remove(\"Battle of the Vowels: Hawaii vs. Grozny\", \"aeiou\") == \"Bttl f th Vwls: Hw vs. Grzny\""
   ]
  },
  {
   "cell_type": "markdown",
   "metadata": {},
   "source": [
    "### Words reversion\n",
    "- words are delimited by spaces\n",
    "- collect words, copy over each in reverse order\n",
    "- O(n) time and O(n) space"
   ]
  },
  {
   "cell_type": "code",
   "execution_count": 3,
   "metadata": {
    "collapsed": false
   },
   "outputs": [],
   "source": [
    "def reverse_words(s):\n",
    "    s = list(s)\n",
    "    w_start, w_end = 0, 0\n",
    "    word_pos = []\n",
    "    while w_start < len(s) and w_end < len(s):\n",
    "        while s[w_start] == ' ':\n",
    "            w_start += 1\n",
    "        w_end = w_start\n",
    "        while  w_end < len(s) and s[w_end] != ' ':\n",
    "            w_end += 1\n",
    "        word_pos.append([w_start, w_end])\n",
    "        w_start = w_end\n",
    "    xs = [' '] * len(s)\n",
    "    i = 0\n",
    "    for start, end  in word_pos[::-1]:\n",
    "        xs[i:(i+end-start)] = s[start:end]\n",
    "        i = i+end-start+1\n",
    "    return ''.join(xs)\n",
    "\n",
    "assert reverse_words(\"Do or do not, there is no try.\") == \"try. no is there not, do or Do\""
   ]
  },
  {
   "cell_type": "markdown",
   "metadata": {},
   "source": [
    "### Even-Odd Problem\n",
    "Rearrange the array so that even elements appear first.\n",
    "\n",
    "***key***: Use pivot variables to partition the array into even, unclassified and odd "
   ]
  },
  {
   "cell_type": "code",
   "execution_count": 4,
   "metadata": {
    "collapsed": false
   },
   "outputs": [
    {
     "data": {
      "text/plain": [
       "[2, 6, 5, 3, 9, 1, 7, 1]"
      ]
     },
     "execution_count": 4,
     "metadata": {},
     "output_type": "execute_result"
    }
   ],
   "source": [
    "def even_odd(xs):\n",
    "    # even partition : [-1, unclassfied)\n",
    "    # unclassfied partion: [unclassfied, odd)\n",
    "    # odd partition: [odd, ...]\n",
    "    unclassified = 0\n",
    "    odd = len(xs)\n",
    "    while unclassified < odd:\n",
    "        if xs[unclassified] % 2 == 1:\n",
    "            xs[unclassified], xs[odd-1] = xs[odd-1], xs[unclassified]\n",
    "            odd -= 1\n",
    "        elif xs[unclassified] % 2 == 0:\n",
    "            unclassified += 1\n",
    "    return xs\n",
    "\n",
    "r = even_odd([1, 1, 3, 5, 6, 9, 2, 7])\n",
    "assert set(r[:2]) == set([2, 6])\n",
    "r"
   ]
  },
  {
   "cell_type": "markdown",
   "metadata": {},
   "source": [
    "### Dutch national flag problem\n",
    "- background: quick-sort might become slow when the binary division by < and >= are not of comparable size, e.g., when we have a lot of duplicate values in the array. a better solution is to put them in three divisions such as <, = and >\n",
    "- it is trivial to use O(n) space\n",
    "- the solution is similiar to the previous even-odd problem\n",
    "- It is a difficult problem because we need to maintain 4 partitions, less-than, equal, greater-than and unclassified. One way of doing this is to do several pass."
   ]
  },
  {
   "cell_type": "code",
   "execution_count": 5,
   "metadata": {
    "collapsed": true
   },
   "outputs": [],
   "source": [
    "## to make the implementation easier, and thus less bug-prob\n",
    "## I use two iterations, one for moving smaller elements, one for moving bigger elements\n",
    "def dutch_flag(xs, pivot_index=0):\n",
    "    \"\"\"xs: array of ints\n",
    "    return xs as in partially ordered\n",
    "    \"\"\"\n",
    "    p = xs[pivot_index]\n",
    "    \n",
    "    # first pass - moving smaller to the front\n",
    "    i_lt, i_unclassified = -1, 0\n",
    "    while i_unclassified < len(xs):\n",
    "        x = xs[i_unclassified]\n",
    "        if x < p: \n",
    "            xs[i_lt+1], xs[i_unclassified] = xs[i_unclassified], xs[i_lt+1]\n",
    "            i_lt += 1\n",
    "        else:\n",
    "            i_unclassified += 1\n",
    "    # second pass - moving greater to the end\n",
    "    i_unclassified, i_gt = i_lt+1, len(xs)\n",
    "    while i_unclassified < i_gt:\n",
    "        x = xs[i_unclassified]\n",
    "#         print(xs, i_unclassified)\n",
    "        if x > p:\n",
    "            xs[i_gt-1], xs[i_unclassified] = xs[i_unclassified], xs[i_gt-1]\n",
    "            i_gt -= 1\n",
    "        else:\n",
    "            i_unclassified += 1\n",
    "        \n",
    "    return xs\n",
    "\n",
    "\n",
    "xs = [5, 1, 1, 3, 6, 9, 5, 2, 7]"
   ]
  },
  {
   "cell_type": "code",
   "execution_count": 6,
   "metadata": {
    "collapsed": false
   },
   "outputs": [
    {
     "data": {
      "text/plain": [
       "[1, 1, 3, 2, 5, 5, 9, 7, 6]"
      ]
     },
     "execution_count": 6,
     "metadata": {},
     "output_type": "execute_result"
    }
   ],
   "source": [
    "dutch_flag(xs)"
   ]
  },
  {
   "cell_type": "raw",
   "metadata": {
    "collapsed": true
   },
   "source": [
    "After some thoughts, I think one scan is enough to partition the elements. It can be illustrated like this\n",
    "\n",
    "   <        =           unclassified     >\n",
    "--------|--------|--------------------|------\n",
    "      lt_end    eq_end               gt_start"
   ]
  },
  {
   "cell_type": "code",
   "execution_count": 7,
   "metadata": {
    "collapsed": true
   },
   "outputs": [],
   "source": [
    "def dutch_flag(xs, pivot_index=0):\n",
    "    p = xs[pivot_index]\n",
    "    # define the partitions\n",
    "    # < : [0, lt_end)\n",
    "    # = : [lt_end, eq_end)\n",
    "    # unclassified: [eq_end, gt_start)\n",
    "    # >: [gt_start, n)\n",
    "    n = len(xs)\n",
    "    lt_end, eq_end, gt_start = 0, 0, n\n",
    "    i = 0\n",
    "    while i < gt_start:\n",
    "        if xs[i] == p:\n",
    "            i += 1\n",
    "        elif xs[i] < p: \n",
    "            xs[lt_end], xs[i] = xs[i], xs[lt_end] # xs[lt_end] should be equal before hand\n",
    "            i += 1\n",
    "            lt_end += 1\n",
    "        else:\n",
    "            xs[gt_start-1], xs[i] = xs[i], xs[gt_start-1]\n",
    "            gt_start -= 1\n",
    "    return xs"
   ]
  },
  {
   "cell_type": "code",
   "execution_count": 14,
   "metadata": {
    "collapsed": false
   },
   "outputs": [
    {
     "name": "stdout",
     "output_type": "stream",
     "text": [
      "5 [1, 1, 3, 2, 5, 5, 9, 7, 6]\n",
      "1 [1, 1, 3, 6, 9, 5, 2, 7, 5]\n",
      "9 [5, 1, 1, 3, 6, 5, 2, 7, 9]\n",
      "7 [5, 1, 1, 3, 6, 5, 2, 7, 9]\n"
     ]
    }
   ],
   "source": [
    "xs = [5, 1, 1, 3, 6, 9, 5, 2, 7]\n",
    "print(xs[0], dutch_flag(xs, 0))\n",
    "xs = [5, 1, 1, 3, 6, 9, 5, 2, 7]\n",
    "print(xs[1], dutch_flag(xs, 1))\n",
    "xs = [5, 1, 1, 3, 6, 9, 5, 2, 7]\n",
    "print(xs[5], dutch_flag(xs, 5))\n",
    "xs = [5, 1, 1, 3, 6, 9, 5, 2, 7]\n",
    "print(xs[8], dutch_flag(xs, 8))"
   ]
  },
  {
   "cell_type": "markdown",
   "metadata": {},
   "source": [
    "### palindromic string\n",
    "- python ```s[~i]``` for in in [0, len(s)) is s[-(i+1)]"
   ]
  },
  {
   "cell_type": "code",
   "execution_count": 18,
   "metadata": {
    "collapsed": false
   },
   "outputs": [
    {
     "data": {
      "text/plain": [
       "(-1, -2)"
      ]
     },
     "execution_count": 18,
     "metadata": {},
     "output_type": "execute_result"
    }
   ],
   "source": [
    "~0, ~1"
   ]
  },
  {
   "cell_type": "code",
   "execution_count": 22,
   "metadata": {
    "collapsed": true
   },
   "outputs": [],
   "source": [
    "def is_palindromic(s):\n",
    "    return all([s[i] == s[~i] for i in range(len(s) // 2)])\n",
    "\n",
    "\n",
    "assert is_palindromic(\"aabaa\") == True\n",
    "assert is_palindromic(\"a\") == True\n",
    "assert is_palindromic(\"aaba\") == False"
   ]
  },
  {
   "cell_type": "markdown",
   "metadata": {},
   "source": [
    "## 2. Static Searching\n",
    "- Usually assmes the elements are sorted"
   ]
  },
  {
   "cell_type": "markdown",
   "metadata": {},
   "source": [
    "### Binary search in python by bisect"
   ]
  },
  {
   "cell_type": "code",
   "execution_count": 42,
   "metadata": {
    "collapsed": false
   },
   "outputs": [],
   "source": [
    "## traditional binary search in pthhon\n",
    "import bisect\n",
    "xs = [1, 1, 2, 3, 5, 5, 6, 7, 9] # sorted\n",
    "\n",
    "assert bisect.bisect_left(xs, 1) == 0\n",
    "assert bisect.bisect_left(xs, 5) == 4\n",
    "assert bisect.bisect_left(xs, 9) == 8\n",
    "assert bisect.bisect_left(xs, -1) == 0"
   ]
  },
  {
   "cell_type": "markdown",
   "metadata": {},
   "source": [
    "### Search for FIRST occurance\n",
    "Write a method that takes a sorted array and a key and returns the index of the first occurrence of that key in the array. That's what `bisect.bisect_left` does.\n",
    "\n",
    "***key***: twist the test condition"
   ]
  },
  {
   "cell_type": "code",
   "execution_count": 48,
   "metadata": {
    "collapsed": false
   },
   "outputs": [],
   "source": [
    "def first_occurance(xs, x):\n",
    "    n = len(xs)\n",
    "    lower, upper = 0, n-1\n",
    "    while lower <= upper:\n",
    "        middle = lower + (upper-lower) // 2 # to avoid potential overflow\n",
    "        if xs[middle] > x:\n",
    "            upper = middle - 1\n",
    "        elif xs[middle] < x:\n",
    "            lower = middle + 1\n",
    "        else: #xs[middle] == x\n",
    "            while xs[middle] == x: # this might be O(n)!\n",
    "                middle -= 1\n",
    "            return middle+1\n",
    "    return None\n",
    "\n",
    "xs = [-14, -10, 2, 108, 108, 243, 285, 285, 401]\n",
    "\n",
    "assert first_occurance(xs, 108) == 3\n",
    "assert first_occurance(xs, 285) == 6\n",
    "assert first_occurance(xs, -14) == 0\n",
    "assert first_occurance(xs, -100) == None"
   ]
  },
  {
   "cell_type": "markdown",
   "metadata": {},
   "source": [
    "The worst case complexity for the above implementation might be O(n) + O(lgn) = O(n), because the backward search might take O(n).\n",
    "\n",
    "A better solution: The fundamental idea of binary search is to maintain a set of candidate solutions (like in `backtracking`). Binary search is doing searching by eliminating."
   ]
  },
  {
   "cell_type": "code",
   "execution_count": 53,
   "metadata": {
    "collapsed": false
   },
   "outputs": [],
   "source": [
    "## A better solution - keep the O(logn) in binary search\n",
    "\n",
    "def first_occurance(xs, x):\n",
    "    n = len(xs)\n",
    "    lower, upper = 0, n-1\n",
    "    found = None\n",
    "    while lower <= upper:\n",
    "        middle = lower + (upper - lower) // 2\n",
    "        if xs[middle] < x:\n",
    "            lower = middle + 1\n",
    "        elif xs[middle] > x:\n",
    "            upper = middle - 1\n",
    "        else:\n",
    "            found = middle # keep the answer\n",
    "            upper = middle - 1 # keep looking\n",
    "    return found\n",
    "\n",
    "xs = [-14, -10, 2, 108, 108, 243, 285, 285, 401]\n",
    "\n",
    "assert first_occurance(xs, 108) == 3\n",
    "assert first_occurance(xs, 285) == 6\n",
    "assert first_occurance(xs, -14) == 0\n",
    "assert first_occurance(xs, -100) == None"
   ]
  },
  {
   "cell_type": "markdown",
   "metadata": {},
   "source": [
    "## 3. Dynamic Searching\n",
    "- Heaps\n",
    "- Hash Tables\n",
    "- Binary Search Trees"
   ]
  },
  {
   "cell_type": "markdown",
   "metadata": {},
   "source": [
    "## 4. Sorting\n",
    "- Know the pros and cons of different sorting algorithm\n",
    "    - selection sort: swaping, in-palce, O(n2), not stable (bcs of swapping)\n",
    "    - insertion sort: O(n2), not in-place, fast when inserting a few new records\n",
    "    - quick sort: never merge, in-place, O(nlogn), worst case with repeated elements O(n2)\n",
    "    - merge sort: not in-place, O(nlogn)\n",
    "- Think about recursion\n",
    "- A common way to make an unstable sorting to stable sorting - adding position to new keys"
   ]
  },
  {
   "cell_type": "markdown",
   "metadata": {},
   "source": [
    "### Find the intersection of two sorted arrays (e.g., in search engine implmentation)\n",
    "\n",
    "- Two arrays may have duplicate elements, but the result should be duplicate free\n",
    "- it is a sorting problem because it is very related to merge-sort, which is to compare two sorted arrays\n",
    "- it is O(n) + O(m)"
   ]
  },
  {
   "cell_type": "code",
   "execution_count": 62,
   "metadata": {
    "collapsed": false
   },
   "outputs": [],
   "source": [
    "def intersection(xs1, xs2):\n",
    "    common = []\n",
    "    i1, i2 = 0, 0\n",
    "    while i1 < len(xs1) and i2 < len(xs2):\n",
    "        if xs1[i1] == xs2[i2]:\n",
    "            x = xs1[i1]\n",
    "            if len(common) == 0 or x != common[-1]:\n",
    "                common.append(x)\n",
    "            i1 += 1\n",
    "            i2 += 1\n",
    "        elif xs1[i1] < xs2[i2]:\n",
    "            i1 += 1\n",
    "        else: # xs1[i1] > xs2[i2]\n",
    "            i2 += 1\n",
    "    return common\n",
    "\n",
    "xs1 = [2, 3, 3, 5, 5, 6, 7, 7, 8, 12]\n",
    "xs2 = [5, 5, 6, 8, 8, 9, 10, 10]\n",
    "assert intersection(xs1, xs2) == [5, 6, 8]"
   ]
  },
  {
   "cell_type": "markdown",
   "metadata": {},
   "source": [
    "### Given (start, end) time of events, find the max # of simultaneous events\n",
    "- A common topic for sorting is to sort the intervals\n",
    "- intervals are like parenthesis\n",
    "***key:*** sort the interval endpoints, count the start as \"(\", and end as \")\"\n",
    "- it is O(nlogn) + O(n)"
   ]
  },
  {
   "cell_type": "markdown",
   "metadata": {},
   "source": [
    "## 5. SQL"
   ]
  },
  {
   "cell_type": "markdown",
   "metadata": {},
   "source": [
    "## 6. Data Structures"
   ]
  },
  {
   "cell_type": "markdown",
   "metadata": {},
   "source": [
    "### 6.1 Linked List"
   ]
  },
  {
   "cell_type": "markdown",
   "metadata": {},
   "source": [
    "### 6.2 Stacks & Queues\n",
    "- See Pattern and Tricks for some usage of Stacks/Queues\n",
    "- Good for implementation of iteration in different orders"
   ]
  },
  {
   "cell_type": "markdown",
   "metadata": {},
   "source": [
    "#### Enhanced API of Stack with max()\n",
    "- using additional data structure to return the current max() value in the  stack.\n",
    "\n",
    "*** Solution ***: Use another stack to store the maximum and their occurances."
   ]
  },
  {
   "cell_type": "code",
   "execution_count": 22,
   "metadata": {
    "collapsed": false
   },
   "outputs": [],
   "source": [
    "class Stack(object):\n",
    "    def __init__(self):\n",
    "        self.data_stack = []\n",
    "        self.max_stack = []\n",
    "    def push(self, x):\n",
    "        # update data-stack\n",
    "        self.data_stack.append(x)\n",
    "        # update max-stack\n",
    "        if len(self.max_stack)==0:\n",
    "            self.max_stack.append((x, 1))\n",
    "        else:\n",
    "            if self.max() == x:\n",
    "                _, times = self.max_stack[-1]\n",
    "                self.max_stack[-1] = (x, times+1)\n",
    "            elif self.max() < x:\n",
    "                self.max_stack.append((x, 1))\n",
    "            else:\n",
    "                pass\n",
    "    def pop(self):\n",
    "        # update data-stack\n",
    "        x = self.data_stack[-1]\n",
    "        del self.data_stack[-1]\n",
    "        # update max-stack\n",
    "        if x < self.max():\n",
    "            pass\n",
    "        elif x == self.max():\n",
    "            _, times = self.max_stack[-1]\n",
    "            if times > 1:\n",
    "                self.max_stack[-1] = (x, times-1)\n",
    "            else:\n",
    "                del self.max_stack[-1]\n",
    "        return x\n",
    "    def top(self):\n",
    "        return self.data_stack[-1]\n",
    "    def max(self):\n",
    "        return self.max_stack[-1][0]\n",
    "    \n",
    "    \n",
    "s = Stack()\n",
    "s.push(2); assert s.top() == 2; assert s.max() == 2\n",
    "s.push(2); assert s.top() == 2; assert s.max() == 2\n",
    "s.push(1); assert s.top() == 1; assert s.max() == 2\n",
    "s.push(4); assert s.top() == 4; assert s.max() == 4\n",
    "s.push(5); assert s.top() == 5; assert s.max() == 5\n",
    "s.push(5); assert s.top() == 5; assert s.max() == 5\n",
    "s.push(3); assert s.top() == 3; assert s.max() == 5\n",
    "s.pop(); assert s.top() == 5; assert s.max() == 5\n",
    "s.pop(); assert s.top() == 5; assert s.max() == 5\n",
    "s.pop(); assert s.top() == 4; assert s.max() == 4\n",
    "s.pop(); assert s.top() == 1; assert s.max() == 2\n",
    "s.push(0); assert s.top() == 0; assert s.max() == 2\n",
    "s.push(3); assert s.top() == 3; assert s.max() == 3"
   ]
  },
  {
   "cell_type": "markdown",
   "metadata": {},
   "source": [
    "## 7. Patterns and Tricks\n",
    "- Most puzzles regarding comparison of every pair can be potentially optimized by first sorting and then partially comparing the elements (e.g., with neighbors). Examples are [finding shortes prefix](http://www.geeksforgeeks.org/find-all-shortest-unique-prefixes-to-represent-each-word-in-a-given-list/)\n",
    "- Stacks/Queues can be very useful when we need to iterating and manipulating (e.g., removing/inserting) at the same time, e.g. [delete consecutive same words in sequence](http://www.geeksforgeeks.org/delete-consecutive-words-sequence/)"
   ]
  },
  {
   "cell_type": "markdown",
   "metadata": {},
   "source": [
    "# Excercises"
   ]
  },
  {
   "cell_type": "code",
   "execution_count": null,
   "metadata": {
    "collapsed": true
   },
   "outputs": [],
   "source": []
  }
 ],
 "metadata": {
  "kernelspec": {
   "display_name": "Python 3",
   "language": "python",
   "name": "python3"
  },
  "language_info": {
   "codemirror_mode": {
    "name": "ipython",
    "version": 3
   },
   "file_extension": ".py",
   "mimetype": "text/x-python",
   "name": "python",
   "nbconvert_exporter": "python",
   "pygments_lexer": "ipython3",
   "version": "3.6.0"
  }
 },
 "nbformat": 4,
 "nbformat_minor": 2
}
