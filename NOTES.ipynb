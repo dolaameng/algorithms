{
 "cells": [
  {
   "cell_type": "markdown",
   "metadata": {},
   "source": [
    "# Notes for Algorithm Questions\n",
    "\n",
    "## Resources\n",
    "- Programming Interviews Exposed 3rd\n",
    "- [Elements of Programming Interviews in Python](http://elementsofprogramminginterviews.com/sample/epilight_python_new.pdf)"
   ]
  },
  {
   "cell_type": "markdown",
   "metadata": {},
   "source": [
    "## 1. Arrays and Strings\n",
    "- Most array problems have a O(n) space brute force solution, but in-placment implementation is usually needed\n",
    "- By using `pivot variables`, arrays can have different partitions (sometime even overlapped), this is specially useful to in-placement implementations. Examples are the even-odd element problem and etc.\n",
    "- For matching/searching in array, optimal solutions usually involve `data structures`, such as trees, sorted array, or hash.\n",
    "- Most array problems can be solved in `O(nlogn)` time, e.g., by sorting it first. If it is an interview question, usually it targets at `O(n)` or even `O(logn)`.\n",
    "- Arrays operate equally efficiently from BOTH ends\n",
    "- When using pivot variables to define the boundary of partitions, I found it useful to define them as [start, end). This asymetry makes it easier to represent empty partitions"
   ]
  },
  {
   "cell_type": "markdown",
   "metadata": {},
   "source": [
    "### Find the first non-duplicate letter in  a string\n",
    "***key***: use a data structure to facilitate searching"
   ]
  },
  {
   "cell_type": "code",
   "execution_count": 1,
   "metadata": {
    "collapsed": false
   },
   "outputs": [],
   "source": [
    "def first_non_duplicate(s):\n",
    "    ## o(n) scan\n",
    "    letter_occurances = {}\n",
    "    for i,x in enumerate(s):\n",
    "        if x not in letter_occurances:\n",
    "            letter_occurances[x] = 1\n",
    "        else:\n",
    "            letter_occurances[x] += 1\n",
    "    ## o(n)\n",
    "    for x in s:\n",
    "        if letter_occurances[x] == 1:\n",
    "            return x\n",
    "    return None\n",
    "\n",
    "def test():\n",
    "    assert first_non_duplicate(\"total\") == \"o\"\n",
    "    assert first_non_duplicate(\"teeter\") == \"r\"\n",
    "    \n",
    "test()"
   ]
  },
  {
   "cell_type": "markdown",
   "metadata": {},
   "source": [
    "### Delete a set of letters from a string\n",
    "- It is much easier to use O(n) space\n",
    "- To have an in-placement implementation, we need to do the marking and swapping (deleted with array end) at the same time - that is an application of using `pivot variable`\n",
    "- `src` represents where the letter is, `dst` represents where it should be in the new string. Since we are removing only, `dst` should be smaller or equal to `src`\n",
    "- we update `src` and `dst` by different paces based on whether there is sth to remove before it.\n",
    "- we do the swapping only when `src` != `dst`"
   ]
  },
  {
   "cell_type": "code",
   "execution_count": 2,
   "metadata": {
    "collapsed": false
   },
   "outputs": [],
   "source": [
    "def remove(s, to_remove):\n",
    "    s = list(s)\n",
    "    src, dst = 0, 0\n",
    "    for i, x in enumerate(s):\n",
    "        if src != dst:\n",
    "            s[dst] = s[src]\n",
    "        src += 1\n",
    "        dst += 1\n",
    "        if x in to_remove: # in could be implemented in hashing\n",
    "            dst -=  1\n",
    "    return ''.join(s[:-(src-dst)])\n",
    "\n",
    "## After the first implmentatin, I refactor it to the following\n",
    "\n",
    "def remove(s, to_remove):\n",
    "    s = list(s)\n",
    "    dst = 0\n",
    "    for src, x in enumerate(s):\n",
    "        if src != dst:\n",
    "            s[dst] = s[src]\n",
    "        if x not in to_remove: # in could be implemented in hashing\n",
    "            dst +=  1\n",
    "    return ''.join(s[:-(src-dst+1)])\n",
    "\n",
    "assert remove(\"Battle of the Vowels: Hawaii vs. Grozny\", \"aeiou\") == \"Bttl f th Vwls: Hw vs. Grzny\""
   ]
  },
  {
   "cell_type": "markdown",
   "metadata": {},
   "source": [
    "### Words reversion\n",
    "- words are delimited by spaces\n",
    "- collect words, copy over each in reverse order\n",
    "- O(n) time and O(n) space"
   ]
  },
  {
   "cell_type": "code",
   "execution_count": 3,
   "metadata": {
    "collapsed": false
   },
   "outputs": [],
   "source": [
    "def reverse_words(s):\n",
    "    s = list(s)\n",
    "    w_start, w_end = 0, 0\n",
    "    word_pos = []\n",
    "    while w_start < len(s) and w_end < len(s):\n",
    "        while s[w_start] == ' ':\n",
    "            w_start += 1\n",
    "        w_end = w_start\n",
    "        while  w_end < len(s) and s[w_end] != ' ':\n",
    "            w_end += 1\n",
    "        word_pos.append([w_start, w_end])\n",
    "        w_start = w_end\n",
    "    xs = [' '] * len(s)\n",
    "    i = 0\n",
    "    for start, end  in word_pos[::-1]:\n",
    "        xs[i:(i+end-start)] = s[start:end]\n",
    "        i = i+end-start+1\n",
    "    return ''.join(xs)\n",
    "\n",
    "assert reverse_words(\"Do or do not, there is no try.\") == \"try. no is there not, do or Do\""
   ]
  },
  {
   "cell_type": "markdown",
   "metadata": {},
   "source": [
    "### Even-Odd Problem\n",
    "Rearrange the array so that even elements appear first.\n",
    "\n",
    "***key***: Use pivot variables to partition the array into even, unclassified and odd "
   ]
  },
  {
   "cell_type": "code",
   "execution_count": 4,
   "metadata": {
    "collapsed": false
   },
   "outputs": [
    {
     "data": {
      "text/plain": [
       "[2, 6, 5, 3, 9, 1, 7, 1]"
      ]
     },
     "execution_count": 4,
     "metadata": {},
     "output_type": "execute_result"
    }
   ],
   "source": [
    "def even_odd(xs):\n",
    "    # even partition : [-1, unclassfied)\n",
    "    # unclassfied partion: [unclassfied, odd)\n",
    "    # odd partition: [odd, ...]\n",
    "    unclassified = 0\n",
    "    odd = len(xs)\n",
    "    while unclassified < odd:\n",
    "        if xs[unclassified] % 2 == 1:\n",
    "            xs[unclassified], xs[odd-1] = xs[odd-1], xs[unclassified]\n",
    "            odd -= 1\n",
    "        elif xs[unclassified] % 2 == 0:\n",
    "            unclassified += 1\n",
    "    return xs\n",
    "\n",
    "r = even_odd([1, 1, 3, 5, 6, 9, 2, 7])\n",
    "assert set(r[:2]) == set([2, 6])\n",
    "r"
   ]
  },
  {
   "cell_type": "markdown",
   "metadata": {},
   "source": [
    "### Dutch national flag problem\n",
    "- background: quick-sort might become slow when the binary division by < and >= are not of comparable size, e.g., when we have a lot of duplicate values in the array. a better solution is to put them in three divisions such as <, = and >\n",
    "- it is trivial to use O(n) space\n",
    "- the solution is similiar to the previous even-odd problem\n",
    "- It is a difficult problem because we need to maintain 4 partitions, less-than, equal, greater-than and unclassified. One way of doing this is to do several pass."
   ]
  },
  {
   "cell_type": "code",
   "execution_count": 5,
   "metadata": {
    "collapsed": true
   },
   "outputs": [],
   "source": [
    "## to make the implementation easier, and thus less bug-prob\n",
    "## I use two iterations, one for moving smaller elements, one for moving bigger elements\n",
    "def dutch_flag(xs, pivot_index=0):\n",
    "    \"\"\"xs: array of ints\n",
    "    return xs as in partially ordered\n",
    "    \"\"\"\n",
    "    p = xs[pivot_index]\n",
    "    \n",
    "    # first pass - moving smaller to the front\n",
    "    i_lt, i_unclassified = -1, 0\n",
    "    while i_unclassified < len(xs):\n",
    "        x = xs[i_unclassified]\n",
    "        if x < p: \n",
    "            xs[i_lt+1], xs[i_unclassified] = xs[i_unclassified], xs[i_lt+1]\n",
    "            i_lt += 1\n",
    "        else:\n",
    "            i_unclassified += 1\n",
    "    # second pass - moving greater to the end\n",
    "    i_unclassified, i_gt = i_lt+1, len(xs)\n",
    "    while i_unclassified < i_gt:\n",
    "        x = xs[i_unclassified]\n",
    "#         print(xs, i_unclassified)\n",
    "        if x > p:\n",
    "            xs[i_gt-1], xs[i_unclassified] = xs[i_unclassified], xs[i_gt-1]\n",
    "            i_gt -= 1\n",
    "        else:\n",
    "            i_unclassified += 1\n",
    "        \n",
    "    return xs\n",
    "\n",
    "\n",
    "xs = [5, 1, 1, 3, 6, 9, 5, 2, 7]"
   ]
  },
  {
   "cell_type": "code",
   "execution_count": 6,
   "metadata": {
    "collapsed": false
   },
   "outputs": [
    {
     "data": {
      "text/plain": [
       "[1, 1, 3, 2, 5, 5, 9, 7, 6]"
      ]
     },
     "execution_count": 6,
     "metadata": {},
     "output_type": "execute_result"
    }
   ],
   "source": [
    "dutch_flag(xs)"
   ]
  },
  {
   "cell_type": "raw",
   "metadata": {
    "collapsed": true
   },
   "source": [
    "After some thoughts, I think one scan is enough to partition the elements. It can be illustrated like this\n",
    "\n",
    "   <        =           unclassified     >\n",
    "--------|--------|--------------------|------\n",
    "      lt_end    eq_end               gt_start"
   ]
  },
  {
   "cell_type": "code",
   "execution_count": 31,
   "metadata": {
    "collapsed": true
   },
   "outputs": [],
   "source": [
    "def dutch_flag(xs, pivot_index=0):\n",
    "    p = xs[pivot_index]\n",
    "    # define the partitions\n",
    "    # < : [0, lt_end)\n",
    "    # = : [lt_end, eq_end)\n",
    "    # unclassified: [eq_end, gt_start)\n",
    "    # >: [gt_start, n)\n",
    "    n = len(xs)\n",
    "    lt_end, gt_start = 0, n\n",
    "    i = 0\n",
    "    while i < gt_start:\n",
    "        if xs[i] == p:\n",
    "            i += 1\n",
    "        elif xs[i] < p: \n",
    "            xs[lt_end], xs[i] = xs[i], xs[lt_end] # xs[lt_end] should be equal before hand\n",
    "            i += 1\n",
    "            lt_end += 1\n",
    "        else:\n",
    "            xs[gt_start-1], xs[i] = xs[i], xs[gt_start-1]\n",
    "            gt_start -= 1\n",
    "    return xs"
   ]
  },
  {
   "cell_type": "code",
   "execution_count": 33,
   "metadata": {
    "collapsed": false
   },
   "outputs": [
    {
     "name": "stdout",
     "output_type": "stream",
     "text": [
      "5 [1, 1, 3, 2, 5, 5, 9, 7, 6]\n",
      "1 [1, 1, 3, 6, 9, 5, 2, 7, 5]\n",
      "9 [5, 1, 1, 3, 6, 5, 2, 7, 9]\n",
      "7 [5, 1, 1, 3, 6, 5, 2, 7, 9]\n"
     ]
    }
   ],
   "source": [
    "xs = [5, 1, 1, 3, 6, 9, 5, 2, 7]\n",
    "print(xs[0], dutch_flag(xs, 0))\n",
    "\n",
    "xs = [5, 1, 1, 3, 6, 9, 5, 2, 7]\n",
    "print(xs[1], dutch_flag(xs, 1))\n",
    "\n",
    "xs = [5, 1, 1, 3, 6, 9, 5, 2, 7]\n",
    "print(xs[5], dutch_flag(xs, 5))\n",
    "\n",
    "xs = [5, 1, 1, 3, 6, 9, 5, 2, 7]\n",
    "print(xs[8], dutch_flag(xs, 8))"
   ]
  },
  {
   "cell_type": "markdown",
   "metadata": {},
   "source": [
    "### palindromic string\n",
    "- python ```s[~i]``` for in in [0, len(s)) is s[-(i+1)]"
   ]
  },
  {
   "cell_type": "code",
   "execution_count": 18,
   "metadata": {
    "collapsed": false
   },
   "outputs": [
    {
     "data": {
      "text/plain": [
       "(-1, -2)"
      ]
     },
     "execution_count": 18,
     "metadata": {},
     "output_type": "execute_result"
    }
   ],
   "source": [
    "~0, ~1"
   ]
  },
  {
   "cell_type": "code",
   "execution_count": 22,
   "metadata": {
    "collapsed": true
   },
   "outputs": [],
   "source": [
    "def is_palindromic(s):\n",
    "    return all([s[i] == s[~i] for i in range(len(s) // 2)])\n",
    "\n",
    "\n",
    "assert is_palindromic(\"aabaa\") == True\n",
    "assert is_palindromic(\"a\") == True\n",
    "assert is_palindromic(\"aaba\") == False"
   ]
  },
  {
   "cell_type": "markdown",
   "metadata": {},
   "source": [
    "## 2. Static Searching\n",
    "- Usually assmes the elements are sorted"
   ]
  },
  {
   "cell_type": "markdown",
   "metadata": {},
   "source": [
    "### Binary search in python by bisect"
   ]
  },
  {
   "cell_type": "code",
   "execution_count": 42,
   "metadata": {
    "collapsed": false
   },
   "outputs": [],
   "source": [
    "## traditional binary search in pthhon\n",
    "import bisect\n",
    "xs = [1, 1, 2, 3, 5, 5, 6, 7, 9] # sorted\n",
    "\n",
    "assert bisect.bisect_left(xs, 1) == 0\n",
    "assert bisect.bisect_left(xs, 5) == 4\n",
    "assert bisect.bisect_left(xs, 9) == 8\n",
    "assert bisect.bisect_left(xs, -1) == 0"
   ]
  },
  {
   "cell_type": "markdown",
   "metadata": {},
   "source": [
    "### Search for FIRST occurance\n",
    "Write a method that takes a sorted array and a key and returns the index of the first occurrence of that key in the array. That's what `bisect.bisect_left` does.\n",
    "\n",
    "***key***: twist the test condition"
   ]
  },
  {
   "cell_type": "code",
   "execution_count": 48,
   "metadata": {
    "collapsed": false
   },
   "outputs": [],
   "source": [
    "def first_occurance(xs, x):\n",
    "    n = len(xs)\n",
    "    lower, upper = 0, n-1\n",
    "    while lower <= upper:\n",
    "        middle = lower + (upper-lower) // 2 # to avoid potential overflow\n",
    "        if xs[middle] > x:\n",
    "            upper = middle - 1\n",
    "        elif xs[middle] < x:\n",
    "            lower = middle + 1\n",
    "        else: #xs[middle] == x\n",
    "            while xs[middle] == x: # this might be O(n)!\n",
    "                middle -= 1\n",
    "            return middle+1\n",
    "    return None\n",
    "\n",
    "xs = [-14, -10, 2, 108, 108, 243, 285, 285, 401]\n",
    "\n",
    "assert first_occurance(xs, 108) == 3\n",
    "assert first_occurance(xs, 285) == 6\n",
    "assert first_occurance(xs, -14) == 0\n",
    "assert first_occurance(xs, -100) == None"
   ]
  },
  {
   "cell_type": "markdown",
   "metadata": {},
   "source": [
    "The worst case complexity for the above implementation might be O(n) + O(lgn) = O(n), because the backward search might take O(n).\n",
    "\n",
    "A better solution: The fundamental idea of binary search is to maintain a set of candidate solutions (like in `backtracking`). Binary search is doing searching by eliminating."
   ]
  },
  {
   "cell_type": "code",
   "execution_count": 53,
   "metadata": {
    "collapsed": false
   },
   "outputs": [],
   "source": [
    "## A better solution - keep the O(logn) in binary search\n",
    "\n",
    "def first_occurance(xs, x):\n",
    "    n = len(xs)\n",
    "    lower, upper = 0, n-1\n",
    "    found = None\n",
    "    while lower <= upper:\n",
    "        middle = lower + (upper - lower) // 2\n",
    "        if xs[middle] < x:\n",
    "            lower = middle + 1\n",
    "        elif xs[middle] > x:\n",
    "            upper = middle - 1\n",
    "        else:\n",
    "            found = middle # keep the answer\n",
    "            upper = middle - 1 # keep looking\n",
    "    return found\n",
    "\n",
    "xs = [-14, -10, 2, 108, 108, 243, 285, 285, 401]\n",
    "\n",
    "assert first_occurance(xs, 108) == 3\n",
    "assert first_occurance(xs, 285) == 6\n",
    "assert first_occurance(xs, -14) == 0\n",
    "assert first_occurance(xs, -100) == None"
   ]
  },
  {
   "cell_type": "markdown",
   "metadata": {},
   "source": [
    "## 3. Dynamic Searching\n",
    "- Heaps\n",
    "- Hash Tables\n",
    "- Binary Search Trees"
   ]
  },
  {
   "cell_type": "markdown",
   "metadata": {},
   "source": [
    "## 4. Sorting\n",
    "- Know the pros and cons of different sorting algorithm\n",
    "    - selection sort: swaping, in-palce, O(n2), not stable (bcs of swapping)\n",
    "    - insertion sort: O(n2), not in-place, fast when inserting a few new records\n",
    "    - quick sort: never merge, in-place, O(nlogn), worst case with repeated elements O(n2)\n",
    "    - merge sort: not in-place, O(nlogn)\n",
    "- Think about recursion\n",
    "- A common way to make an unstable sorting to stable sorting - adding position to new keys"
   ]
  },
  {
   "cell_type": "markdown",
   "metadata": {},
   "source": [
    "### Find the intersection of two sorted arrays (e.g., in search engine implmentation)\n",
    "\n",
    "- Two arrays may have duplicate elements, but the result should be duplicate free\n",
    "- it is a sorting problem because it is very related to merge-sort, which is to compare two sorted arrays\n",
    "- it is O(n) + O(m)"
   ]
  },
  {
   "cell_type": "code",
   "execution_count": 62,
   "metadata": {
    "collapsed": false
   },
   "outputs": [],
   "source": [
    "def intersection(xs1, xs2):\n",
    "    common = []\n",
    "    i1, i2 = 0, 0\n",
    "    while i1 < len(xs1) and i2 < len(xs2):\n",
    "        if xs1[i1] == xs2[i2]:\n",
    "            x = xs1[i1]\n",
    "            if len(common) == 0 or x != common[-1]:\n",
    "                common.append(x)\n",
    "            i1 += 1\n",
    "            i2 += 1\n",
    "        elif xs1[i1] < xs2[i2]:\n",
    "            i1 += 1\n",
    "        else: # xs1[i1] > xs2[i2]\n",
    "            i2 += 1\n",
    "    return common\n",
    "\n",
    "xs1 = [2, 3, 3, 5, 5, 6, 7, 7, 8, 12]\n",
    "xs2 = [5, 5, 6, 8, 8, 9, 10, 10]\n",
    "assert intersection(xs1, xs2) == [5, 6, 8]"
   ]
  },
  {
   "cell_type": "markdown",
   "metadata": {},
   "source": [
    "### Given (start, end) time of events, find the max # of simultaneous events\n",
    "- A common topic for sorting is to sort the intervals\n",
    "- intervals are like parenthesis\n",
    "***key:*** sort the interval endpoints, count the start as \"(\", and end as \")\"\n",
    "- it is O(nlogn) + O(n)"
   ]
  },
  {
   "cell_type": "markdown",
   "metadata": {},
   "source": [
    "## 5. SQL"
   ]
  },
  {
   "cell_type": "markdown",
   "metadata": {},
   "source": [
    "## 6. Data Structures"
   ]
  },
  {
   "cell_type": "markdown",
   "metadata": {},
   "source": [
    "### 6.1 Linked List"
   ]
  },
  {
   "cell_type": "markdown",
   "metadata": {},
   "source": [
    "### Find the start of a cycle\n",
    "- detect if there is a cycle (two points, one with step 1, the other with step 2)\n",
    "- find the length of cycle (starightfoward as long as pointer is at a cycle)\n",
    "- find the start - two pionters, one start from head, one start from cycle far, when they meet, it is the start."
   ]
  },
  {
   "cell_type": "code",
   "execution_count": 34,
   "metadata": {
    "collapsed": true
   },
   "outputs": [],
   "source": [
    "\n",
    "def find_cycle(xs):\n",
    "    def has_cycle(xs):\n",
    "        fast = slow = xs\n",
    "        while fast != None:\n",
    "            slow = slow.next\n",
    "            fast = fast.next.next\n",
    "            if slow == fast:\n",
    "                return True, slow\n",
    "        return False, None\n",
    "    def cycle_len(x_at_cycle):\n",
    "        x, cl = x_at_cycle.next, 1\n",
    "        while x != x_at_cycle:\n",
    "            x = x.next\n",
    "            cl += 1\n",
    "        return cl\n",
    "    def cycle_start(xs, cy_len):\n",
    "        start = xs\n",
    "        end = xs\n",
    "        for _ in range(cy_len):\n",
    "            end = end.next\n",
    "        while start != end:\n",
    "            start = start.next\n",
    "            end = end.next\n",
    "        return start\n",
    "    is_cycle, cycle_node = has_cycle(xs)\n",
    "    if is_cycle:\n",
    "        l = cycle_len(cycle_node)\n",
    "        return cycle_start(xs, l)\n",
    "    else:\n",
    "        return None"
   ]
  },
  {
   "cell_type": "code",
   "execution_count": 37,
   "metadata": {
    "collapsed": false
   },
   "outputs": [],
   "source": [
    "from collections import namedtuple\n",
    "Node = namedtuple(\"Node\", (\"data\", \"next\"))\n",
    "\n",
    "nocycle = Node(1, Node(2, Node(3, Node(4, None))))\n",
    "\n",
    "assert find_cycle(nocycle) == None\n",
    "\n",
    "\n",
    "\n",
    "\n",
    "class Node(object):\n",
    "    def __init__(self, data, next):\n",
    "        self.data = data\n",
    "        self.next = next\n",
    "\n",
    "a = Node(1, None)\n",
    "b = Node(2, None)\n",
    "c = Node(3, None)\n",
    "d = Node(4, None)\n",
    "e = Node(5, None)\n",
    "a.next = b\n",
    "b.next = c\n",
    "c.next = d\n",
    "d.next = e\n",
    "e.next = b\n",
    "cycle = a\n",
    "assert find_cycle(cycle) == b\n"
   ]
  },
  {
   "cell_type": "markdown",
   "metadata": {},
   "source": [
    "### 6.2 Stacks & Queues\n",
    "- See Pattern and Tricks for some usage of Stacks/Queues\n",
    "- Good for implementation of iteration in different orders\n",
    "- a `deque` is a double queue"
   ]
  },
  {
   "cell_type": "markdown",
   "metadata": {},
   "source": [
    "#### Enhanced API of Stack with max()\n",
    "- using additional data structure to return the current max() value in the  stack.\n",
    "\n",
    "*** Solution ***: Use another stack to store the maximum and their occurances."
   ]
  },
  {
   "cell_type": "code",
   "execution_count": 22,
   "metadata": {
    "collapsed": false
   },
   "outputs": [],
   "source": [
    "class Stack(object):\n",
    "    def __init__(self):\n",
    "        self.data_stack = []\n",
    "        self.max_stack = []\n",
    "    def push(self, x):\n",
    "        # update data-stack\n",
    "        self.data_stack.append(x)\n",
    "        # update max-stack\n",
    "        if len(self.max_stack)==0:\n",
    "            self.max_stack.append((x, 1))\n",
    "        else:\n",
    "            if self.max() == x:\n",
    "                _, times = self.max_stack[-1]\n",
    "                self.max_stack[-1] = (x, times+1)\n",
    "            elif self.max() < x:\n",
    "                self.max_stack.append((x, 1))\n",
    "            else:\n",
    "                pass\n",
    "    def pop(self):\n",
    "        # update data-stack\n",
    "        x = self.data_stack[-1]\n",
    "        del self.data_stack[-1]\n",
    "        # update max-stack\n",
    "        if x < self.max():\n",
    "            pass\n",
    "        elif x == self.max():\n",
    "            _, times = self.max_stack[-1]\n",
    "            if times > 1:\n",
    "                self.max_stack[-1] = (x, times-1)\n",
    "            else:\n",
    "                del self.max_stack[-1]\n",
    "        return x\n",
    "    def top(self):\n",
    "        return self.data_stack[-1]\n",
    "    def max(self):\n",
    "        return self.max_stack[-1][0]\n",
    "    \n",
    "    \n",
    "s = Stack()\n",
    "s.push(2); assert s.top() == 2; assert s.max() == 2\n",
    "s.push(2); assert s.top() == 2; assert s.max() == 2\n",
    "s.push(1); assert s.top() == 1; assert s.max() == 2\n",
    "s.push(4); assert s.top() == 4; assert s.max() == 4\n",
    "s.push(5); assert s.top() == 5; assert s.max() == 5\n",
    "s.push(5); assert s.top() == 5; assert s.max() == 5\n",
    "s.push(3); assert s.top() == 3; assert s.max() == 5\n",
    "s.pop(); assert s.top() == 5; assert s.max() == 5\n",
    "s.pop(); assert s.top() == 5; assert s.max() == 5\n",
    "s.pop(); assert s.top() == 4; assert s.max() == 4\n",
    "s.pop(); assert s.top() == 1; assert s.max() == 2\n",
    "s.push(0); assert s.top() == 0; assert s.max() == 2\n",
    "s.push(3); assert s.top() == 3; assert s.max() == 3"
   ]
  },
  {
   "cell_type": "markdown",
   "metadata": {},
   "source": [
    "### Depth-first traverse of a tree\n",
    "***Hint*** it is a queue"
   ]
  },
  {
   "cell_type": "markdown",
   "metadata": {},
   "source": [
    "### 6.3 binary trees\n",
    "- recursion usually implies simple solutions\n",
    "- recurion implementation of preorder/inorder/postorder tree traverse is O(n) in time and O(h) in space\n",
    "- Some tree problems have simple brute-force solutions that use O(n) space solution, but subtler solutions that uses the existing tree nodes to reduce space complexity to O(1).\n",
    "- Consider left- and right-skewed trees when doing complexity analysis. Note that O(h) com-\n",
    "plexity, where h is the tree height, translates into O(log n) complexity for balanced trees, but O(n) complexity for skewed trees.\n",
    "- A `complete binary tree` is a binary tree in which every level, except possibly the last, is completely filled, and all nodes are as far left as possible. It can be implemented as an array with (i, left_child=i\\*2+1, right_child=i\\*2+2) - think of an example, e.g., (0, 1, 2). *The array is the flattened tree with depth first traverse.*"
   ]
  },
  {
   "cell_type": "markdown",
   "metadata": {},
   "source": [
    "#### Height balanced tree:\n",
    "A binary tree is said to be height-balanced if for each node in the tree, the difference in the height of its left and right subtrees is at most one."
   ]
  },
  {
   "cell_type": "code",
   "execution_count": 9,
   "metadata": {
    "collapsed": false
   },
   "outputs": [],
   "source": [
    "from collections import namedtuple\n",
    "TreeNode = namedtuple(\"TreeNode\", (\"data\", \"left\", \"right\"))\n",
    "\n",
    "balanced_tree = TreeNode(\"A\", \n",
    "                   TreeNode(\"B\", \n",
    "                           TreeNode(\"C\",\n",
    "                                   TreeNode(\"D\",\n",
    "                                           TreeNode(\"E\", None, None),\n",
    "                                           TreeNode(\"F\", None, None)),\n",
    "                                   TreeNode(\"G\", None, None)),\n",
    "                           TreeNode(\"H\",\n",
    "                                   TreeNode(\"I\", None, None),\n",
    "                                   TreeNode(\"J\", None, None))),\n",
    "                   TreeNode(\"K\",\n",
    "                           TreeNode(\"L\",\n",
    "                                   TreeNode(\"M\", None, None),\n",
    "                                   TreeNode(\"N\", None, None)),\n",
    "                           TreeNode(\"O\", None, None)))\n",
    "\n",
    "nonbalanced_tree = TreeNode(\"A\",\n",
    "                           TreeNode(\"B\",\n",
    "                                   TreeNode(\"C\",\n",
    "                                            TreeNode(\"D\", None, None),\n",
    "                                            None),\n",
    "                                   TreeNode(\"E\", None, None)),\n",
    "                           TreeNode(\"F\", None, None))\n",
    "\n",
    "def height(tree):\n",
    "    if tree is None:\n",
    "        return 0\n",
    "    else:\n",
    "        return max(height(tree.left), height(tree.right)) + 1\n",
    "\n",
    "def is_balanced(tree):\n",
    "    if tree.left is None and tree.right is None:\n",
    "        return True\n",
    "    elif tree.left is None:\n",
    "        return height(tree.right) == 1\n",
    "    elif tree.right is None:\n",
    "        return height(tree.left) == 1\n",
    "    else:\n",
    "        return ( is_balanced(tree.left) \n",
    "                and is_balanced(tree.right) \n",
    "                and abs(height(tree.left) - height(tree.right))<=1 )\n",
    "\n",
    "assert is_balanced(balanced_tree) == True\n",
    "assert is_balanced(nonbalanced_tree) == False"
   ]
  },
  {
   "cell_type": "markdown",
   "metadata": {},
   "source": [
    "### 6.4 Heap\n",
    "- A `complete binary tree` is a binary tree in which every level, except possibly the last, is completely filled, and all nodes are as far left as possible.\n",
    "- A `heap` is a complete binary tree whose keys satisfy `heap property` - the key at each node is at least as great as the keys stored at its children (for max heap).\n",
    "- As a complete binary tree, it can be implemented as an array as well.\n",
    "- *A heap is sometimes referred to as a priority queue because it behaves like a queue - each element has a priorty associated with it, and deletion removes the element with the highest priority.*\n",
    "- Complexity:\n",
    "    - Insertion: O(logn) (traverse from root to leaf)\n",
    "    - Heapify: O(nlogn)\n",
    "    - Max: O(1)\n",
    "    - Deletion of max: O(logn) (swaping the empty node to a leaf) - Deletion is performed by replacing the root key (max) with the key at the last leaf (end of array) and then recoving the heap property by repeatedly exchanging keys with children.\n",
    "- in python, `heap` is implemented in module `heapq` - ***it is a min heap***"
   ]
  },
  {
   "cell_type": "markdown",
   "metadata": {},
   "source": [
    "#### Keep the K-top longest strings in string stream\n",
    "- stream data: no storage of past\n",
    "- keep the k longest string\n",
    "- use a min-heap (rather than max-heap) because we will need to update the min element of the k-top strings every time"
   ]
  },
  {
   "cell_type": "code",
   "execution_count": 34,
   "metadata": {
    "collapsed": true
   },
   "outputs": [],
   "source": [
    "import heapq\n",
    "from itertools import islice\n",
    "\n",
    "def top_k(k, ss):\n",
    "    heap = [(len(s), s) for s in islice(ss, k)]\n",
    "    heapq.heapify(heap)\n",
    "    for s in ss:\n",
    "        heapq.heappushpop(heap, (len(s), s))\n",
    "    return [p[1] for p in heapq.nsmallest(k, heap)]\n",
    "\n",
    "assert top_k(3, iter([\"a\", \"abc\", \"ab\", \"ac\"]) ) == ['ab', 'ac', 'abc']\n",
    "assert top_k(3, iter([\"a\", \"abc\", \"ab\", \"abd\", \"abbb\"])) == ['abc', 'abd', 'abbb']\n"
   ]
  },
  {
   "cell_type": "markdown",
   "metadata": {},
   "source": [
    "#### Merge sorted arrays\n",
    "- if it is two arrays, then it is standard merge_sort\n",
    "- if it is more than many arrays, it's better to use a heap to keep track of the front of each array\n",
    "- *pythonic solution: heapq.merge() does exactly the same thing* "
   ]
  },
  {
   "cell_type": "code",
   "execution_count": 42,
   "metadata": {
    "collapsed": false
   },
   "outputs": [],
   "source": [
    "import heapq\n",
    "sorted_arrays = [\n",
    "    [3, 5, 7],\n",
    "    [0, 6],\n",
    "    [0, 6, 28]\n",
    "]\n",
    "\n",
    "# pythonic solution\n",
    "def merge(arrays):\n",
    "    return list(heapq.merge(*sorted_arrays))\n",
    "\n",
    "assert merge(sorted_arrays) == [0, 0, 3, 5, 6, 6, 7, 28]\n",
    "\n",
    "# in detail - keep all the front element\n",
    "# in a mini heap. to do that, need to track\n",
    "# where the elements in heap are from\n",
    "def merge(arrays):\n",
    "    # convert arrays to generator\n",
    "    arrays = [iter(xs) for xs in arrays]\n",
    "    # mini heap\n",
    "    heap = [(next(xs), i) for i, xs in enumerate(arrays)]\n",
    "    heapq.heapify(heap)\n",
    "    # populate sorted array\n",
    "    merged = []\n",
    "    while heap:\n",
    "        x, i =  heapq.heappop(heap)\n",
    "        merged.append(x)\n",
    "        newx = next(arrays[i], None)\n",
    "        if newx is not None:\n",
    "            heapq.heappush(heap, (newx, i) )\n",
    "    return merged\n",
    "\n",
    "assert merge(sorted_arrays) == [0, 0, 3, 5, 6, 6, 7, 28]"
   ]
  },
  {
   "cell_type": "markdown",
   "metadata": {},
   "source": [
    "### 6.5 hash tables\n",
    "- trade space for time, usually has O(1) insertion, lookup and deletion\n",
    "- dynamic list or set cannot be used as hash key, to use them coneptually, we need the `frozenset`"
   ]
  },
  {
   "cell_type": "markdown",
   "metadata": {},
   "source": [
    "#### Return groups of anagrams\n",
    "- Given a set of words, return groups of words, where in each group the words are anagrams (words arranged in different orders) of each other.\n",
    "- example:\n",
    "    - given {“debitcard”, “elvis”, “silent”, “badcredit”, “lives”, “freedom”, “listen”, “levis”, “money”}\n",
    "    - return all three possible groups (1.) {“debitcard”, “badcredit”}; (2.) “elvis”, “lives”, “levis”; (3.) “silent”, “listen”\n",
    "- ***key: design the right hash function to group different anagrams***"
   ]
  },
  {
   "cell_type": "code",
   "execution_count": 47,
   "metadata": {
    "collapsed": false
   },
   "outputs": [
    {
     "data": {
      "text/plain": [
       "[['debitcard', 'badcredit'], ['elvis', 'lives', 'levis'], ['silent', 'listen']]"
      ]
     },
     "execution_count": 47,
     "metadata": {},
     "output_type": "execute_result"
    }
   ],
   "source": [
    "words = [\"debitcard\", \"elvis\", \n",
    "         \"silent\", \"badcredit\",\n",
    "         \"lives\", \"freedom\",\n",
    "         \"listen\", \"levis\", \"money\"]\n",
    "## use the sorted string as hash key\n",
    "from collections import defaultdict\n",
    "\n",
    "def anagram_groups(words):\n",
    "    # that is the cheapest python implementaion of hash\n",
    "    hash = defaultdict(list)\n",
    "    for w in words:\n",
    "        k = ''.join(sorted(w))\n",
    "        hash[k].append(w)\n",
    "        \n",
    "    results = []\n",
    "    for k, v in hash.items():\n",
    "        if len(v) >= 2:\n",
    "            results.append(v)\n",
    "    return results\n",
    "\n",
    "anagram_groups(words)"
   ]
  },
  {
   "cell_type": "markdown",
   "metadata": {},
   "source": [
    "#### Pythonic hash related data structure usage"
   ]
  },
  {
   "cell_type": "code",
   "execution_count": 61,
   "metadata": {
    "collapsed": false
   },
   "outputs": [
    {
     "name": "stdout",
     "output_type": "stream",
     "text": [
      "Counter({'a': 4, 'b': 3})\n",
      "Counter({'a': 2})\n",
      "Counter({'a': 1, 'b': 1})\n",
      "Counter({'a': 3, 'b': 2})\n"
     ]
    }
   ],
   "source": [
    "from collections import Counter\n",
    "x = Counter(a=3, b=1)\n",
    "y = Counter(a=1, b=2)\n",
    "print(x + y)\n",
    "print(x - y) # only keep positive part\n",
    "print(x & y) # set like interface\n",
    "print(x | y)"
   ]
  },
  {
   "cell_type": "code",
   "execution_count": 63,
   "metadata": {
    "collapsed": false
   },
   "outputs": [
    {
     "name": "stdout",
     "output_type": "stream",
     "text": [
      "False\n",
      "{2, 314}\n"
     ]
    }
   ],
   "source": [
    "s = set([1, 2, 3])\n",
    "s.add(314)\n",
    "s.remove(1)\n",
    "s.discard(100)\n",
    "print( set([1, 3]) <= s )\n",
    "print( s - set([1, 3]) )"
   ]
  },
  {
   "cell_type": "code",
   "execution_count": 65,
   "metadata": {
    "collapsed": false
   },
   "outputs": [
    {
     "data": {
      "text/plain": [
       "-7699079583225461316"
      ]
     },
     "execution_count": 65,
     "metadata": {},
     "output_type": "execute_result"
    }
   ],
   "source": [
    "## it calls __hash__ of the class\n",
    "\n",
    "hash(frozenset([1, 2, 3]))"
   ]
  },
  {
   "cell_type": "markdown",
   "metadata": {},
   "source": [
    "### 6.6 Binary Search Tree\n",
    "- BSTs are a workhorse of data structures and can be used to solve almost every data structures problem reasonably efficiently.\n",
    "- They offer the ability to efficiently \n",
    "    - search for a key\n",
    "    - find the min and max elements, \n",
    "    - look for the successor or predecessor of a search key (which itself need not be present in the BST)\n",
    "    - enumerate the keys in a range in sorted order.\n",
    "- Insertion, deletion and lookup take time proportional to height of the tree, which could be O(N) in the worst case.\n",
    "- RB (Red Black) Tree are balanced trees that gaurantee the tree has a balanced height.\n",
    "- Unlike a hash table, a BST offers the ability to find the min and max elements, and find the next largest/next smallest element - it is more like a sorted array in this case. Both hash table and BST uses O(n) space, but in practice, BST uses a slightly more.\n",
    "- Unlike a sorted array, a BST makes insertion and deletion much easier.\n",
    "- Most BST algorithms (e.g., search) has a natural recursion implementation"
   ]
  },
  {
   "cell_type": "markdown",
   "metadata": {},
   "source": [
    "#### Check if a binary tree is BST\n",
    "- inorder tranversal of BST should return a sorted array, by definition\n",
    "- ***The essence of BST constraints can be expressed as that all the nodes in the tree is in the range [lower, upper]. ***\n",
    "    - at the beginning, the rannge is [-inf, inf]\n",
    "    - at the left subtree, it becomes [-inf, root], and at the right tree, it is [root, inf]"
   ]
  },
  {
   "cell_type": "code",
   "execution_count": 13,
   "metadata": {
    "collapsed": false
   },
   "outputs": [],
   "source": [
    "from collections import namedtuple\n",
    "Node = namedtuple('Node', ('key', 'left', 'right'))\n",
    "\n",
    "bst_tree = Node(\n",
    "           key=19,\n",
    "           left=Node(\n",
    "               key=7, \n",
    "               left=Node(\n",
    "                   key=3,\n",
    "                   left=Node(2, None, None),\n",
    "                   right=Node(5, None, None)\n",
    "               ),\n",
    "               right=Node(\n",
    "                   key=11,\n",
    "                   left=None,\n",
    "                   right=Node(\n",
    "                       key=17,\n",
    "                       left=Node(13, None, None),\n",
    "                       right=None\n",
    "                   )\n",
    "               )\n",
    "           ),\n",
    "           right=Node(\n",
    "               key=43,\n",
    "               left=Node(\n",
    "                   key=23,\n",
    "                   left=None,\n",
    "                   right=Node(\n",
    "                       key=37,\n",
    "                       left=Node(\n",
    "                           key=29,\n",
    "                           left=None,\n",
    "                           right=Node(31, None, None)\n",
    "                       ),\n",
    "                       right=Node(41, None, None)\n",
    "                   )\n",
    "               ),\n",
    "               right=Node(\n",
    "                   key=47,\n",
    "                   left=None,\n",
    "                   right=Node(53, None, None)\n",
    "               )\n",
    "           )\n",
    ")\n",
    "\n",
    "nobst_tree = Node(\n",
    "           key=19,\n",
    "           left=Node(\n",
    "               key=7, \n",
    "               left=Node(\n",
    "                   key=3,\n",
    "                   left=Node(2, None, None),\n",
    "                   right=Node(5, None, None)\n",
    "               ),\n",
    "               right=Node(\n",
    "                   key=15,\n",
    "                   left=None,\n",
    "                   right=Node(\n",
    "                       key=17,\n",
    "                       left=Node(13, None, None),\n",
    "                       right=None\n",
    "                   )\n",
    "               )\n",
    "           ),\n",
    "           right=Node(\n",
    "               key=43,\n",
    "               left=Node(\n",
    "                   key=23,\n",
    "                   left=None,\n",
    "                   right=Node(\n",
    "                       key=37,\n",
    "                       left=Node(\n",
    "                           key=29,\n",
    "                           left=None,\n",
    "                           right=Node(31, None, None)\n",
    "                       ),\n",
    "                       right=Node(41, None, None)\n",
    "                   )\n",
    "               ),\n",
    "               right=Node(\n",
    "                   key=47,\n",
    "                   left=None,\n",
    "                   right=Node(53, None, None)\n",
    "               )\n",
    "           )\n",
    ")\n"
   ]
  },
  {
   "cell_type": "code",
   "execution_count": 15,
   "metadata": {
    "collapsed": false
   },
   "outputs": [],
   "source": [
    "## implementation based on inorder traversal\n",
    "\n",
    "def inorder(tree):\n",
    "    if tree == None:\n",
    "        return []\n",
    "    else:\n",
    "        return inorder(tree.left) + [tree.key] + inorder(tree.right)\n",
    "\n",
    "def is_bst(tree):\n",
    "    xs = inorder(tree)\n",
    "    for i in range(1, len(xs)):\n",
    "        if xs[i] < xs[i-1]: return False\n",
    "    return True\n",
    "\n",
    "assert is_bst(bst_tree) == True\n",
    "assert is_bst(nobst_tree) == False"
   ]
  },
  {
   "cell_type": "code",
   "execution_count": 19,
   "metadata": {
    "collapsed": true
   },
   "outputs": [],
   "source": [
    "## implementation based on interval constraint\n",
    "\n",
    "def bst(tree, lower=float('-inf'), upper=float('inf')):\n",
    "    if tree is None: return True\n",
    "    if tree.key < lower or tree.key > upper:\n",
    "        return False\n",
    "    return (bst(tree.left, lower, tree.key) \n",
    "            and bst(tree.right, tree.key, upper))\n",
    "\n",
    "assert is_bst(bst_tree) == True\n",
    "assert is_bst(nobst_tree) == False"
   ]
  },
  {
   "cell_type": "markdown",
   "metadata": {},
   "source": [
    "### 6.7 Graph\n",
    "\n",
    "Computing vertices which are reachable from other vertices is a fundamental operation which\n",
    "can be performed in one of two idiomatic ways, namely depth-first search (DFS) and breadth-first\n",
    "search (BFS). Both have linear time complexity—O(|V| + |E|) to be precise. In the worst-case there is\n",
    "a path from the initial vertex covering all vertices without any repeats, and the DFS edges selected\n",
    "correspond to this path, so the space complexity of DFS is O(|V|) (this space is implicitly allocated\n",
    "on the function call stack). The space complexity of BFS is also O(|V|), since in a worst-case there\n",
    "is an edge from the initial vertex to all remaining vertices, implying that they will all be in the BFS\n",
    "queue simultaneously at some point."
   ]
  },
  {
   "cell_type": "markdown",
   "metadata": {},
   "source": [
    "#### Given a graph, represent it, and find if it is reachable from a source to a dest"
   ]
  },
  {
   "cell_type": "code",
   "execution_count": 19,
   "metadata": {
    "collapsed": false
   },
   "outputs": [
    {
     "name": "stdout",
     "output_type": "stream",
     "text": [
      "{'a': ['b'], 'b': ['c'], 'c': ['a', 'd'], 'd': ['f'], 'e': ['f']}\n"
     ]
    }
   ],
   "source": [
    "def build_graph(edges):\n",
    "    \"\"\"Build graph as adjancency list\n",
    "    \"\"\"\n",
    "    g = {}\n",
    "    for src, dst in edges:\n",
    "        if src not in g:\n",
    "            g[src] = []\n",
    "        g[src].append(dst)\n",
    "    return g\n",
    "\n",
    "def is_reachable(g, src, dst):\n",
    "    \"\"\"\n",
    "    Input:\n",
    "        - g: directed graph as adjancency list \n",
    "        - src: src node\n",
    "        - dst: dst node\n",
    "    Output:\n",
    "        - return if there is a path in g from src to dst\n",
    "    DFS\n",
    "    \"\"\"\n",
    "    candidates = [src]\n",
    "    visited = set()\n",
    "    while len(candidates) > 0:\n",
    "        current = candidates.pop()\n",
    "        visited.add(current)\n",
    "        if current == dst:\n",
    "            return True\n",
    "        elif current in g:\n",
    "            for candidate in g[current]:\n",
    "                if candidate not in visited:\n",
    "                    candidates.append(candidate)\n",
    "    return False\n",
    "\n",
    "def test():\n",
    "    edges = [\n",
    "        (\"a\", \"b\"),\n",
    "        (\"b\", \"c\"),\n",
    "        (\"c\", \"a\"),\n",
    "        (\"c\", \"d\"),\n",
    "        (\"d\", \"f\"),\n",
    "        (\"e\", \"f\")\n",
    "    ]\n",
    "    g = build_graph(edges)\n",
    "    print(g)\n",
    "    assert is_reachable(g, \"c\", \"f\") == True\n",
    "    assert is_reachable(g, \"a\", \"e\") == False\n",
    "    \n",
    "test()"
   ]
  },
  {
   "cell_type": "markdown",
   "metadata": {},
   "source": [
    "## 7. Patterns and Tricks\n",
    "- Most puzzles regarding comparison of every pair can be potentially optimized by first sorting and then partially comparing the elements (e.g., with neighbors). Examples are [finding shortes prefix](http://www.geeksforgeeks.org/find-all-shortest-unique-prefixes-to-represent-each-word-in-a-given-list/)\n",
    "- Stacks/Queues can be very useful when we need to iterating and manipulating (e.g., removing/inserting) at the same time, e.g. [delete consecutive same words in sequence](http://www.geeksforgeeks.org/delete-consecutive-words-sequence/)"
   ]
  },
  {
   "cell_type": "markdown",
   "metadata": {},
   "source": [
    "### 7.1 Recursion\n",
    "- More generally, searching, enumeration, divide-and-conquer, and decomposing a complex problem into a set of similar smaller instances are all scenarios where recursion may be suitable.\n",
    "- If you are asked to remove recursion from a program, consider mimicking call stack with the stack data structure.\n",
    "- Recursion can be easily removed from a tail-recursive program by using a while-loop—no stack is needed.\n",
    "- Divide and conquer might be really power, which usually results in a O(nlogn) solution"
   ]
  },
  {
   "cell_type": "markdown",
   "metadata": {},
   "source": [
    "### 7.2 Dynamic Programming\n",
    "- DP is a general technique for solving optimization, search, and counting problems that can be decomposed into subproblems.\n",
    "- *** You should consider using DP whenever you have to make choices to arrive at the solution, specifically, when the solution relates to subproblems. ***\n",
    "- *** Like divide-and-conquer, DP solves the problem by combining the solutions of multiple smaller problems, but what makes DP different is that the same subproblem may reoccur.***\n",
    "    - typical example is Fibonacci F(n) = F(n-1) + F(n-2)\n",
    "    - when repeating subproblems occur, it can usually be solved by using a \"caching\" mechanism. This will generally uses O(n) time but also O(n) space\n",
    "    - DP usually uses O(n) time but O(1) space, by ***ordering*** the subproblems carefully.\n",
    "- ***The key to DP problems is to find the relation between subproblems and bigger ones***"
   ]
  },
  {
   "cell_type": "markdown",
   "metadata": {},
   "source": [
    "#### Find the maximum sum of all subarrays\n",
    "e.g., xs = [904, 40, 523, 12, -335, -385, -124, 481, -31]\n",
    "\n",
    "***How to think about it***\n",
    "- first we need to be able to represent the solution, it can be represented by two endpoints, [start, end]\n",
    "- given the representation of the solution, try to come up with a nature way of recursion (divide and conquer)\n",
    "    - divide into two parts (***recursive solution***), e.g., delimited by middle point: it is actually doable, we need 3 parts to assemble into a bigger solution: max-subarray of left & right part (by recursion), sum of max subarray ends at left and subrray starts at right\n",
    "    - think about how to derive S(n) from S(n-1) - not really obvious how the recursion is directly replated to [start, end]. But for any solution of subarray A[0, i], it depends on two things:\n",
    "        - subarray of A[0, k] with k <= i, which sum is MINIMAL\n",
    "        - sum of subarary A[0, i]\n",
    "        - the solution is the difference of the two\n",
    "    - these two things can now be updated in a recursive manner!"
   ]
  },
  {
   "cell_type": "code",
   "execution_count": 1,
   "metadata": {
    "collapsed": false
   },
   "outputs": [],
   "source": [
    "xs = [1, 2, 3, -3, -2, -2, 5, 6, 7, -1]\n",
    "\n",
    "import itertools\n",
    "\n",
    "def max_sub(xs):\n",
    "    max_start = 0\n",
    "    max_end = 0\n",
    "    min_end = 0\n",
    "    min_sum, max_sum, running_sum = 0, 0, 0\n",
    "    for i, x in enumerate(xs):\n",
    "        running_sum += x\n",
    "        if min_sum > running_sum:\n",
    "            min_sum = running_sum\n",
    "            min_end = i\n",
    "        if running_sum - min_sum > max_sum:\n",
    "            max_sum = running_sum - min_sum\n",
    "            max_start = min_end + 1\n",
    "            max_end = i\n",
    "    return (max_start, max_end)\n",
    "\n",
    "assert max_sub(xs) == (6, 8) # elements 6, 7, 8"
   ]
  },
  {
   "cell_type": "markdown",
   "metadata": {
    "collapsed": false
   },
   "source": [
    "#### find the number of ways of traveling (either right or down) from top left to bottom right of a 2D grid\n",
    "- first step of dp is usually to represent the solution as a recursion\n",
    "    - e.g., N(i,j) = N(i-1,j) + N(i, j-1)\n",
    "- The key is to find the order of computation (or use caching)"
   ]
  },
  {
   "cell_type": "code",
   "execution_count": 7,
   "metadata": {
    "collapsed": false
   },
   "outputs": [],
   "source": [
    "cache = {}\n",
    "cache[(0, 0)] = 1\n",
    "def traverse(nr, nc):\n",
    "    if (nr, nc) not in cache:\n",
    "        if nr == 0:\n",
    "            cache[(0, nc)] = traverse(0, nc-1)\n",
    "        elif nc == 0:\n",
    "            cache[(nr, 0)] = traverse(nr-1, 0)\n",
    "        else:\n",
    "            cache[(nr, nc)] = traverse(nr-1, nc) + traverse(nr, nc-1)\n",
    "    return cache[(nr, nc)]\n",
    "\n",
    "assert traverse(4, 4) == 70"
   ]
  },
  {
   "cell_type": "markdown",
   "metadata": {},
   "source": [
    "### 7.3 Greedy Algorithm\n",
    "- Sometimes, there are multiple greedy algorithms for a given problem, and only some of them are optimum.\n",
    "- A greedy algorithm is often the right choice for an optimization problem where there’s a natural set of choices to select from.\n",
    "- It’s often easier to conceptualize a greedy algorithm recursively, and then implement it using iteration for higher performance.\n",
    "- Even if the greedy approach does not yield an optimum solution, it can give insights into the optimum algorithm, or serve as a heuristic.\n",
    "- Sometimes the correct greedy algorithm is not obvious."
   ]
  },
  {
   "cell_type": "markdown",
   "metadata": {},
   "source": [
    "#### For coins of type 1, 5, 10, 25, 50, 100, find the minimum number of coins for a change"
   ]
  },
  {
   "cell_type": "code",
   "execution_count": 11,
   "metadata": {
    "collapsed": false
   },
   "outputs": [
    {
     "data": {
      "text/plain": [
       "4"
      ]
     },
     "execution_count": 11,
     "metadata": {},
     "output_type": "execute_result"
    }
   ],
   "source": [
    "def make_changes(cents):\n",
    "    COINS = [100, 50, 25, 10, 5, 1]\n",
    "    \n",
    "    n_coins = 0\n",
    "    for coin in COINS:\n",
    "        n_coins += cents // coin\n",
    "        cents = cents % coin\n",
    "    return n_coins\n",
    "    \n",
    "make_changes(13)"
   ]
  },
  {
   "cell_type": "markdown",
   "metadata": {},
   "source": [
    "### 7.4 invariants \n",
    "- A common approach to designing an efficient algorithm is to use invariants. \n",
    "- Briefly, an invariant is a condition that is true during execution of a program.\n",
    "- Often, the invariant is a subset of the set of input space, e.g,. a subarray."
   ]
  },
  {
   "cell_type": "markdown",
   "metadata": {},
   "source": [
    "#### two-sum: write a program that takes as input a sorted array and a given target value and determines if there are two entries in the array that add up to that value\n",
    "- hashing\n",
    "- sorting and two pointers\n",
    "    - logic: e.g., if current xs[smaller] + xs[bigger] < k, you should only increase smaller, instead of increase bigger, because if (smaller, > bigger) is a solution, the bigger pointer wont be moved to bigger in the first place, i.e., it should have been found already.\n",
    "    - ***another way of explaining it: The shrinking makes use of the sortedness of the array. Specifically, if the sum of the leftmost and the rightmost elements is less than the target, then the leftmost element can never be combined with some element to obtain the target. A similar observation holds for the rightmost element.***"
   ]
  },
  {
   "cell_type": "code",
   "execution_count": 15,
   "metadata": {
    "collapsed": false
   },
   "outputs": [
    {
     "name": "stdout",
     "output_type": "stream",
     "text": [
      "(2, 11)\n",
      "None\n"
     ]
    }
   ],
   "source": [
    "\n",
    "def sum2(xs, k):\n",
    "    xs = sorted(xs)\n",
    "    smaller, bigger = 0, len(xs)-1\n",
    "    while smaller < bigger:\n",
    "        if xs[smaller] + xs[bigger] < k:\n",
    "            smaller += 1\n",
    "        elif xs[smaller] + xs[bigger] > k:\n",
    "            bigger -= 1\n",
    "        else:\n",
    "            return (xs[smaller], xs[bigger])\n",
    "    return None\n",
    "\n",
    "xs = [-2, 1, 2, 4, 7, 11]\n",
    "k = 13\n",
    "\n",
    "print(sum2(xs, k))\n",
    "\n",
    "xs = [-2, 1, 2, 4, 7, 11]\n",
    "k = 10\n",
    "\n",
    "print(sum2(xs, k))"
   ]
  },
  {
   "cell_type": "markdown",
   "metadata": {},
   "source": [
    "#### three-sum\n",
    "- Design an algorithm that takes as input an array and a number, and determines if there are three entries in the array (not necessarily distinct) which add up to the specified number.\n",
    "- For example,if the array is 11, 2, 5, 7, 3 then there are three entries in the array which add up to 21 (3, 7, 11 and 5, 5, 11). (Note that we can use 5 twice, since the problem statement said we can use the same entry more than once.) However, no three entries add up to 22."
   ]
  },
  {
   "cell_type": "code",
   "execution_count": 22,
   "metadata": {
    "collapsed": false
   },
   "outputs": [
    {
     "name": "stdout",
     "output_type": "stream",
     "text": [
      "{(5, 5, 11), (3, 7, 11)}\n",
      "None\n"
     ]
    }
   ],
   "source": [
    "xs = [11, 2, 5, 7, 3]\n",
    "\n",
    "def sum3(xs, k):\n",
    "    results = set()\n",
    "    for x in xs:\n",
    "        r2 = sum2(xs, k-x) \n",
    "        if r2 is not None:\n",
    "            results.add( tuple(sorted([r2[0], r2[1], x])) )\n",
    "    return None if len(results) == 0 else results\n",
    "\n",
    "k = 21\n",
    "print(sum3(xs, k))\n",
    "\n",
    "k = 22\n",
    "print(sum3(xs, k))"
   ]
  },
  {
   "cell_type": "markdown",
   "metadata": {},
   "source": [
    "## Python Language Features"
   ]
  },
  {
   "cell_type": "code",
   "execution_count": 20,
   "metadata": {
    "collapsed": false
   },
   "outputs": [
    {
     "name": "stdout",
     "output_type": "stream",
     "text": [
      "13\n"
     ]
    }
   ],
   "source": [
    "increment_by_i = [ lambda x: x + i for i in range (10)]\n",
    "print( increment_by_i [3](4) )"
   ]
  },
  {
   "cell_type": "markdown",
   "metadata": {},
   "source": [
    "### Closure\n",
    "The program prints 13 (=9 + 4) rather than the 7 (=3 + 4) than might be expected. This\n",
    "is because the the functions created in the loop have the same scope. They use the same variable\n",
    "name, and consequently, all refer to the same variable, i, which is 10 at the end of the loop, hence\n",
    "the 13 (=9 + 4).\n",
    "Solution: change the scope"
   ]
  },
  {
   "cell_type": "code",
   "execution_count": 22,
   "metadata": {
    "collapsed": false
   },
   "outputs": [
    {
     "name": "stdout",
     "output_type": "stream",
     "text": [
      "7\n"
     ]
    }
   ],
   "source": [
    "def create_increment_function (x):\n",
    "    return lambda y: y + x\n",
    "increment_by_i = [ create_increment_function (i) for i in range (10)]\n",
    "print( increment_by_i [3](4) )"
   ]
  },
  {
   "cell_type": "markdown",
   "metadata": {},
   "source": [
    "### Deep copy and shallow copy\n",
    "- assignment in python is not copy (it just points a reference to a value)\n",
    "- for mutalbe compound objects, there is difference between shallow/deep copy\n",
    "- they are implemented as `copy.copy` and `copy.deepcopy`\n",
    "- shallow copy of compound object only involves reference of components"
   ]
  },
  {
   "cell_type": "code",
   "execution_count": 24,
   "metadata": {
    "collapsed": false
   },
   "outputs": [
    {
     "name": "stdout",
     "output_type": "stream",
     "text": [
      "[[1, [100, 3]], 4]\n",
      "[[1, [100, 3]], 4]\n",
      "[[1, [100, 3]], 4]\n",
      "[[1, [-100, 3]], 4]\n"
     ]
    }
   ],
   "source": [
    "import copy\n",
    "xs = [[1, [2, 3]], 4]\n",
    "# ys = xs # its not copying, its referring\n",
    "shallow = copy.copy(xs)\n",
    "deep = copy.deepcopy(xs)\n",
    "\n",
    "shallow[0][1][0] = 100\n",
    "print(xs)\n",
    "print(shallow)\n",
    "\n",
    "deep[0][1][0] = -100\n",
    "print(xs)\n",
    "print(deep)"
   ]
  },
  {
   "cell_type": "markdown",
   "metadata": {},
   "source": [
    "# Excercises"
   ]
  },
  {
   "cell_type": "code",
   "execution_count": null,
   "metadata": {
    "collapsed": true
   },
   "outputs": [],
   "source": []
  }
 ],
 "metadata": {
  "kernelspec": {
   "display_name": "Python 3",
   "language": "python",
   "name": "python3"
  },
  "language_info": {
   "codemirror_mode": {
    "name": "ipython",
    "version": 3
   },
   "file_extension": ".py",
   "mimetype": "text/x-python",
   "name": "python",
   "nbconvert_exporter": "python",
   "pygments_lexer": "ipython3",
   "version": "3.6.0"
  }
 },
 "nbformat": 4,
 "nbformat_minor": 2
}
