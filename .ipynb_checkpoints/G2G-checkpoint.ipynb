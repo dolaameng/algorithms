{
 "cells": [
  {
   "cell_type": "markdown",
   "metadata": {},
   "source": [
    "*** Algorithms is about finding structures in your data and making use of them. ***"
   ]
  },
  {
   "cell_type": "markdown",
   "metadata": {},
   "source": [
    "# Array\n",
    "\n",
    "## Patterns of Array\n",
    "\n",
    "### search \n",
    "- for single, or group of, or beginning of certain elements \n",
    "- usually involves extended binary search (keep looking even after you found one)\n",
    "- with help of data strucutures such as heap, bst\n",
    "\n",
    "### pairs\n",
    "- pairs of constraints, e.g., sum, diff equal to k\n",
    "    - method 1: using hashing\n",
    "    - method 2: sort the array, use `two pointers approach` (invariants)\n",
    "        - for sum (or symmetry in pairs), use head-tail pointers\n",
    "        - for diff (or asymmetry in pairs), use head-head pointers (equivalent to negating the array first)\n",
    "- pairs of min/max\n",
    "    - usually it is starightforward enough after sorting the array\n",
    " \n",
    "### subarrays - solutions usually depend on the representations\n",
    "- represented as arbitrary gap between i, and j (e.g., sum of subarray closest to 0)\n",
    "- represented as two pointers (for min/max), one is fast one is slow, the optimal subarray solution is usually represented as the gap of the two pointers, e.g., (max sum of subarray)\n",
    "- represented as two pointers (for csp), right is moving first to meet the constraint, and left moves to form another solution - kinda like backtracking, but be careful when the cumsum is not strictly increasing, i.e., not all elements are positive"
   ]
  },
  {
   "cell_type": "markdown",
   "metadata": {},
   "source": [
    "## Find all pairs from two sorted array where the sum is k\n",
    "- method 1: iterate one array and bin-search in the other, nlog(m) complexity\n",
    "- method 2: hashing, always think of hashing for arrays O(n) + O(m)"
   ]
  },
  {
   "cell_type": "code",
   "execution_count": 1,
   "metadata": {
    "collapsed": true
   },
   "outputs": [],
   "source": [
    "xs1 = [1, 3, 5, 7]\n",
    "xs2 = [2, 3, 5, 8]\n",
    "k = 10"
   ]
  },
  {
   "cell_type": "code",
   "execution_count": 2,
   "metadata": {
    "collapsed": false
   },
   "outputs": [],
   "source": [
    "## method 1 binary search by taking advantage of sorted array\n",
    "## nlog(m) complexity\n",
    "\n",
    "import bisect\n",
    "def found(xs, x):\n",
    "    i = bisect.bisect_left(xs, x)\n",
    "    return i < len(xs) and xs[i] == x\n",
    "\n",
    "def sum_pairs(xs1, xs2, k):\n",
    "    result = set()\n",
    "    for x1 in xs1:\n",
    "        x2 = k - x1\n",
    "        if found(xs2, x2):\n",
    "            result.add((x1, x2))\n",
    "    return result\n",
    "        \n",
    "\n",
    "assert sum_pairs(xs1, xs2, k) == {(5, 5), (7, 3)}"
   ]
  },
  {
   "cell_type": "code",
   "execution_count": 3,
   "metadata": {
    "collapsed": false
   },
   "outputs": [],
   "source": [
    "## method 2 - hashing \n",
    "def sum_pairs(xs1, xs2, k):\n",
    "    h1 = set()\n",
    "    result = set()\n",
    "    for x1 in xs1:\n",
    "        h1.add(x1)\n",
    "    for x2 in xs2:\n",
    "        if (k-x2) in h1:\n",
    "            result.add( (k-x2, x2) )\n",
    "    return result\n",
    "\n",
    "assert sum_pairs(xs1, xs2, k) == {(5, 5), (7, 3)}"
   ]
  },
  {
   "cell_type": "markdown",
   "metadata": {},
   "source": [
    "## Find k numbers with most occurences in the given array\n",
    "- Use a hash to count the occurances and then use a max heap to go through the hash - return the larger number when frequence calls a tie\n",
    "- O(n) complexity"
   ]
  },
  {
   "cell_type": "code",
   "execution_count": 41,
   "metadata": {
    "collapsed": false
   },
   "outputs": [],
   "source": [
    "xs = [3, 1, 4, 4, 5, 2, 6, 1, 3]\n",
    "k = 2\n",
    "\n",
    "from collections import defaultdict\n",
    "import heapq\n",
    "\n",
    "def top_k(xs, k):\n",
    "    counts = defaultdict(lambda : 0)\n",
    "    for x in xs:\n",
    "        counts[x] += 1\n",
    "    counts = iter(counts.items())\n",
    "    heap = []\n",
    "    for _ in range(k):\n",
    "        x, c = next(counts)\n",
    "        heap.append((c, x))\n",
    "    heapq.heapify(heap)\n",
    "    for x, c in counts:\n",
    "        heapq.heappushpop(heap, (c, x))\n",
    "    return [x for c,x in heapq.nlargest(k, heap)]\n",
    "\n",
    "assert top_k(xs, k) == [4, 3]"
   ]
  },
  {
   "cell_type": "markdown",
   "metadata": {
    "collapsed": true
   },
   "source": [
    "## find the subarray of an unsorted array, which has sum closest to 0"
   ]
  },
  {
   "cell_type": "code",
   "execution_count": 1,
   "metadata": {
    "collapsed": false
   },
   "outputs": [
    {
     "name": "stdout",
     "output_type": "stream",
     "text": [
      "(1, 3, 0)\n",
      "(2, 4, 1)\n"
     ]
    }
   ],
   "source": [
    "def zero_sub(xs):\n",
    "    accum_sum = []\n",
    "    s = 0\n",
    "    for i, x in enumerate(xs):\n",
    "        s += x\n",
    "        accum_sum.append((i, s))\n",
    "    accum_sum = sorted(accum_sum, key=lambda kv: kv[1])\n",
    "#     print(accum_sum)\n",
    "    start, end = 0, 0\n",
    "    min_sum = abs(sum(xs))\n",
    "    for i in range(1, len(accum_sum)):\n",
    "        i1, s1 = accum_sum[i-1]\n",
    "        i2, s2 = accum_sum[i]\n",
    "        s = s2 - s1 if i1 < i2 else s1 - s2\n",
    "        if abs(s) < abs(min_sum):\n",
    "            min_sum = s\n",
    "            start, end = min(i1, i2), max(i1, i2)\n",
    "    return (start+1, end, min_sum)\n",
    "\n",
    "xs = [-1, 3, 2, -5, 4]\n",
    "print(zero_sub(xs))\n",
    "\n",
    "xs = [2, -5, 4, -6, 3]\n",
    "print(zero_sub(xs))"
   ]
  },
  {
   "cell_type": "code",
   "execution_count": null,
   "metadata": {
    "collapsed": true
   },
   "outputs": [],
   "source": [
    "# two pointers approach\n",
    "def close_zero_sub(xs):\n",
    "    pass\n",
    "\n",
    "xs = [-1, 3, 2, -5, 4]\n",
    "print(close_zero_sub(xs))\n",
    "\n",
    "xs = [2, -5, 4, -6, 3]\n",
    "print(close_zero_sub(xs))"
   ]
  },
  {
   "cell_type": "markdown",
   "metadata": {},
   "source": [
    "## for an array of distinct elements, find all triplets whose product is equal to given constant\n"
   ]
  },
  {
   "cell_type": "code",
   "execution_count": 3,
   "metadata": {
    "collapsed": false
   },
   "outputs": [],
   "source": [
    "xs = [1, 4, 6, 2, 3, 8]\n",
    "m = 24\n",
    "\n",
    "\n",
    "def find_triplets(xs, m):\n",
    "    h = {x: i for i, x in enumerate(xs)}\n",
    "    r = set()\n",
    "    for i1 in range(len(xs)):\n",
    "        for i2 in range(i1+1, len(xs)):\n",
    "            p = xs[i1] * xs[i2]\n",
    "            if p != 0 and m >= p and m % p == 0:\n",
    "                x3 = m // p\n",
    "                if x3 in h and h[x3] != i2 and h[x3] != i1:\n",
    "                    r.add(tuple(sorted([xs[i1], xs[i2], x3])))\n",
    "    return len(r)\n",
    "\n",
    "xs = [1, 4, 6, 2, 3, 8]\n",
    "m = 24\n",
    "assert find_triplets(xs, m) == 3\n",
    "\n",
    "xs = [0, 4, 6, 2, 3, 8]\n",
    "m = 18\n",
    "assert find_triplets(xs, m) == 0"
   ]
  },
  {
   "cell_type": "markdown",
   "metadata": {},
   "source": [
    "## find a pair of elements, each from two different arrays, by swapping them, we get the same sum for the two arrays"
   ]
  },
  {
   "cell_type": "code",
   "execution_count": 4,
   "metadata": {
    "collapsed": false
   },
   "outputs": [
    {
     "name": "stdout",
     "output_type": "stream",
     "text": [
      "{(2, 3)}\n",
      "{(5, 1), (6, 2), (7, 3)}\n"
     ]
    }
   ],
   "source": [
    "def swap_to_equal(xs, ys):\n",
    "    hys = set(ys)\n",
    "    sum_xs = sum(xs)\n",
    "    sum_ys = sum(ys)\n",
    "    target_sum = (sum_xs + sum_ys) // 2\n",
    "    change_for_xs = target_sum - sum_xs\n",
    "    result = set()\n",
    "    for x in xs:\n",
    "        y = change_for_xs + x\n",
    "        if y in hys:\n",
    "            result.add((x, y))\n",
    "    return result\n",
    "\n",
    "xs = [4, 1, 2, 1, 1, 2]\n",
    "ys = [1, 6, 3, 3]\n",
    "print(swap_to_equal(xs, ys))\n",
    "\n",
    "xs = [5, 7, 4, 6]\n",
    "ys = [1, 2, 3, 8]\n",
    "print(swap_to_equal(xs, ys))"
   ]
  },
  {
   "cell_type": "code",
   "execution_count": 9,
   "metadata": {
    "collapsed": false
   },
   "outputs": [
    {
     "name": "stdout",
     "output_type": "stream",
     "text": [
      "{(2, 3)}\n",
      "{(5, 1), (6, 2), (7, 3)}\n"
     ]
    }
   ],
   "source": [
    "## it is an variant of two pointers approach on pair difference\n",
    "def swap_to_equal(xs, ys):\n",
    "    xs = sorted(xs)\n",
    "    ys = sorted(ys)\n",
    "    sum_xs = sum(xs)\n",
    "    sum_ys = sum(ys)\n",
    "    ix = iy = 0\n",
    "    result = set()\n",
    "    while (ix < len(xs) and iy < len(ys)):\n",
    "        x, y = xs[ix], ys[iy]\n",
    "        if sum_xs - x + y < sum_ys - y + x:\n",
    "            iy += 1\n",
    "        elif sum_xs - x + y > sum_ys - y + x:\n",
    "            ix += 1\n",
    "        else:\n",
    "            result.add( (x, y) )\n",
    "            ix += 1\n",
    "            iy += 1\n",
    "    return result\n",
    "\n",
    "xs = [4, 1, 2, 1, 1, 2]\n",
    "ys = [1, 6, 3, 3]\n",
    "print(swap_to_equal(xs, ys))\n",
    "\n",
    "xs = [5, 7, 4, 6]\n",
    "ys = [1, 2, 3, 8]\n",
    "print(swap_to_equal(xs, ys))"
   ]
  },
  {
   "cell_type": "code",
   "execution_count": null,
   "metadata": {
    "collapsed": true
   },
   "outputs": [],
   "source": []
  },
  {
   "cell_type": "markdown",
   "metadata": {},
   "source": [
    "## find the pair of elements, each from one of two array, whose sum is equal to a given k\n",
    "- you can use hash\n",
    "- or use two pointers - popular with all CSP problem that has a partial order"
   ]
  },
  {
   "cell_type": "code",
   "execution_count": 9,
   "metadata": {
    "collapsed": false
   },
   "outputs": [
    {
     "name": "stdout",
     "output_type": "stream",
     "text": [
      "{(7, 3), (5, 5)}\n",
      "{(4, 5), (5, 4), (1, 8), (3, 6)}\n"
     ]
    }
   ],
   "source": [
    "## two pointers solution\n",
    "\n",
    "def foo(xs, ys, k):\n",
    "    xs = sorted(xs)\n",
    "    ys = sorted(ys)\n",
    "    ix, iy = 0, len(ys)-1\n",
    "    result = set()\n",
    "    while ix < len(xs) and iy > 0:\n",
    "        x, y = xs[ix], ys[iy]\n",
    "        if x + y < k:\n",
    "            ix += 1\n",
    "        elif x + y > k:\n",
    "            iy -= 1\n",
    "        else:\n",
    "            result.add((x, y))\n",
    "            ix += 1\n",
    "            iy -= 1\n",
    "    return result\n",
    "\n",
    "xs = [1, 3, 5, 7]\n",
    "ys = [2, 3, 5, 8]\n",
    "k = 10\n",
    "print(foo(xs, ys, k))\n",
    "\n",
    "xs = [1, 2, 3, 4, 5, 7, 11]\n",
    "ys = [2, 3, 4, 5, 6, 8, 12]\n",
    "k = 9\n",
    "print(foo(xs, ys, k))"
   ]
  },
  {
   "cell_type": "markdown",
   "metadata": {},
   "source": [
    "## find subarrays that have the same set of elements with the original one"
   ]
  },
  {
   "cell_type": "code",
   "execution_count": 1,
   "metadata": {
    "collapsed": false
   },
   "outputs": [
    {
     "name": "stdout",
     "output_type": "stream",
     "text": [
      "[(0, 2), (0, 3), (0, 4), (1, 3), (1, 4)]\n",
      "[(0, 4), (1, 4)]\n",
      "[(0, 1), (0, 2), (0, 3), (0, 4), (1, 3), (1, 4), (2, 3), (2, 4), (3, 4)]\n"
     ]
    }
   ],
   "source": [
    "from collections import defaultdict\n",
    "def sub_of_unique(xs):\n",
    "    n_unique = len(set(xs))\n",
    "    n = len(xs)\n",
    "    \n",
    "    result = []\n",
    "    window = {}\n",
    "    start, end = 0, 0\n",
    "    while start < n:\n",
    "        while end < n and len(window) < n_unique:\n",
    "            x = xs[end]\n",
    "            window[x] = window.get(x, 0) + 1\n",
    "            end += 1\n",
    "        if len(window) == n_unique:\n",
    "            for post_end in range(end-1, n):\n",
    "                result.append((start, post_end))\n",
    "        window[xs[start]] -= 1\n",
    "        if window[xs[start]] == 0:\n",
    "            del window[xs[start]]\n",
    "        start += 1\n",
    "    return result\n",
    "\n",
    "xs = [2, 1, 3, 2, 3] # 5\n",
    "print(sub_of_unique(xs))\n",
    "xs = [2, 4, 5, 2, 1] # 2\n",
    "print(sub_of_unique(xs))\n",
    "xs = [2, 4, 4, 2, 4] # 9\n",
    "print(sub_of_unique(xs))"
   ]
  },
  {
   "cell_type": "markdown",
   "metadata": {
    "collapsed": true
   },
   "source": [
    "## find the pair of elements, each from one of two arrays, whose abs-diff is equal to k. One element in an array can only be used zero or once\n",
    "- Another application of \"invariants\" (or two pointers)\n",
    "- firtly, the two pointers are not one from beginning, the other from the back - because we want to make the pair as close as possible\n",
    "- the proof is similiar though: at a moment, anything on the left of the pivots should not be able to be a solution. "
   ]
  },
  {
   "cell_type": "code",
   "execution_count": 21,
   "metadata": {
    "collapsed": false
   },
   "outputs": [
    {
     "name": "stdout",
     "output_type": "stream",
     "text": [
      "[(1, 4), (2, 5), (3, 6), (4, 7)]\n",
      "[(10, 12), (15, 17)]\n"
     ]
    }
   ],
   "source": [
    "def find_pairs(xs, ys, k):\n",
    "    xs = sorted(xs)\n",
    "    ys = sorted(ys)\n",
    "    ix, iy = 0, 0\n",
    "    \n",
    "    pairs = []\n",
    "    while ix < len(xs) and iy < len(ys):\n",
    "        x, y = xs[ix], ys[iy]\n",
    "        if abs(x-y) <= k:\n",
    "            pairs.append((x, y))\n",
    "            ix += 1\n",
    "            iy += 1\n",
    "        elif x < y:\n",
    "            ix += 1\n",
    "        else:\n",
    "            iy += 1\n",
    "    return pairs\n",
    "\n",
    "xs = [3, 4, 5, 2, 1]\n",
    "ys = [6, 5, 4, 7]\n",
    "k = 3\n",
    "\n",
    "print(find_pairs(xs, ys, k))\n",
    "\n",
    "xs = [10, 15, 20]\n",
    "ys = [17, 12, 24]\n",
    "k = 3\n",
    "\n",
    "print(find_pairs(xs, ys, k))"
   ]
  },
  {
   "cell_type": "markdown",
   "metadata": {},
   "source": [
    "## Given an array having N integers, find the contiguous subarray having sum as great as possible,, but not greater than M.\n",
    "- https://www.quora.com/Given-an-array-of-integers-A-and-an-integer-k-find-a-subarray-that-contains-the-largest-sum-subject-to-a-constraint-that-the-sum-is-less-than-k\n",
    "- O(nlogn)"
   ]
  },
  {
   "cell_type": "code",
   "execution_count": 3,
   "metadata": {
    "collapsed": false
   },
   "outputs": [
    {
     "name": "stdout",
     "output_type": "stream",
     "text": [
      "-1\n",
      "3\n",
      "3\n"
     ]
    }
   ],
   "source": [
    "import bisect\n",
    "def best_subarray(xs, k):\n",
    "    cumsums = [0]\n",
    "    cum = 0\n",
    "    best = -float(\"inf\")\n",
    "    for x in xs:\n",
    "        cum += x\n",
    "        \n",
    "        i = bisect.bisect_left(cumsums, cum-k)\n",
    "        # if use bisect_right, when the last element is equal, it will return len(xs)\n",
    "        \n",
    "        if i != len(cumsums):\n",
    "#             print(cumsums, cum, cumsums[i], best)\n",
    "            best = max(cum-cumsums[i], best)\n",
    "        bisect.insort(cumsums, cum)\n",
    "        \n",
    "    return best\n",
    "        \n",
    "    \n",
    "    \n",
    "xs = [2, 2, -1]\n",
    "k = 0\n",
    "print(best_subarray(xs, k))\n",
    "\n",
    "xs = [2, 2, -1]\n",
    "k = 3\n",
    "print(best_subarray(xs, k))\n",
    "\n",
    "xs = [2, 2, -2, 5, 1]\n",
    "k = 3\n",
    "print(best_subarray(xs, k))"
   ]
  },
  {
   "cell_type": "code",
   "execution_count": 89,
   "metadata": {
    "collapsed": false
   },
   "outputs": [
    {
     "data": {
      "text/plain": [
       "(2, 1)"
      ]
     },
     "execution_count": 89,
     "metadata": {},
     "output_type": "execute_result"
    }
   ],
   "source": [
    "bisect.bisect_right([1, 2], 2), bisect.bisect_left([1, 2], 2)"
   ]
  },
  {
   "cell_type": "code",
   "execution_count": 1,
   "metadata": {
    "collapsed": true
   },
   "outputs": [],
   "source": [
    "## two pointers solution\n",
    "## if the elements of array is strictly positive\n",
    "## the cum sum will be strictly increasing. \n",
    "## so we can use the two pointers approach\n",
    "## it is O(n) algorithm as the worst case is \n",
    "## to move left and right to the end of array\n",
    "\n",
    "def best_subarray(xs, k):\n",
    "    left = right = 0\n",
    "    cum_sum = 0\n",
    "    best = 0\n",
    "    while left < len(xs):\n",
    "        while right < len(xs) and cum_sum + xs[right+1] <= k:\n",
    "            right += 1\n",
    "            cum_sum += xs[right]\n",
    "        if cum_sum + xs[right] <= k:\n",
    "            best = max(best, cum_sum + xs[right])\n",
    "        left += 1\n",
    "        cum_sum -= xs[left-1]\n",
    "    return best"
   ]
  },
  {
   "cell_type": "code",
   "execution_count": 6,
   "metadata": {
    "collapsed": false
   },
   "outputs": [
    {
     "name": "stdout",
     "output_type": "stream",
     "text": [
      "3\n",
      "3\n"
     ]
    }
   ],
   "source": [
    "    \n",
    "# xs = [2, 2, -1]\n",
    "# k = 0\n",
    "# print(best_subarray(xs, k))\n",
    "\n",
    "xs = [2, 2, -1]\n",
    "k = 3\n",
    "print(best_subarray(xs, k))\n",
    "\n",
    "xs = [2, 2, -2, 5, 1]\n",
    "k = 3\n",
    "print(best_subarray(xs, k))"
   ]
  },
  {
   "cell_type": "markdown",
   "metadata": {},
   "source": [
    "## Arrays Apple Stocks\n",
    "www.interviewcake.com Charlie Parks\n",
    "\n",
    "I have an array stock_prices_yesterday where:\n",
    "The indices are the time, as a number of minutes past trade opening time, which was 9:30am local time.\n",
    "The values are the price of Apple stock at that time, in dollars.\n",
    "For example, the stock cost $500 at 10:30am, so stock_prices_yesterday[60] = 500.\n",
    "Write an efficient algorithm for computing the best profit I could have made from 1 purchase and 1 sale of 1 Apple stock yesterday. For this problem, we won't allow \"shorting\"—you must buy before you sell."
   ]
  },
  {
   "cell_type": "code",
   "execution_count": 14,
   "metadata": {
    "collapsed": false
   },
   "outputs": [],
   "source": [
    "def best_trade(stock_prices):\n",
    "    \"\"\"\n",
    "    Inputs: stock_prices, an array of stock prices at increasing time\n",
    "    Outputs:\n",
    "        - when to buy\n",
    "        - when to sell\n",
    "        - profit\n",
    "    such that profit is maximized\n",
    "    \"\"\"\n",
    "    buy, sell, profit = 0, 0, float('-inf')\n",
    "    min_price, max_price = float('inf'), float('-inf')\n",
    "    for i, price in enumerate(stock_prices):\n",
    "        if (price < min_price):\n",
    "            min_price = price\n",
    "            buy = i\n",
    "        if (price > max_price):\n",
    "            max_price = price\n",
    "            sell = i\n",
    "    profit = stock_prices[sell] - stock_prices[buy]\n",
    "    return (buy, sell, profit)\n",
    "\n",
    "def test():\n",
    "    stock_prices = [5, 2, 1, 2, 3, 6, 7, 11, 5, 3]\n",
    "    buy, sell, profit = best_trade(stock_prices)\n",
    "    assert (buy, sell, profit) == (2, 7, 10), (buy, sell, profit)\n",
    "    \n",
    "test()"
   ]
  },
  {
   "cell_type": "markdown",
   "metadata": {},
   "source": [
    "## Remove Numbers in Array\n",
    "\n",
    "codercareer.blogspot.com Charlie Parks\n",
    "\n",
    "Given an array and a value, how to implement a function to remove all instances of that value in place and return the new length?"
   ]
  },
  {
   "cell_type": "code",
   "execution_count": 18,
   "metadata": {
    "collapsed": false
   },
   "outputs": [],
   "source": [
    "def remove(xs, x):\n",
    "    \"\"\"\n",
    "    Input:\n",
    "        - xs: array\n",
    "        - x: element to remove\n",
    "    Output:\n",
    "        - array after x removed\n",
    "    Should use O(1) space (in-place)\n",
    "    \"\"\"\n",
    "    src, dst = 0, 0\n",
    "    while src < len(xs):\n",
    "        if (src != dst):\n",
    "            xs[src], xs[dst] = xs[dst], xs[src]\n",
    "        src += 1\n",
    "        if xs[dst] != x:\n",
    "            dst += 1\n",
    "    return xs[:dst]\n",
    "\n",
    "def test():\n",
    "    xs, x = [4, 3, 2, 1, 2, 3, 6], 2\n",
    "    assert remove(xs, x) == [4, 3, 1, 3, 6], remove(xs, x) \n",
    "    \n",
    "test()"
   ]
  },
  {
   "cell_type": "markdown",
   "metadata": {},
   "source": [
    "## remove the duplicates\n",
    "Given an array, remove the duplicates and return a unique array keeping the first occurrence of the duplicates and the order."
   ]
  },
  {
   "cell_type": "code",
   "execution_count": 25,
   "metadata": {
    "collapsed": false
   },
   "outputs": [],
   "source": [
    "def remove_dup(xs):\n",
    "    \"\"\"\n",
    "    Inputs: xs array\n",
    "    Output: ys: array with duplicated elements removed, order kept\n",
    "    \"\"\"\n",
    "    h = set()\n",
    "    src, dst = 0, 0\n",
    "    while src < len(xs):\n",
    "        if src != dst:\n",
    "            xs[src], xs[dst] = xs[dst], xs[src]\n",
    "        src += 1\n",
    "        if xs[dst] not in h:\n",
    "            h.add(xs[dst])\n",
    "            dst += 1\n",
    "        else:\n",
    "            pass\n",
    "    return xs[:dst]\n",
    "\n",
    "def test():\n",
    "    xs = [2, 1, 1, 1, 2, 3]\n",
    "    assert remove_dup(xs) == [2, 1, 3], remove_dup(xs)\n",
    "    \n",
    "test()"
   ]
  },
  {
   "cell_type": "markdown",
   "metadata": {},
   "source": [
    "# BST\n",
    "- it is all about searching and taking advantage of the property (bounds) of trees"
   ]
  },
  {
   "cell_type": "markdown",
   "metadata": {},
   "source": [
    "## find the element in a BST, which is upper bounded by k"
   ]
  },
  {
   "cell_type": "code",
   "execution_count": 10,
   "metadata": {
    "collapsed": false
   },
   "outputs": [],
   "source": [
    "#    5\n",
    "#  2    12\n",
    "# 1 3  9  21\n",
    "#       19 25\n",
    "\n",
    "from collections import namedtuple\n",
    "T = namedtuple(\"T\", (\"d\", \"l\", \"r\"))\n",
    "\n",
    "tree = T(5,\n",
    "  T(2, \n",
    "    T(1, None, None),\n",
    "    T(3, None, None)),\n",
    "  T(12,\n",
    "    T(9, None, None),\n",
    "    T(21,\n",
    "      T(19, None, None),\n",
    "      T(25, None, None))))\n",
    "\n",
    "\n",
    "\n",
    "def find_greatest_upper_bound_by(tree, upper):\n",
    "    if tree is None:\n",
    "        return float('-inf')\n",
    "    else:\n",
    "        if tree.d == upper:\n",
    "            return tree.d\n",
    "        elif tree.d < upper:\n",
    "            return max(tree.d, find_greatest_upper_bound_by(tree.r, upper))\n",
    "        else: # tree.d > upper\n",
    "            return find_greatest_upper_bound_by(tree.l, upper)\n",
    "        \n",
    "upper = 24 # -> 21\n",
    "assert find_greatest_upper_bound_by(tree, upper) == 21\n",
    "upper = 4 # -> 3\n",
    "assert find_greatest_upper_bound_by(tree, upper) == 3\n",
    "\n",
    "upper = 0 # -> -inf\n",
    "assert find_greatest_upper_bound_by(tree, upper) == float('-inf'), find_greatest_upper_bound_by(tree, upper)"
   ]
  },
  {
   "cell_type": "markdown",
   "metadata": {},
   "source": [
    "## merge n sorted arrays"
   ]
  },
  {
   "cell_type": "code",
   "execution_count": 38,
   "metadata": {
    "collapsed": true
   },
   "outputs": [],
   "source": [
    "xs1 = iter([1, 3, 5, 7])\n",
    "xs2 = iter([2, 4, 6, 8])\n",
    "xs3 = iter([0, 9, 10, 11])\n",
    "\n",
    "streams = [xs1, xs2, xs3]\n",
    "n = len(streams)\n",
    "\n",
    "import heapq\n",
    "\n",
    "minheap = [next(s) for s in streams]\n",
    "heapq.heapify(minheap)"
   ]
  },
  {
   "cell_type": "markdown",
   "metadata": {
    "collapsed": true
   },
   "source": [
    "## return # of even-number branch node\n",
    "- the value of the node is even number\n",
    "- the node is a branch node (rather than a leaf)\n",
    "- it is just the traverse of the tree\n",
    "```\n",
    "          +---+\n",
    "          | 2 |\n",
    "          +---+\n",
    "         /     \\\n",
    "     +---+     +---+\n",
    "     | 8 |     | 1 |\n",
    "     +---+     +---+\n",
    "    /         /     \\\n",
    "+---+     +---+     +---+\n",
    "| 0 |     | 7 |     | 6 |\n",
    "+---+     +---+     +---+\n",
    "         /               \\\n",
    "     +---+               +---+\n",
    "     | 4 |               | 9 |\n",
    "     +---+               +---+\n",
    "```\n",
    "returns 3 (2, 8, 6)"
   ]
  },
  {
   "cell_type": "code",
   "execution_count": 49,
   "metadata": {
    "collapsed": false
   },
   "outputs": [],
   "source": [
    "from collections import namedtuple\n",
    "\n",
    "TreeNode = namedtuple(\"TreeNode\", (\"data\", \"left\", \"right\"))\n",
    "def Node(data, left=None, right=None):\n",
    "    return TreeNode(data, left, right)\n",
    "\n",
    "def even_branch_node(tree):\n",
    "    \"\"\"\n",
    "    Input: \n",
    "        - tree: bst of ints\n",
    "    Output:\n",
    "        - number of non-leaf nodes whose elements are even\n",
    "    O(n)\n",
    "    \"\"\"\n",
    "    if tree is None:\n",
    "        return 0\n",
    "    elif tree.left is None and tree.right is None:\n",
    "        return 0\n",
    "    else:\n",
    "        return (tree.data % 2 == 0) + even_branch_node(tree.left) + even_branch_node(tree.right)\n",
    "    \n",
    "def test():\n",
    "    tree = Node(2,\n",
    "               Node(8,\n",
    "                   Node(0),\n",
    "                   None),\n",
    "               Node(1,\n",
    "                   Node(7,\n",
    "                       Node(4),\n",
    "                       None),\n",
    "                   Node(6,\n",
    "                       None,\n",
    "                       Node(9)))\n",
    "            )\n",
    "    result = even_branch_node(tree)\n",
    "    assert result == 3, result\n",
    "    \n",
    "test()"
   ]
  },
  {
   "cell_type": "markdown",
   "metadata": {
    "collapsed": true
   },
   "source": [
    "# Linked List"
   ]
  },
  {
   "cell_type": "markdown",
   "metadata": {},
   "source": [
    "## insertion sort of doubly linked list"
   ]
  },
  {
   "cell_type": "code",
   "execution_count": 19,
   "metadata": {
    "collapsed": false
   },
   "outputs": [],
   "source": [
    "class Node:\n",
    "    def __init__(self, data, prev=None, next=None):\n",
    "        self.data = data\n",
    "        self.prev = prev\n",
    "        self.next = next\n",
    "    def __repr__(self):\n",
    "        return \"{}\".format(self.data)\n",
    "    \n",
    "def make_ddl(nodes):\n",
    "    for i in range(1, len(nodes)):\n",
    "        nodes[i-1].next = nodes[i]\n",
    "        nodes[i].prev = nodes[i-1]\n",
    "    \n",
    "    ddl = nodes[0]\n",
    "    return ddl\n",
    "\n",
    "def print_list(head):\n",
    "    while head is not None:\n",
    "        print(head, end=\" \")\n",
    "        head = head.next"
   ]
  },
  {
   "cell_type": "code",
   "execution_count": 20,
   "metadata": {
    "collapsed": true
   },
   "outputs": [],
   "source": [
    "\n",
    "        \n",
    "nodes = [Node(2), Node(5), Node(7), Node(3), Node(-1)]\n",
    "head = make_ddl(nodes)\n",
    "\n",
    "\n",
    "\n",
    "def insertion_sort(head):\n",
    "    p = head.next\n",
    "    while p != None:\n",
    "        p_next = p.next # housekeeping\n",
    "        q = head\n",
    "        while p_next is not None and q != p_next.prev:\n",
    "            if q.data >= p.data: break\n",
    "            q = q.next\n",
    "#         print(p)\n",
    "#         print(q.prev, q, q.next)\n",
    "        if p != q:\n",
    "            p.next = q\n",
    "            p.prev = q.prev\n",
    "            if q.prev:\n",
    "                q.prev.next = p\n",
    "            else:\n",
    "                head = p\n",
    "            q.prev = p\n",
    "#             print(\"=>\", p.prev, p, p.next)\n",
    "#             print(\"=>\", q.prev, q, q.next)\n",
    "        p = p_next\n",
    "    return head"
   ]
  },
  {
   "cell_type": "code",
   "execution_count": null,
   "metadata": {
    "collapsed": false
   },
   "outputs": [],
   "source": [
    "## BUGS HERE \n",
    "s = insertion_sort(head)\n",
    "print_list(s)"
   ]
  },
  {
   "cell_type": "markdown",
   "metadata": {},
   "source": [
    "## delete adjancent duplicate nodes from  dll\n",
    "- e.g., 10 <-> 8 <-> 4 <-> 4 <-> 8 <-> 5"
   ]
  },
  {
   "cell_type": "code",
   "execution_count": 24,
   "metadata": {
    "collapsed": false
   },
   "outputs": [
    {
     "name": "stdout",
     "output_type": "stream",
     "text": [
      "10 8 4 4 8 5 "
     ]
    }
   ],
   "source": [
    "nodes = [Node(i) for i in [10, 8, 4, 4, 8, 5]]\n",
    "ddl = make_ddl(nodes)\n",
    "print_list(ddl)"
   ]
  },
  {
   "cell_type": "code",
   "execution_count": 33,
   "metadata": {
    "collapsed": false
   },
   "outputs": [],
   "source": [
    "def remove_adjancent_duplicates(ddl):\n",
    "    p = ddl\n",
    "    while p.next != None:\n",
    "        q = p.next\n",
    "        if p.data == q.data:\n",
    "            p.next = q.next\n",
    "            q.next.prev = p\n",
    "        else:\n",
    "            p = p.next\n",
    "    return ddl"
   ]
  },
  {
   "cell_type": "code",
   "execution_count": 35,
   "metadata": {
    "collapsed": false
   },
   "outputs": [
    {
     "name": "stdout",
     "output_type": "stream",
     "text": [
      "10 8 4 8 5 "
     ]
    }
   ],
   "source": [
    "new_ddl = remove_adjancent_duplicates(ddl)\n",
    "print_list(new_ddl)"
   ]
  },
  {
   "cell_type": "markdown",
   "metadata": {
    "collapsed": true
   },
   "source": [
    "# Trie\n",
    "- It is important to have a convention for leaf node"
   ]
  },
  {
   "cell_type": "markdown",
   "metadata": {},
   "source": [
    "## simple implementation of Trie in python\n",
    "- https://stackoverflow.com/questions/11015320/how-to-create-a-trie-in-python\n",
    "- based on dictionary - to allow a key to have different items, the leaf must be a key:value pair"
   ]
  },
  {
   "cell_type": "code",
   "execution_count": 59,
   "metadata": {
    "collapsed": false
   },
   "outputs": [
    {
     "data": {
      "text/plain": [
       "True"
      ]
     },
     "execution_count": 59,
     "metadata": {},
     "output_type": "execute_result"
    }
   ],
   "source": [
    "LEAF = None\n",
    "\n",
    "\n",
    "\n",
    "def make_trie(words):\n",
    "    trie = {}\n",
    "    for word in words:\n",
    "        t = trie\n",
    "        for letter in word:\n",
    "            if letter not in t:\n",
    "                t[letter] = {}\n",
    "            t = t[letter]\n",
    "        t[LEAF] = None # value can be anything\n",
    "    return trie\n",
    "\n",
    "def in_trie(word, trie):\n",
    "    t = trie\n",
    "    for letter in word:\n",
    "        if letter not in t:\n",
    "            return False\n",
    "        else:\n",
    "            t = t[letter]\n",
    "    return True if LEAF in t else False\n",
    "    \n",
    "\n",
    "words = ['foo', 'bar', 'baz', 'barz']\n",
    "make_trie(words) == {\n",
    "    'b': {\n",
    "        'a': {\n",
    "                'r': {None: None, 'z': {None: None}}, \n",
    "                'z': {None: None}\n",
    "             }\n",
    "    },\n",
    "    'f': {'o': {'o': {None: None}}}\n",
    "}"
   ]
  },
  {
   "cell_type": "code",
   "execution_count": 60,
   "metadata": {
    "collapsed": false
   },
   "outputs": [],
   "source": [
    "\n",
    "trie = make_trie(words)\n",
    "assert in_trie(\"foo\", trie) == True\n",
    "assert in_trie(\"fooa\", trie) == False\n",
    "assert in_trie(\"fo\", trie) == False\n",
    "assert in_trie(\"bar\", trie) == True"
   ]
  },
  {
   "cell_type": "markdown",
   "metadata": {
    "collapsed": true
   },
   "source": [
    "# Graphs\n",
    "- two types of data structure\n",
    "    - adjancency list\n",
    "    - adjancency matrix"
   ]
  },
  {
   "cell_type": "code",
   "execution_count": null,
   "metadata": {
    "collapsed": true
   },
   "outputs": [],
   "source": []
  }
 ],
 "metadata": {
  "kernelspec": {
   "display_name": "Python 3",
   "language": "python",
   "name": "python3"
  },
  "language_info": {
   "codemirror_mode": {
    "name": "ipython",
    "version": 3
   },
   "file_extension": ".py",
   "mimetype": "text/x-python",
   "name": "python",
   "nbconvert_exporter": "python",
   "pygments_lexer": "ipython3",
   "version": "3.6.0"
  }
 },
 "nbformat": 4,
 "nbformat_minor": 2
}
