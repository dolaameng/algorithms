{
 "metadata": {
  "name": "",
  "signature": "sha256:0b726070a2d06eed6a7596ef3a5bca866659d38dc4a43c923c89009f718a939b"
 },
 "nbformat": 3,
 "nbformat_minor": 0,
 "worksheets": [
  {
   "cells": [
    {
     "cell_type": "markdown",
     "metadata": {},
     "source": [
      "## Refreshing my memory of algorithms for job interview\n",
      "\n",
      "1. [Elements of Programming Interviews (EPI)](http://elementsofprogramminginterviews.com/)\n",
      "2. [The Algorithm Design Manual (TADM)](http://www.algorist.com/)"
     ]
    },
    {
     "cell_type": "markdown",
     "metadata": {},
     "source": [
      "## Notes\n",
      "\n",
      "1. it is always important to think about how to test your algorithm - even it is not straightforward at the beginning"
     ]
    },
    {
     "cell_type": "code",
     "collapsed": false,
     "input": [],
     "language": "python",
     "metadata": {},
     "outputs": []
    }
   ],
   "metadata": {}
  }
 ]
}