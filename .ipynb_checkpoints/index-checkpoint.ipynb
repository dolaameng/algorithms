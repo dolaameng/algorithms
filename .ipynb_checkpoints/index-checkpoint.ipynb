{
 "metadata": {
  "name": "",
  "signature": "sha256:3e892a20a02922289e1d55b4e71a3ed6dd6366fd4060020d9281e276a57a348f"
 },
 "nbformat": 3,
 "nbformat_minor": 0,
 "worksheets": [
  {
   "cells": [
    {
     "cell_type": "markdown",
     "metadata": {},
     "source": [
      "## Refreshing my memory of algorithms for job interview\n",
      "\n",
      "1. [Elements of Programming Interviews (EPI)](http://elementsofprogramminginterviews.com/)\n",
      "2. [The Algorithm Design Manual (TADM)](http://www.algorist.com/)\n",
      "3. [Design of Computer Programs by Peter Norvig (DCP)](https://www.udacity.com/course/cs212)\n",
      "4. [Peter Norvig's blog (Norvig)](http://norvig.com/)"
     ]
    },
    {
     "cell_type": "markdown",
     "metadata": {},
     "source": [
      "## Notes\n",
      "\n",
      "1. it is always important to think about how to test your algorithm - even it is not straightforward at the beginning\n",
      "2. it is important to be able to think what the solution is like in your head when you are writing a solution - before you run it.\n",
      "3. it is important to verablly describe a solution (to yourself or ideally to another person) before you start to write the code"
     ]
    },
    {
     "cell_type": "code",
     "collapsed": false,
     "input": [],
     "language": "python",
     "metadata": {},
     "outputs": []
    }
   ],
   "metadata": {}
  }
 ]
}