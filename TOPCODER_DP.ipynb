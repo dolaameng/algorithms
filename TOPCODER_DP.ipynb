{
  "nbformat": 4,
  "nbformat_minor": 0,
  "metadata": {
    "colab": {
      "name": "TOPCODER_DP.ipynb",
      "version": "0.3.2",
      "views": {},
      "default_view": {},
      "provenance": [],
      "collapsed_sections": []
    },
    "kernelspec": {
      "name": "python3",
      "display_name": "Python 3"
    }
  },
  "cells": [
    {
      "metadata": {
        "id": "RkCGxoLFSKE9",
        "colab_type": "text"
      },
      "cell_type": "markdown",
      "source": [
        "# Dynamic Programming\n",
        "- Define the structure, think of problems as recursion relationship\n",
        "- Most of time it is like a traversal, jumping from one subproblem to another bigger one\n",
        "- Bottom up DP usually has a polynomial solution\n",
        "- keywords:\n",
        "  - number of solutions\n",
        "  - min/max\n",
        "- distinguish it with BFS/DFS by looking at if the transition from one state to another has a different weight\n",
        "- three common problems\n",
        "  - `1D DP`: 1D strucutre, e.g., 1D array finding optimal subarray, ususally define the solution as the one ending at ith element, and DP table is a 1D table of same length\n",
        "  - `2D DP`: 2D structure, e.g., path finding. Usually involves two arrays or subarray of one. DP structure is \n",
        "  - `Discrete DP`: knapsack, e.g., coin changing or iterating of all subsets (true/false at each step). The DP structure is usually along with the state changes\n",
        "- DP is mostly an optimization method, to find the exact solution giving the optimal answer (e.g., path leading to the optimal cost), extra efforts are usually needed\n",
        "- Most of time, DP is like calculating accumulative something, either in 1D or 2D structure. And the stride might not be one"
      ]
    },
    {
      "metadata": {
        "id": "2EpUvjDLWZeR",
        "colab_type": "code",
        "colab": {
          "autoexec": {
            "startup": false,
            "wait_interval": 0
          }
        }
      },
      "cell_type": "code",
      "source": [
        "from __future__ import absolute_import\n",
        "from __future__ import division\n",
        "from __future__ import print_function"
      ],
      "execution_count": 0,
      "outputs": []
    },
    {
      "metadata": {
        "id": "2Q6rBGNQSOsq",
        "colab_type": "text"
      },
      "cell_type": "markdown",
      "source": [
        "## 1. Longest increasing subsequence\n",
        "Given a list of N integers find the longest increasing subsequence in this list.\n",
        "\n",
        "### Example\n",
        "\n",
        "If the list is [16, 3, 5, 19, 10, 14, 12, 0, 15] one possible answer is the subsequence [3, 5, 10, 12, 15], another is [3, 5, 10, 14, 15].\n",
        "\n",
        "If the list has only one integer, for example: [14], the correct answer is [14].\n",
        "\n",
        "One more example: [10, 8, 6, 4, 2, 0], a possible correct answer is [8].\n",
        "\n",
        "### Test cases\n",
        "\n",
        "Your solution will be graded against a number of test cases. All test cases contain at least one integer. Half of them will have no more than 1,000 integers in the input sequence. The other half will contain sequences with up to 10,000 integers.\n",
        "\n",
        "You can design a solution, which works fast enough for N <= 1,000 but is slow for bigger inputs. Try and see how good of a solution you can create. \n",
        "\n",
        "### Notes\n",
        "\n",
        "Subsquences are remaining elements after removing some elements. They are not necessarily consecutive blocks in the original array.\n",
        "\n",
        "## Solutions $O(n^2)$\n",
        "- assume M(i) is the max increasing subsequence length that with the last element as sequence[i]\n",
        "- recursion:\n",
        "  - M(i) = max(M(j)) + 1 for all j < i with sequence[j] < sequence[i], it is the extendible case\n",
        "  - M(i) = 1 if no sequence[j] < sequence[j]\n",
        "- find the max sequence by scaning the array in linear time"
      ]
    },
    {
      "metadata": {
        "id": "uwvuXpbxSGo8",
        "colab_type": "code",
        "colab": {
          "autoexec": {
            "startup": false,
            "wait_interval": 0
          }
        }
      },
      "cell_type": "code",
      "source": [
        "\n",
        "def longest_increasing_subsequence(sequence):\n",
        "  # subsequence is defined as remaining elements with some removed\n",
        "  \n",
        "  # max increasing seq length ending at i - data structure for DP\n",
        "  max_seq_lens = []\n",
        "  max_seqs = []\n",
        "\n",
        "  for i in range(0, len(sequence)):\n",
        "    max_seq_lens.append(1)\n",
        "    max_seqs.append([i])\n",
        "    for j in range(0, i):\n",
        "      if sequence[j] < sequence[i]:\n",
        "        max_seq_lens[i] = max_seq_lens[j] + 1\n",
        "        max_seqs[i] = max_seqs[j] + [i]\n",
        "      else:\n",
        "        if max_seq_lens[j] > max_seq_lens[i]:\n",
        "          max_seq_lens[i] = max_seq_lens[j]\n",
        "          max_seqs[i] = max_seqs[j]\n",
        "  \n",
        "#   return max_len, max_i\n",
        "  return [sequence[i] for i in max_seqs[-1]]"
      ],
      "execution_count": 0,
      "outputs": []
    },
    {
      "metadata": {
        "id": "G6nG8Ony2lXf",
        "colab_type": "code",
        "colab": {
          "autoexec": {
            "startup": false,
            "wait_interval": 0
          }
        }
      },
      "cell_type": "code",
      "source": [
        "def longest_increasing_subsequence(sequence):\n",
        "  N = len(sequence)\n",
        "  # max seq ending at element i\n",
        "  max_seqs = [[i] for i in range(N)]\n",
        "  for i in range(N):\n",
        "    for j in range(i):\n",
        "      # can extend and should extend\n",
        "      if (sequence[j] < sequence[i]) and (len(max_seqs[j]) + 1 > len(max_seqs[i])): \n",
        "        max_seqs[i] = max_seqs[j] + [i]\n",
        "      # else:\n",
        "        # it is just [i]\n",
        "        \n",
        "  # find the maximum seq\n",
        "  max_seq = sorted(max_seqs, key=lambda xs: len(xs))[-1]\n",
        "  return [sequence[i] for i in max_seq]"
      ],
      "execution_count": 0,
      "outputs": []
    },
    {
      "metadata": {
        "id": "mxNC6EjaWDPu",
        "colab_type": "code",
        "colab": {
          "autoexec": {
            "startup": false,
            "wait_interval": 0
          },
          "base_uri": "https://localhost:8080/",
          "height": 85
        },
        "outputId": "d3b3e14e-d0d0-4053-cace-e3e74faeb7c3",
        "executionInfo": {
          "status": "ok",
          "timestamp": 1512817086070,
          "user_tz": -480,
          "elapsed": 809,
          "user": {
            "displayName": "Li Ma",
            "photoUrl": "https://lh3.googleusercontent.com/a/default-user=s128",
            "userId": "116257498261983262215"
          }
        }
      },
      "cell_type": "code",
      "source": [
        "tests = [\n",
        "    [16, 3, 5, 19, 10, 14, 12, 0, 15], \n",
        "    [14], \n",
        "    [10, 8, 6, 4, 2, 0],\n",
        "    [1, 2, 3, 5, 6]\n",
        "]\n",
        "\n",
        "for xs in tests:\n",
        "  print(xs, \"=>\", longest_increasing_subsequence(xs))"
      ],
      "execution_count": 81,
      "outputs": [
        {
          "output_type": "stream",
          "text": [
            "[16, 3, 5, 19, 10, 14, 12, 0, 15] => [3, 5, 10, 14, 15]\n",
            "[14] => [14]\n",
            "[10, 8, 6, 4, 2, 0] => [0]\n",
            "[1, 2, 3, 5, 6] => [1, 2, 3, 5, 6]\n"
          ],
          "name": "stdout"
        }
      ]
    },
    {
      "metadata": {
        "id": "acTcyhE_GsL6",
        "colab_type": "text"
      },
      "cell_type": "markdown",
      "source": [
        "## 2. Count the paths\n",
        "\n",
        "You are given a grid of cells with size N rows by M columns. A robot is situated at the bottom-left cell (row N-1, column 0). It can move from cell to cell but only to the right and to the top. Some cells are empty and the robot can pass through them but others are not and the robot cannot enter such cells. The robot cannot go outside the grid boundaries.\n",
        "\n",
        "The robot has a goal to reach top-right cell (row 0, column M-1). Both the start and end cells are always empty. You need to compute the number of different paths that the robot can take from start to end. Only count paths that visit empty cells and move only to the right and up.\n",
        "\n",
        "N and M will be numbers in the range [1, 512].\n",
        "\n",
        "Write a method, which accepts the grid as an argument and returns one integer - the total number of different paths that the robot can take from the start to the end cell, MODULO 1,000,003. The reason we will use the modulo operation here is that the actual result could become a really big number and we don't want to let handling big numbers complicate the task more.\n",
        "\n",
        "The input grid will contain N strings with M characters each - either '0' or '1', with '0' meaning an empty cell and '1' meaning an occupied cell. Each of these strings corresponds to a row in the grid.\n",
        "\n",
        "### Note\n",
        "Even though it is more like BFS (Breadth First Search) or DFS (Depth First Search), it is actually Dynamic programming (counting)\n",
        "\n",
        "### Solution\n",
        "- base condition: last row, first column\n",
        "  - count[R-1, c] = 1 for c in (0, C-1)\n",
        "  - count[r, 0] = 1 fo rr in (R-1, 0)\n",
        "- recursion:\n",
        "  - if grid[r, c] == 0, count(r, c) = count(r+1, c) + count(r, c-1)\n",
        "  - if grid[r, c] == 1, count(r, c) = 0"
      ]
    },
    {
      "metadata": {
        "id": "RnbcdOkAWT76",
        "colab_type": "code",
        "colab": {
          "autoexec": {
            "startup": false,
            "wait_interval": 0
          }
        }
      },
      "cell_type": "code",
      "source": [
        "def count_the_paths(grid):\n",
        "  # Write your solution here\n",
        "  R, C = len(grid), len(grid[0])\n",
        "  \n",
        "  n_paths = [[0 for _ in range(C)] for _ in range(R)]\n",
        "  n_paths[R-1][0] = 1\n",
        "  \n",
        "  \n",
        "  for c in range(1, C):\n",
        "    if grid[R-1][c] == '0':\n",
        "      n_paths[R-1][c] = n_paths[R-1][c-1]\n",
        "    else:\n",
        "      n_paths[R-1][c] = 0\n",
        "      \n",
        "      \n",
        "  for r in range(R-2, -1, -1):\n",
        "    if grid[r][0] == '0':\n",
        "      n_paths[r][0] = n_paths[r+1][0]\n",
        "    else:\n",
        "      n_paths[r][0] = 0\n",
        "      \n",
        "  \n",
        "  for r in range(R-2, -1, -1):\n",
        "    for c in range(1, C):\n",
        "      if grid[r][c] == '1':\n",
        "        n_paths[r][c] = 0\n",
        "      else:\n",
        "        n_paths[r][c] = n_paths[r+1][c] + n_paths[r][c-1]\n",
        "  return n_paths[0][C-1] % 1000003"
      ],
      "execution_count": 0,
      "outputs": []
    },
    {
      "metadata": {
        "id": "bs3ZUbNqHb5G",
        "colab_type": "code",
        "colab": {
          "autoexec": {
            "startup": false,
            "wait_interval": 0
          },
          "base_uri": "https://localhost:8080/",
          "height": 102
        },
        "outputId": "04c62c07-0183-4e5b-a599-c0ff33c0b707",
        "executionInfo": {
          "status": "ok",
          "timestamp": 1512823169559,
          "user_tz": -480,
          "elapsed": 786,
          "user": {
            "displayName": "Li Ma",
            "photoUrl": "https://lh3.googleusercontent.com/a/default-user=s128",
            "userId": "116257498261983262215"
          }
        }
      },
      "cell_type": "code",
      "source": [
        "grids = [\n",
        "    ['000',\n",
        "     '000'],\n",
        "    ['000',\n",
        "     '001'],\n",
        "    ['100',\n",
        "     '011'],\n",
        "    ['010'],\n",
        "    ['0']\n",
        "]\n",
        "for grid in grids:\n",
        "  print(count_the_paths(grid))"
      ],
      "execution_count": 121,
      "outputs": [
        {
          "output_type": "stream",
          "text": [
            "3\n",
            "2\n",
            "0\n",
            "0\n",
            "1\n"
          ],
          "name": "stdout"
        }
      ]
    },
    {
      "metadata": {
        "id": "A0G7bgf8aN8J",
        "colab_type": "code",
        "colab": {
          "autoexec": {
            "startup": false,
            "wait_interval": 0
          }
        }
      },
      "cell_type": "code",
      "source": [
        "def cover_the_border(l, radars):\n",
        "  # Example arguments:\n",
        "  # l = 100\n",
        "  # radars = [ [5, 10], [3, 25], [46, 99], [39, 40], [45, 50] ]\n",
        "  radars = sorted(radars, key=lambda loc: loc[0])\n",
        "  coverages = []\n",
        "  coverage = radars[0]\n",
        "  for radar in radars[1:]:\n",
        "      if coverage[0] <= radar[0] <= coverage[1]:\n",
        "          coverage[1] = max(coverage[1], radar[1])\n",
        "      else:\n",
        "          coverages.append(coverage)\n",
        "          coverage = radar\n",
        "          \n",
        "  if coverage is not None:\n",
        "      coverages.append(coverage)\n",
        "  area = sum([r[1]-r[0] for r in coverages])\n",
        "  return area"
      ],
      "execution_count": 0,
      "outputs": []
    },
    {
      "metadata": {
        "id": "YSsUzaYQjQB5",
        "colab_type": "code",
        "colab": {
          "autoexec": {
            "startup": false,
            "wait_interval": 0
          },
          "base_uri": "https://localhost:8080/",
          "height": 34
        },
        "outputId": "2b982453-947c-45ea-c039-ebb841df5970",
        "executionInfo": {
          "status": "ok",
          "timestamp": 1512827844609,
          "user_tz": -480,
          "elapsed": 866,
          "user": {
            "displayName": "Li Ma",
            "photoUrl": "https://lh3.googleusercontent.com/a/default-user=s128",
            "userId": "116257498261983262215"
          }
        }
      },
      "cell_type": "code",
      "source": [
        "L = 100\n",
        "radars = [ [5, 10], [3, 25], [46, 99], [39, 40], [45, 50] ]\n",
        "cover_the_border(L, radars)"
      ],
      "execution_count": 169,
      "outputs": [
        {
          "output_type": "execute_result",
          "data": {
            "text/plain": [
              "77"
            ]
          },
          "metadata": {
            "tags": []
          },
          "execution_count": 169
        }
      ]
    },
    {
      "metadata": {
        "id": "VWqw2HfMjXRg",
        "colab_type": "code",
        "colab": {
          "autoexec": {
            "startup": false,
            "wait_interval": 0
          }
        }
      },
      "cell_type": "code",
      "source": [
        ""
      ],
      "execution_count": 0,
      "outputs": []
    },
    {
      "metadata": {
        "id": "3fhc1zE5phDY",
        "colab_type": "text"
      },
      "cell_type": "markdown",
      "source": [
        "## Find length of longest substring of a given string of digits, such that sum of digits in the first half and second half of the substrin is same.\n",
        "\n",
        "### Examples\n",
        "- Input: \"142124\", Output: 6\n",
        "- Input: \"9430723\", output: 4\n",
        "\n",
        "### Solution\n",
        "- substring can be represented as [start,end] index, so the brute force takes O(n^2) * O(n)\n",
        "- there is a lot of redundance here whenever the sum of string is involved, e.g., by using accumulative sum, now it can be reduced to O(n^2)\n",
        "- for 1D DP problem, ususally it starts with asking: `assume we know the answers for i from 0, n-1, where answer i is the solution that ENDS WITH element i, what is the solution for n?`\n",
        "- however this problem has a clear 2D structure (start, end), so we usually use a 2D matrix for DP, sometime we need to pad them if the initial condition is not so easy to calculate. So we will traverse the matrix rowwise from left to right, with base conditions to be first row and first column.\n",
        "- So the recursion is:\n",
        "  - L(i, j) is the length if x[i,j+1] is such a substring otherwise 0\n",
        "  - L(i, j) can be calculated in constant time, by caching the accumulative sum first\n",
        "- ___in this sense, this problem is more like a brute force with trick, rather than DP___"
      ]
    },
    {
      "metadata": {
        "id": "3smuGSgdqIX9",
        "colab_type": "code",
        "colab": {
          "autoexec": {
            "startup": false,
            "wait_interval": 0
          }
        }
      },
      "cell_type": "code",
      "source": [
        "def longest_substr(string):\n",
        "  xs = [int(x) for x in string]\n",
        "  N = len(xs)\n",
        "  if N == 0:\n",
        "    return ''\n",
        "  # precalculate accumsum - be very careful of the meaning of accum_sum (inclusive vs exclusive)\n",
        "  accum_sum = [xs[0]]\n",
        "  for i in range(1, N):\n",
        "    accum_sum.append(accum_sum[-1] + xs[i])\n",
        "  \n",
        "  \n",
        "  # brute force\n",
        "  solution = [[0 for _ in range(N)] for _ in range(N)]\n",
        "  for start in range(N-1):\n",
        "    for end in range(start, N):\n",
        "      if (end - start + 1) % 2 == 1:\n",
        "        solution[start][end] = 0\n",
        "      else:\n",
        "        mid = (end + start) // 2\n",
        "        if (accum_sum[mid] - accum_sum[start] + xs[start]) == (accum_sum[end] - accum_sum[mid]):\n",
        "          solution[start][end] = end - start + 1\n",
        "#   print(solution)\n",
        "  # scan\n",
        "  s, e, _ = sorted([(s, e, solution[s][e]) for s in range(N-1) for e in range(s, N)], \n",
        "                key=lambda (s, e, l): l)[-1]\n",
        "  return string[s:e+1]"
      ],
      "execution_count": 0,
      "outputs": []
    },
    {
      "metadata": {
        "id": "5P7o59TpxIrw",
        "colab_type": "code",
        "colab": {
          "autoexec": {
            "startup": false,
            "wait_interval": 0
          },
          "base_uri": "https://localhost:8080/",
          "height": 51
        },
        "outputId": "77ec1b6e-c21b-4ef6-e2b9-30fc8c475ff0",
        "executionInfo": {
          "status": "ok",
          "timestamp": 1512899170796,
          "user_tz": -480,
          "elapsed": 1227,
          "user": {
            "displayName": "Li Ma",
            "photoUrl": "https://lh3.googleusercontent.com/a/default-user=s128",
            "userId": "116257498261983262215"
          }
        }
      },
      "cell_type": "code",
      "source": [
        "print(longest_substr('142124'))\n",
        "print(longest_substr('9430723'))"
      ],
      "execution_count": 46,
      "outputs": [
        {
          "output_type": "stream",
          "text": [
            "142124\n",
            "4307\n"
          ],
          "name": "stdout"
        }
      ]
    },
    {
      "metadata": {
        "id": "oM8c_9UU3P3c",
        "colab_type": "text"
      },
      "cell_type": "markdown",
      "source": [
        "## Min cost path\n",
        "Given a 2D square matrix cost[][] of M*N where cost[i][j] represents the cost of passing through cell[i,j]. Total cost of a path is the sum. It can only move rightward or downward. STarting from (0, 0), find the min cost path to (M-1, N-1)\n",
        "\n",
        "### Solution:\n",
        "- typical 2D structure"
      ]
    },
    {
      "metadata": {
        "id": "avdiPDj2xuJM",
        "colab_type": "code",
        "colab": {
          "autoexec": {
            "startup": false,
            "wait_interval": 0
          },
          "base_uri": "https://localhost:8080/",
          "height": 34
        },
        "outputId": "15365121-aacc-4c31-f654-8a969b39b90d",
        "executionInfo": {
          "status": "ok",
          "timestamp": 1512900555564,
          "user_tz": -480,
          "elapsed": 809,
          "user": {
            "displayName": "Li Ma",
            "photoUrl": "https://lh3.googleusercontent.com/a/default-user=s128",
            "userId": "116257498261983262215"
          }
        }
      },
      "cell_type": "code",
      "source": [
        "costs = [\n",
        "    [1, 3, 5, 8],\n",
        "    [4, 2, 1, 7],\n",
        "    [4, 3, 2, 3]\n",
        "]\n",
        "\n",
        "def min_path(costs):\n",
        "  R, C = len(costs), len(costs[0])\n",
        "  path_costs = [[0 for _ in range(C)] for _ in range(R)]\n",
        "  # intialize first row and col\n",
        "  path_costs[0][0] = costs[0][0]\n",
        "  for c in range(1, C):\n",
        "    path_costs[0][c] = path_costs[0][c-1] + costs[0][c]\n",
        "  for r in range(1, R):\n",
        "    path_costs[r][0] = path_costs[r-1][0] + costs[r][0]\n",
        "  # recursion:\n",
        "  for r in range(1, R):\n",
        "    for c in range(1, C):\n",
        "      path_costs[r][c] = min(path_costs[r-1][c], path_costs[r][c-1]) + costs[r][c]\n",
        "      \n",
        "  return path_costs[R-1][C-1]\n",
        "\n",
        "min_path(costs)"
      ],
      "execution_count": 49,
      "outputs": [
        {
          "output_type": "execute_result",
          "data": {
            "text/plain": [
              "12"
            ]
          },
          "metadata": {
            "tags": []
          },
          "execution_count": 49
        }
      ]
    },
    {
      "metadata": {
        "id": "jB12HPon5fIE",
        "colab_type": "code",
        "colab": {
          "autoexec": {
            "startup": false,
            "wait_interval": 0
          }
        }
      },
      "cell_type": "code",
      "source": [
        ""
      ],
      "execution_count": 0,
      "outputs": []
    },
    {
      "metadata": {
        "id": "H3bTMSbG6sMb",
        "colab_type": "text"
      },
      "cell_type": "markdown",
      "source": [
        "## Game Scoring\n",
        "Consider a game where a player can score 3, 5, 10 points in one move, Given a total of N, find the total number of unique ways to reach N\n",
        "\n",
        "### Solution\n",
        "The state transition structure is very clear. From state i to next one by adding 3, 5, or 10\n",
        "\n",
        "The hardest part is to finger out the boundary cases"
      ]
    },
    {
      "metadata": {
        "id": "2QxVLagb602u",
        "colab_type": "code",
        "colab": {
          "autoexec": {
            "startup": false,
            "wait_interval": 0
          }
        }
      },
      "cell_type": "code",
      "source": [
        "def score_ways(N, scores):\n",
        "  # be very careful about the boundary conditions\n",
        "  solution = [0 for _ in range(N+1)]\n",
        "  # suprisingly, you just need one base condition\n",
        "  solution[0] = 1\n",
        "  for n in range(N + 1):\n",
        "    for s in scores:\n",
        "      if n - s >= 0:\n",
        "        solution[n] += solution[n-s]\n",
        "  return solution[N]"
      ],
      "execution_count": 0,
      "outputs": []
    },
    {
      "metadata": {
        "id": "7NXw4vvqBF81",
        "colab_type": "code",
        "colab": {
          "autoexec": {
            "startup": false,
            "wait_interval": 0
          },
          "base_uri": "https://localhost:8080/",
          "height": 34
        },
        "outputId": "045dfcd5-dc29-489c-9f48-3eb979649d0b",
        "executionInfo": {
          "status": "ok",
          "timestamp": 1512902695793,
          "user_tz": -480,
          "elapsed": 903,
          "user": {
            "displayName": "Li Ma",
            "photoUrl": "https://lh3.googleusercontent.com/a/default-user=s128",
            "userId": "116257498261983262215"
          }
        }
      },
      "cell_type": "code",
      "source": [
        "score_ways(13, [3, 5, 10])"
      ],
      "execution_count": 57,
      "outputs": [
        {
          "output_type": "execute_result",
          "data": {
            "text/plain": [
              "5"
            ]
          },
          "metadata": {
            "tags": []
          },
          "execution_count": 57
        }
      ]
    },
    {
      "metadata": {
        "id": "dj4wrd5ANHxs",
        "colab_type": "text"
      },
      "cell_type": "markdown",
      "source": [
        "## Given an array of ints, return the maximum sum of sub array, such that the elements are contiguous/consecutive\n",
        "\n",
        "### Solution:\n",
        "- Usually there is a solution utilizing the accum sum\n",
        "- It can also be defined as a 1D DP problem as\n",
        "  - solution L(n) is defined as max sum of subarray ending at n, so\n",
        "  - L(n) = max(L(n-1) + xs[n], xs[n]) ___this is not so intutive by the way___"
      ]
    },
    {
      "metadata": {
        "id": "_6y4iOkQBIxk",
        "colab_type": "code",
        "colab": {
          "autoexec": {
            "startup": false,
            "wait_interval": 0
          }
        }
      },
      "cell_type": "code",
      "source": [
        "def max_subarray(xs):\n",
        "  # exclusive accum sum\n",
        "  accum = [0]\n",
        "  for i in range(len(xs)):\n",
        "    accum.append(accum[i] + xs[i])\n",
        "    \n",
        "  # find the min and max\n",
        "  imin, min_sum = -1, float('inf')\n",
        "  imax, max_sum = -1, -float('inf')\n",
        "  for i in range(len(accum)):\n",
        "    if accum[i] > max_sum:\n",
        "      imax, max_sum = i, accum[i]\n",
        "    if accum[i] < min_sum:\n",
        "      imin, min_sum = i, accum[i]\n",
        "  return xs[imin:imax] # be careful with the boundary"
      ],
      "execution_count": 0,
      "outputs": []
    },
    {
      "metadata": {
        "id": "_yzehB0yPJna",
        "colab_type": "code",
        "colab": {
          "autoexec": {
            "startup": false,
            "wait_interval": 0
          },
          "base_uri": "https://localhost:8080/",
          "height": 34
        },
        "outputId": "e4aee1ed-f8ea-4dc5-ed6e-5448a1493d72",
        "executionInfo": {
          "status": "ok",
          "timestamp": 1512906265961,
          "user_tz": -480,
          "elapsed": 726,
          "user": {
            "displayName": "Li Ma",
            "photoUrl": "https://lh3.googleusercontent.com/a/default-user=s128",
            "userId": "116257498261983262215"
          }
        }
      },
      "cell_type": "code",
      "source": [
        "xs = [-2, -3, 4, -1, -2, 1, 5, -3]\n",
        "max_subarray(xs)"
      ],
      "execution_count": 63,
      "outputs": [
        {
          "output_type": "execute_result",
          "data": {
            "text/plain": [
              "[4, -1, -2, 1, 5]"
            ]
          },
          "metadata": {
            "tags": []
          },
          "execution_count": 63
        }
      ]
    },
    {
      "metadata": {
        "id": "xHsoh3V5PO3V",
        "colab_type": "code",
        "colab": {
          "autoexec": {
            "startup": false,
            "wait_interval": 0
          }
        }
      },
      "cell_type": "code",
      "source": [
        "## DP solution as a 1D DP\n",
        "def max_subarray_sum(xs):\n",
        "  solution = [0 for _ in range(len(xs) + 1)] # starting from 0\n",
        "  for i in range(len(xs)):\n",
        "    solution[i+1] = max(solution[i-1] + xs[i], xs[i])\n",
        "  # scan the biggest\n",
        "  return max(solution)"
      ],
      "execution_count": 0,
      "outputs": []
    },
    {
      "metadata": {
        "id": "DBsN7bUTSbNG",
        "colab_type": "code",
        "colab": {
          "autoexec": {
            "startup": false,
            "wait_interval": 0
          },
          "base_uri": "https://localhost:8080/",
          "height": 34
        },
        "outputId": "55d85f79-f575-481b-f6f7-40c4ab8b2245",
        "executionInfo": {
          "status": "ok",
          "timestamp": 1512907106983,
          "user_tz": -480,
          "elapsed": 1043,
          "user": {
            "displayName": "Li Ma",
            "photoUrl": "https://lh3.googleusercontent.com/a/default-user=s128",
            "userId": "116257498261983262215"
          }
        }
      },
      "cell_type": "code",
      "source": [
        "max_subarray_sum(xs), sum(max_subarray(xs))"
      ],
      "execution_count": 69,
      "outputs": [
        {
          "output_type": "execute_result",
          "data": {
            "text/plain": [
              "(7, 7)"
            ]
          },
          "metadata": {
            "tags": []
          },
          "execution_count": 69
        }
      ]
    },
    {
      "metadata": {
        "id": "YJKnPk74TkOR",
        "colab_type": "text"
      },
      "cell_type": "markdown",
      "source": [
        "## Edit Distance\n",
        "Defined as number of insert/remove/replace\n",
        "\n",
        "### Solution \n",
        "- typical 2D DP problem\n",
        "- recursive:\n",
        "  - D(i1, i2) as distance between strs s1[:i1+1], s2[:i2+1]\n",
        "  - D(i1, i2) can be expressed as minimum of \n",
        "    - D(i1-1, i2-1) + s1[i1]==s2[i2]\n",
        "    - D(i1-1, i2) + 1\n",
        "    - D(i1, i2-1) + 1"
      ]
    },
    {
      "metadata": {
        "id": "4QMkJ3XKSepi",
        "colab_type": "code",
        "colab": {
          "autoexec": {
            "startup": false,
            "wait_interval": 0
          }
        }
      },
      "cell_type": "code",
      "source": [
        "def edit_dist(s1, s2):\n",
        "  N1, N2 = len(s1), len(s2)\n",
        "  # 2D DP (N1+1)x(N2+1)\n",
        "  solution = [[0 for _ in range(N2+1)] for _ in range(N1+1)]\n",
        "  # boundary, corner, first row, first col\n",
        "  solution[0][0] = 0\n",
        "  for c in range(1, N2+1):\n",
        "    solution[0][c] = 1\n",
        "  for r in range(1, N1+1):\n",
        "    solution[r][0] = 1\n",
        "  for r in range(1, N1+1):\n",
        "    for c in range(1, N2+1):\n",
        "      match = 0 if s1[r-1] == s2[c-1] else 1\n",
        "      solution[r][c] = min(solution[r-1][c-1] + match,\n",
        "                          solution[r-1][c] + 1,\n",
        "                          solution[r][c-1] + 1)\n",
        "  return solution[N1][N2]"
      ],
      "execution_count": 0,
      "outputs": []
    },
    {
      "metadata": {
        "id": "Rmx31RiGWAfW",
        "colab_type": "code",
        "colab": {
          "autoexec": {
            "startup": false,
            "wait_interval": 0
          },
          "base_uri": "https://localhost:8080/",
          "height": 51
        },
        "outputId": "bd9d9bfc-fb4b-4a8c-b2e4-a60b9fdff8a8",
        "executionInfo": {
          "status": "ok",
          "timestamp": 1512908301801,
          "user_tz": -480,
          "elapsed": 1077,
          "user": {
            "displayName": "Li Ma",
            "photoUrl": "https://lh3.googleusercontent.com/a/default-user=s128",
            "userId": "116257498261983262215"
          }
        }
      },
      "cell_type": "code",
      "source": [
        "tests = [\n",
        "    ('cat' ,'car'),\n",
        "    ('sunday', 'saturday')\n",
        "]\n",
        "for s1, s2 in tests:\n",
        "  print(s1, s2, edit_dist(s1, s2))"
      ],
      "execution_count": 84,
      "outputs": [
        {
          "output_type": "stream",
          "text": [
            "cat car 1\n",
            "sunday saturday 3\n"
          ],
          "name": "stdout"
        }
      ]
    },
    {
      "metadata": {
        "id": "STZJf-ChYH42",
        "colab_type": "text"
      },
      "cell_type": "markdown",
      "source": [
        "## String Interleaving\n",
        "String C is an interleaving of string A and B if it contains all characters of A and B and the relative order of charactors of both preserves in C. Write a function to return the boolean.\n",
        "\n",
        "### Solution\n",
        "- This is more like a DFS problem than a DP, because there is nothing to optimize on"
      ]
    },
    {
      "metadata": {
        "id": "mLbgpiD6WfjM",
        "colab_type": "code",
        "colab": {
          "autoexec": {
            "startup": false,
            "wait_interval": 0
          }
        }
      },
      "cell_type": "code",
      "source": [
        "# DFS solution\n",
        "\n",
        "def is_interleave(s, s1, s2):\n",
        "  to_explore = [(0, 0, 0)] # starting position for s, s1, s2\n",
        "  while len(to_explore) > 0:\n",
        "    i, i1, i2 = to_explore.pop()\n",
        "    ## be careful with the final state\n",
        "    if (i == len(s)) and (i1 == len(s1)) and (i2 == len(s2)):\n",
        "      return True\n",
        "    if i < len(s) and i1 < len(s1) and s[i] == s1[i1]:\n",
        "      to_explore.append((i+1, i1+1, i2))\n",
        "    if i < len(s) and i2 < len(s2) and s[i] == s2[i2]:\n",
        "      to_explore.append((i+1, i1, i2+1))\n",
        "  return False"
      ],
      "execution_count": 0,
      "outputs": []
    },
    {
      "metadata": {
        "id": "_nhtHCCvc3s6",
        "colab_type": "code",
        "colab": {
          "autoexec": {
            "startup": false,
            "wait_interval": 0
          },
          "base_uri": "https://localhost:8080/",
          "height": 85
        },
        "outputId": "7ef41bac-6df0-40a2-c047-6536212bba27",
        "executionInfo": {
          "status": "ok",
          "timestamp": 1512910421669,
          "user_tz": -480,
          "elapsed": 1167,
          "user": {
            "displayName": "Li Ma",
            "photoUrl": "https://lh3.googleusercontent.com/a/default-user=s128",
            "userId": "116257498261983262215"
          }
        }
      },
      "cell_type": "code",
      "source": [
        "print(is_interleave('xabyczd', 'xyz', 'abcd'))\n",
        "print(is_interleave('abyczd', 'yz', 'abcd'))\n",
        "print(is_interleave('bbcbcac', 'bcc', 'bbca'))\n",
        "print(is_interleave('bccabbc', 'bcc', 'bbca'))"
      ],
      "execution_count": 99,
      "outputs": [
        {
          "output_type": "stream",
          "text": [
            "True\n",
            "True\n",
            "True\n",
            "False\n"
          ],
          "name": "stdout"
        }
      ]
    },
    {
      "metadata": {
        "id": "Izr2HJfGfdwe",
        "colab_type": "text"
      },
      "cell_type": "markdown",
      "source": [
        "## Subset Sum\n",
        "Given an array of non-negative ints and a positive number X, determine if there exists a subset of array with sum equal to X. \n",
        "\n",
        "### Solution:\n",
        "- typical subset enumeration problem, however the sum can be calculated in a better way (e.g., backtrack)\n",
        "- again it is more like a DFS problem, worst case is exponential, where x is the sum of everything\n",
        "- to cast it in DP, use a 2D structure columns are (0, x) and rows are (0, len(xs)), the complexity will be O(n*x)\n",
        "  - S(n, i) is solution(T/F) for sum n with subarray [0, i]\n",
        "  - then S(n, i) is True only when\n",
        "    - S(n, i-1) is True -> case without element i\n",
        "    - S(n-xs[i], i-1) is True -> case with element i\n",
        "\n",
        "\n",
        "___it seems that most DFS problem also has a DP solution___"
      ]
    },
    {
      "metadata": {
        "id": "stZ6BIovdhCB",
        "colab_type": "code",
        "colab": {
          "autoexec": {
            "startup": false,
            "wait_interval": 0
          }
        }
      },
      "cell_type": "code",
      "source": [
        "xs = [3, 2, 7, 1]\n",
        "s = 6"
      ],
      "execution_count": 0,
      "outputs": []
    },
    {
      "metadata": {
        "id": "cX1K7BmCgHhb",
        "colab_type": "code",
        "colab": {
          "autoexec": {
            "startup": false,
            "wait_interval": 0
          },
          "base_uri": "https://localhost:8080/",
          "height": 51
        },
        "outputId": "b970d980-a494-49f3-f2c2-d3a51292ea1a",
        "executionInfo": {
          "status": "ok",
          "timestamp": 1512910960905,
          "user_tz": -480,
          "elapsed": 847,
          "user": {
            "displayName": "Li Ma",
            "photoUrl": "https://lh3.googleusercontent.com/a/default-user=s128",
            "userId": "116257498261983262215"
          }
        }
      },
      "cell_type": "code",
      "source": [
        "# DFS solution\n",
        "def subset_sum(xs, s):\n",
        "  # define the state in the stack, so that you can \n",
        "  # conventinentlly come back\n",
        "  to_explore = [(0, 0)] # state = (curr_sum, element_to_consider)\n",
        "  while len(to_explore) > 0:\n",
        "    cur_sum, i = to_explore.pop()\n",
        "    if cur_sum == s:\n",
        "      return True\n",
        "    if i < len(xs) and cur_sum < s: # pruning\n",
        "      to_explore.append((cur_sum, i+1))\n",
        "      to_explore.append((cur_sum + xs[i], i+1))\n",
        "  return False\n",
        "\n",
        "print(subset_sum(xs, s))\n",
        "print(subset_sum([3, 2, 7], 6))"
      ],
      "execution_count": 105,
      "outputs": [
        {
          "output_type": "stream",
          "text": [
            "True\n",
            "False\n"
          ],
          "name": "stdout"
        }
      ]
    },
    {
      "metadata": {
        "id": "IjL8SAzribyY",
        "colab_type": "code",
        "colab": {
          "autoexec": {
            "startup": false,
            "wait_interval": 0
          },
          "base_uri": "https://localhost:8080/",
          "height": 51
        },
        "outputId": "7790fcb4-2f93-4d0a-9533-bc8ca1b7e4df",
        "executionInfo": {
          "status": "ok",
          "timestamp": 1512914092722,
          "user_tz": -480,
          "elapsed": 1022,
          "user": {
            "displayName": "Li Ma",
            "photoUrl": "https://lh3.googleusercontent.com/a/default-user=s128",
            "userId": "116257498261983262215"
          }
        }
      },
      "cell_type": "code",
      "source": [
        "# DP SOLUTION - drawing the table is the key\n",
        "def subset_sum(xs, s):\n",
        "  # columns: 0 to S, rows: 0 to len(xs)\n",
        "  solution = {}\n",
        "  # boundary first row, first col\n",
        "  for r in range(0, len(xs)):\n",
        "    solution[(r, 0)] = True # sum zero can always be found\n",
        "  for c in range(1, s+1):\n",
        "    solution[(0, c)] = False\n",
        "  solution[(0, xs[0])] = True\n",
        "  for r in range(1, len(xs)):\n",
        "    for c in range(1, s+1):\n",
        "#       print(r, c)\n",
        "      solution[(r, c)] = False\n",
        "      if solution[(r-1, c)]:\n",
        "        solution[(r, c)] = True\n",
        "      if c-xs[r] >= 0 and solution[(r-1, c-xs[r])]:\n",
        "        solution[(r, c)] = True\n",
        "  return solution[(len(xs)-1, s)]\n",
        "\n",
        "print(subset_sum(xs, s))\n",
        "print(subset_sum([3, 2, 7], 6))"
      ],
      "execution_count": 116,
      "outputs": [
        {
          "output_type": "stream",
          "text": [
            "True\n",
            "False\n"
          ],
          "name": "stdout"
        }
      ]
    },
    {
      "metadata": {
        "id": "k31jrmjBiU6T",
        "colab_type": "text"
      },
      "cell_type": "markdown",
      "source": [
        "## Longest Common Subsequence\n",
        "A subsequence of a string is a set of characters that appear in the string in the same order, but not necessarily consecurtively. A common subsequence is a subsequence of both strings. Find the longest common subsequence (LCS) of two given strings.\n",
        "\n",
        "It should reminds you of edit distance\n",
        "\n",
        "## Solution\n",
        "- typical 2D dp structure, assume LCS(i1, i2) is the LCS between two substrings s1[:i1+1], s2[:i2+1], then\n",
        "- recursion:\n",
        "  - if s1[n1] == s2[n2], just extend it, L1 = LCS(n1-1, n2-1) + 1\n",
        "  - else L2 = LCS(n1-1, n2) and L3 = LCS(n1, n2-1)\n",
        "  - take the max of three L1, L2, L3 as LCS(n1, n2)\n",
        "- ___LOOK AT THE SAMPLE CODE FROM ROSTTACODE, LEARN HOW TO TRACK THE SOLUTION!___"
      ]
    },
    {
      "metadata": {
        "id": "UDbBqq9Uic5h",
        "colab_type": "code",
        "colab": {
          "autoexec": {
            "startup": false,
            "wait_interval": 0
          }
        }
      },
      "cell_type": "code",
      "source": [
        "def lcs(s1, s2):\n",
        "  n1, n2 = len(s1), len(s2)\n",
        "  solution = [[0 for _ in range(n2)] for _ in range(n1)] # n1 x n2\n",
        "  ## boundary conditions\n",
        "  init = 0\n",
        "  for i2 in range(n2):\n",
        "    if s2[i2] == s1[0]:\n",
        "      init = 1\n",
        "    solution[0][i2] = init\n",
        "  init = 0\n",
        "  for i1 in range(n1):\n",
        "    if s1[i1] == s2[0]:\n",
        "      init = 1\n",
        "    solution[i1][0] = init\n",
        "  ## fill the table by recursion\n",
        "  for i1 in range(1, n1):\n",
        "    for i2 in range(1, n2):\n",
        "      match = s1[i1] == s2[i2]\n",
        "      solution[i1][i2] = max(\n",
        "          solution[i1-1][i2-1] + match,\n",
        "          solution[i1-1][i2],\n",
        "          solution[i1][i2-1]\n",
        "      )\n",
        "      \n",
        "  ## backtrack the solution\n",
        "  l1, l2 = n1-1, n2-1\n",
        "  s = []\n",
        "  while l1 > 0 and l2 > 0:\n",
        "    if solution[l1][l2] == solution[l1-1][l2]:\n",
        "      l1 -= 1\n",
        "    elif solution[l1][l2] == solution[l1][l2-1]:\n",
        "      l2 -= 1\n",
        "    else:\n",
        "      assert s1[l1] == s2[l2] #defensive\n",
        "      s.append(s1[l1])\n",
        "      l1 -= 1\n",
        "      l2 -= 1\n",
        "      \n",
        "  # special case where terminates at boundary\n",
        "  if l1 == 0:\n",
        "    s.append(s1[l1])\n",
        "  elif l2 == 0:\n",
        "    s.append(s2[l2])\n",
        "  s = ''.join(s[::-1])\n",
        "  return s"
      ],
      "execution_count": 0,
      "outputs": []
    },
    {
      "metadata": {
        "id": "MqRNAXLdllc1",
        "colab_type": "code",
        "colab": {
          "autoexec": {
            "startup": false,
            "wait_interval": 0
          },
          "base_uri": "https://localhost:8080/",
          "height": 34
        },
        "outputId": "ff4a7a7b-5b3e-4300-a8f1-b8b752edb93e",
        "executionInfo": {
          "status": "ok",
          "timestamp": 1513000352521,
          "user_tz": -480,
          "elapsed": 1090,
          "user": {
            "displayName": "Li Ma",
            "photoUrl": "https://lh3.googleusercontent.com/a/default-user=s128",
            "userId": "116257498261983262215"
          }
        }
      },
      "cell_type": "code",
      "source": [
        "s1 = 'AAACCGTGAGTTATTCGTTCTAGAA'\n",
        "s2 = 'CACCCCTAAGGTACCTTTGGTTC'\n",
        "\n",
        "# s1 = \"AEBD\"\n",
        "# s2 = \"ABDCC\"\n",
        "\n",
        "\n",
        "# s1 = 'thisisatest'\n",
        "# s2 = 'testing123testing'\n",
        "\n",
        "# s1 = '1234'\n",
        "# s2 = '1224533324'\n",
        "\n",
        "\n",
        "s = lcs(s1, s2)\n",
        "s"
      ],
      "execution_count": 112,
      "outputs": [
        {
          "output_type": "execute_result",
          "data": {
            "text/plain": [
              "'ACCTAGTATTGTTC'"
            ]
          },
          "metadata": {
            "tags": []
          },
          "execution_count": 112
        }
      ]
    },
    {
      "metadata": {
        "id": "bMedztfktkvC",
        "colab_type": "code",
        "colab": {
          "autoexec": {
            "startup": false,
            "wait_interval": 0
          }
        }
      },
      "cell_type": "code",
      "source": [
        "# from http://rosettacode.org/wiki/Longest_common_subsequence#Dynamic_Programming_8\n",
        "def lcs(a, b):\n",
        "    lengths = [[0 for j in range(len(b)+1)] for i in range(len(a)+1)]\n",
        "    # row 0 and column 0 are initialized to 0 already\n",
        "    for i, x in enumerate(a):\n",
        "        for j, y in enumerate(b):\n",
        "            if x == y:\n",
        "                lengths[i+1][j+1] = lengths[i][j] + 1\n",
        "            else:\n",
        "                lengths[i+1][j+1] = max(lengths[i+1][j], lengths[i][j+1])\n",
        "    # read the substring out from the matrix\n",
        "    result = \"\"\n",
        "    x, y = len(a), len(b)\n",
        "    while x != 0 and y != 0:\n",
        "        if lengths[x][y] == lengths[x-1][y]:\n",
        "            x -= 1\n",
        "        elif lengths[x][y] == lengths[x][y-1]:\n",
        "            y -= 1\n",
        "        else:\n",
        "            assert a[x-1] == b[y-1]\n",
        "            result = a[x-1] + result\n",
        "            x -= 1\n",
        "            y -= 1\n",
        "    return result"
      ],
      "execution_count": 0,
      "outputs": []
    },
    {
      "metadata": {
        "id": "kmuWNNTsoRjG",
        "colab_type": "code",
        "colab": {
          "autoexec": {
            "startup": false,
            "wait_interval": 0
          },
          "base_uri": "https://localhost:8080/",
          "height": 34
        },
        "outputId": "ec98de40-bf0e-48f6-a4df-d18dfa214e58",
        "executionInfo": {
          "status": "ok",
          "timestamp": 1512998112190,
          "user_tz": -480,
          "elapsed": 812,
          "user": {
            "displayName": "Li Ma",
            "photoUrl": "https://lh3.googleusercontent.com/a/default-user=s128",
            "userId": "116257498261983262215"
          }
        }
      },
      "cell_type": "code",
      "source": [
        "s1 = 'AAACCGTGAGTTATTCGTTCTAGAA'\n",
        "s2 = 'CACCCCTAAGGTACCTTTGGTTC'\n",
        "lcs(s1, s2)"
      ],
      "execution_count": 59,
      "outputs": [
        {
          "output_type": "execute_result",
          "data": {
            "text/plain": [
              "'ACCTAGTATTGTTC'"
            ]
          },
          "metadata": {
            "tags": []
          },
          "execution_count": 59
        }
      ]
    },
    {
      "metadata": {
        "id": "IjvE4ZJ-sTcg",
        "colab_type": "text"
      },
      "cell_type": "markdown",
      "source": [
        "## Coin Change\n",
        "Given an infinite supply of coins of N different denominations. Find the minimum number of coins that sum up to a umber S.\n",
        "\n",
        "### Solution\n",
        "- Greedy Search doesn't always work, e.g., for coins 1, 2, 5, 10, 12, 20 and change for 35, greedy will gives (20, 12, 2, 1). But the optimal is (20, 10, 5)\n",
        "- typical \"discrete\" NP structure, with recursion:\n",
        "  - if S(n) is the minimum number of coins for n\n",
        "  - S(n) = min(S(n-c)) + 1 for all c in coin set\n",
        "  - boundary conditions S(0) = 0"
      ]
    },
    {
      "metadata": {
        "id": "RSPbPp7T2Pxz",
        "colab_type": "code",
        "colab": {
          "autoexec": {
            "startup": false,
            "wait_interval": 0
          }
        }
      },
      "cell_type": "code",
      "source": [
        "def coin_change(n, coins):\n",
        "  solution = [0 for _ in range(n+1)]\n",
        "  solution[0] = 0\n",
        "  \n",
        "  for i in range(1, n+1):\n",
        "    solution[i] = float('inf')\n",
        "    for c in coins:\n",
        "      if i - c >= 0:\n",
        "        solution[i] = min(solution[i], solution[i-c] + 1)\n",
        "  return solution[n]"
      ],
      "execution_count": 0,
      "outputs": []
    },
    {
      "metadata": {
        "id": "D0MQFkidt2g1",
        "colab_type": "code",
        "colab": {
          "autoexec": {
            "startup": false,
            "wait_interval": 0
          },
          "base_uri": "https://localhost:8080/",
          "height": 34
        },
        "outputId": "d620e533-c289-4e2b-8b56-de4df4e970ad",
        "executionInfo": {
          "status": "ok",
          "timestamp": 1513082082769,
          "user_tz": -480,
          "elapsed": 747,
          "user": {
            "displayName": "Li Ma",
            "photoUrl": "https://lh3.googleusercontent.com/a/default-user=s128",
            "userId": "116257498261983262215"
          }
        }
      },
      "cell_type": "code",
      "source": [
        "coin_change(35, [1, 2, 5, 10, 12, 20])"
      ],
      "execution_count": 9,
      "outputs": [
        {
          "output_type": "execute_result",
          "data": {
            "text/plain": [
              "3"
            ]
          },
          "metadata": {
            "tags": []
          },
          "execution_count": 9
        }
      ]
    },
    {
      "metadata": {
        "id": "VzGegStKt69p",
        "colab_type": "code",
        "colab": {
          "autoexec": {
            "startup": false,
            "wait_interval": 0
          },
          "base_uri": "https://localhost:8080/",
          "height": 34
        },
        "outputId": "28b4c0f9-1448-43a3-d3d0-feb4c103836c",
        "executionInfo": {
          "status": "ok",
          "timestamp": 1513082321797,
          "user_tz": -480,
          "elapsed": 749,
          "user": {
            "displayName": "Li Ma",
            "photoUrl": "https://lh3.googleusercontent.com/a/default-user=s128",
            "userId": "116257498261983262215"
          }
        }
      },
      "cell_type": "code",
      "source": [
        "coin_change(11, [1, 5, 6, 9])"
      ],
      "execution_count": 10,
      "outputs": [
        {
          "output_type": "execute_result",
          "data": {
            "text/plain": [
              "2"
            ]
          },
          "metadata": {
            "tags": []
          },
          "execution_count": 10
        }
      ]
    },
    {
      "metadata": {
        "id": "2XP2IE68u_hb",
        "colab_type": "code",
        "colab": {
          "autoexec": {
            "startup": false,
            "wait_interval": 0
          }
        }
      },
      "cell_type": "code",
      "source": [
        ""
      ],
      "execution_count": 0,
      "outputs": []
    },
    {
      "metadata": {
        "id": "Z7LCTzoGzQrG",
        "colab_type": "text"
      },
      "cell_type": "markdown",
      "source": [
        "## 0-1 Knapsack Problem\n",
        "Given item weights, and their values, and total capacity of knapsack. find the way of carrying most value items. Each item can only be used 0 or once.\n",
        "\n",
        "### Solution\n",
        "- brute force needs to iterate all 2^n subsets, which makes it similar to the subset sum problem.\n",
        "- usually this implies a 2D \"discrete\" DP problem, where transition between states may not be directly from consuecutive states.\n",
        "- ***usually there is a pattern for those problems (and subset sum) where we need to itearting subsets by either including or excluding an item***\n",
        "- define KP(C, n) as optimal solution for capacity C and items[:n+1], then KP(C, n) can be calculated as \n",
        "  - including n, that is, KP(C-weight[n], n-1), and we need to check C-weight[n] is still > 0\n",
        "  - excluding n, that is, KP(C, n-1)\n",
        "  - then take the maximum value of the two\n",
        "- it is best to initialize the solution structure with extra padding, (aka 0 conditions)"
      ]
    },
    {
      "metadata": {
        "id": "hXZOj8_ZzaNT",
        "colab_type": "code",
        "colab": {
          "autoexec": {
            "startup": false,
            "wait_interval": 0
          }
        }
      },
      "cell_type": "code",
      "source": [
        "def KP(capacity, weights, values):\n",
        "  N = len(weights)\n",
        "  C = capacity\n",
        "  assert len(weights) == len(values)\n",
        "  \n",
        "  # this is the max_values\n",
        "  solution = [[0 for _ in range(C+1)] for _ in range(N+1)] # N+1 x C+1\n",
        "  # boundary condition\n",
        "  for c in range(C+1):\n",
        "    solution[0][c] = 0\n",
        "  for i in range(N+1):\n",
        "    solution[i][0] = 0\n",
        "  for i in range(1, N+1):\n",
        "    for c in range(1, C+1):\n",
        "      # exclude i\n",
        "      solution[i][c] = solution[i-1][c]\n",
        "      if c >= weights[i-1]:\n",
        "        solution[i][c] = max(solution[i][c],\n",
        "                            solution[i-1][c-weights[i-1]] + values[i-1])\n",
        "  return solution[N][C]"
      ],
      "execution_count": 0,
      "outputs": []
    },
    {
      "metadata": {
        "id": "AaODf9yl_6YB",
        "colab_type": "code",
        "colab": {
          "autoexec": {
            "startup": false,
            "wait_interval": 0
          },
          "base_uri": "https://localhost:8080/",
          "height": 34
        },
        "outputId": "5b349a4c-9015-4fe1-9f40-2414ec9910bb",
        "executionInfo": {
          "status": "ok",
          "timestamp": 1513086874001,
          "user_tz": -480,
          "elapsed": 773,
          "user": {
            "displayName": "Li Ma",
            "photoUrl": "https://lh3.googleusercontent.com/a/default-user=s128",
            "userId": "116257498261983262215"
          }
        }
      },
      "cell_type": "code",
      "source": [
        "KP(capacity=5, weights=[2, 3, 4, 5], values=[3, 4, 5, 6])"
      ],
      "execution_count": 16,
      "outputs": [
        {
          "output_type": "execute_result",
          "data": {
            "text/plain": [
              "7"
            ]
          },
          "metadata": {
            "tags": []
          },
          "execution_count": 16
        }
      ]
    },
    {
      "metadata": {
        "id": "e2lLY3B0AK2e",
        "colab_type": "code",
        "colab": {
          "autoexec": {
            "startup": false,
            "wait_interval": 0
          },
          "base_uri": "https://localhost:8080/",
          "height": 34
        },
        "outputId": "3f10c359-3e9c-4e29-ee0b-6339ed2a49bd",
        "executionInfo": {
          "status": "ok",
          "timestamp": 1513086926225,
          "user_tz": -480,
          "elapsed": 849,
          "user": {
            "displayName": "Li Ma",
            "photoUrl": "https://lh3.googleusercontent.com/a/default-user=s128",
            "userId": "116257498261983262215"
          }
        }
      },
      "cell_type": "code",
      "source": [
        "KP(capacity=5, weights=[1, 2, 3, 4, 5], values=[50, 30, 4, 5, 6])"
      ],
      "execution_count": 18,
      "outputs": [
        {
          "output_type": "execute_result",
          "data": {
            "text/plain": [
              "80"
            ]
          },
          "metadata": {
            "tags": []
          },
          "execution_count": 18
        }
      ]
    },
    {
      "metadata": {
        "id": "9VtT7s4hCK8-",
        "colab_type": "text"
      },
      "cell_type": "markdown",
      "source": [
        "## Longest Palindromic Subsequence\n",
        "A subsequence is a subset of elements in a sequence with relative orders. They are not necessarily consective. Find the length of longest subsquence that is also a palindrome (xs == reversed(xs))\n",
        "\n",
        "### Solution: it could be either 1D or 2D structure, \n",
        "- lets try 1D first\n",
        "  - assume LPS(n) is the solution that ending with xs[n+1]\n",
        "  - I don't really know how to compute it recursively\n",
        "- remember that the brute-force solution will be iterating all the subset, so that implies a 2D structure (see above the knapsack/subset sum problems)\n",
        "  - assume LPS(s, e) is the solution within xs[s:e+1]\n",
        "  - if xs[s] == xs[e], then LPS(s, e) = LPS(s+1, e-1) + 2\n",
        "  - else LPS(s, e) = max(LPS(s+1, e), LPS(s, e-1))\n",
        "  - base condition: rowwise bottom up, colwise left to right, so it is the last row and first column"
      ]
    },
    {
      "metadata": {
        "id": "me4eq0BkChAB",
        "colab_type": "code",
        "colab": {
          "autoexec": {
            "startup": false,
            "wait_interval": 0
          }
        }
      },
      "cell_type": "code",
      "source": [
        "def longest_palindrome(xs):\n",
        "  N = len(xs)\n",
        "  R, C = N, N\n",
        "  # N x N table, (s, e)\n",
        "  solution = [[0 for _ in range(C)] for _ in range(R)]\n",
        "  # bounary case\n",
        "  for c in range(C):\n",
        "    solution[-1][c] = 0 if c < C-1 else 1\n",
        "  for r in range(R):\n",
        "    solution[r][0] = 0 if r > 0 else 1\n",
        "  for r in range(R-2, -1, -1):\n",
        "    for c in range(1, C):\n",
        "      if r > c: continue\n",
        "      if xs[r] == xs[c]:\n",
        "        solution[r][c] = solution[r+1][c-1] + 1\n",
        "        if r != c:\n",
        "          solution[r][c] += 1\n",
        "      else:\n",
        "        solution[r][c] = max(solution[r+1][c], solution[r][c-1])\n",
        "  print(pd.DataFrame(solution, index=list(xs), columns=list(xs)))\n",
        "  return solution[0][C-1]"
      ],
      "execution_count": 0,
      "outputs": []
    },
    {
      "metadata": {
        "id": "anz577V4I0Cf",
        "colab_type": "code",
        "colab": {
          "autoexec": {
            "startup": false,
            "wait_interval": 0
          },
          "base_uri": "https://localhost:8080/",
          "height": 217
        },
        "outputId": "1580d499-ebd2-4b14-aba1-9f32611551f6",
        "executionInfo": {
          "status": "ok",
          "timestamp": 1513325586215,
          "user_tz": -480,
          "elapsed": 984,
          "user": {
            "displayName": "Li Ma",
            "photoUrl": "https://lh3.googleusercontent.com/a/default-user=s128",
            "userId": "116257498261983262215"
          }
        }
      },
      "cell_type": "code",
      "source": [
        "xs = 'BBABCBCAB'\n",
        "\n",
        "import pandas as pd\n",
        "longest_palindrome(xs)"
      ],
      "execution_count": 35,
      "outputs": [
        {
          "output_type": "stream",
          "text": [
            "   B  B  A  B  C  B  C  A  B\n",
            "B  1  2  2  3  3  5  5  5  7\n",
            "B  0  1  1  3  3  3  3  5  7\n",
            "A  0  0  1  1  1  3  3  5  5\n",
            "B  0  0  0  1  1  3  3  3  5\n",
            "C  0  0  0  0  1  1  3  3  3\n",
            "B  0  0  0  0  0  1  1  1  3\n",
            "C  0  0  0  0  0  0  1  1  1\n",
            "A  0  0  0  0  0  0  0  1  1\n",
            "B  0  0  0  0  0  0  0  0  1\n"
          ],
          "name": "stdout"
        },
        {
          "output_type": "execute_result",
          "data": {
            "text/plain": [
              "7"
            ]
          },
          "metadata": {
            "tags": []
          },
          "execution_count": 35
        }
      ]
    },
    {
      "metadata": {
        "id": "fRVc2JG_I33x",
        "colab_type": "code",
        "colab": {
          "autoexec": {
            "startup": false,
            "wait_interval": 0
          }
        }
      },
      "cell_type": "code",
      "source": [
        ""
      ],
      "execution_count": 0,
      "outputs": []
    }
  ]
}